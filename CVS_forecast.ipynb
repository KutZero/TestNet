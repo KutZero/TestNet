{
 "cells": [
  {
   "cell_type": "code",
   "execution_count": 1,
   "id": "1662e390",
   "metadata": {},
   "outputs": [],
   "source": [
    "from math import sqrt\n",
    "from numpy import concatenate\n",
    "import numpy as np\n",
    "from pandas import read_csv\n",
    "from pandas import DataFrame\n",
    "from pandas import concat\n",
    "from sklearn.preprocessing import MinMaxScaler\n",
    "from sklearn.metrics import mean_squared_error\n",
    "from sklearn.svm import SVR\n",
    "from matplotlib import pyplot\n",
    "\n",
    "from IPython.display import display"
   ]
  },
  {
   "cell_type": "code",
   "execution_count": 2,
   "id": "cd423a26",
   "metadata": {},
   "outputs": [],
   "source": [
    "# convert series to supervised learning\n",
    "def series_to_supervised(data, n_in=1, n_out=1, dropnan=True):\n",
    "    \n",
    "    n_vars = 1 if type(data) is list else data.shape[1] # сколько свойств у вектора наблюдений \n",
    "    #(если это список, то свойств 1)\n",
    "    \n",
    "    print('n_vars: ', n_vars)\n",
    "    \n",
    "    df = DataFrame(data)\n",
    "    cols, names = list(), list()\n",
    "    \n",
    "    # input sequence (t-n, ... t-1)\n",
    "    for i in range(n_in, 0, -1):\n",
    "        cols.append(df.shift(i)) # создание списка датафреймов со сдвигами данных по строкам\n",
    "        names += [f\"var{j+1}(t-{i})\" for j in range(n_vars)] # для каждой переменной \n",
    "        #свое уникальное название внутри кажой строки\n",
    "        \n",
    "    # forecast sequence (t, t+1, ... t+n)\n",
    "    for i in range(0, n_out):\n",
    "        cols.append(df.shift(-i)) # создание списка датафреймов со сдвигами данных по строкам\n",
    "        \n",
    "        if i == 0:\n",
    "            names += [f\"var{j+1}(t)\" for j in range(n_vars)]# для каждой переменной\n",
    "                #свое уникальное название внутри кажой строки\n",
    "        else:\n",
    "            names += [f\"var{j+1}(t+{i})\" for j in range(n_vars)]# для каждой переменной\n",
    "                #свое уникальное название внутри кажой строки\n",
    "            \n",
    "            \n",
    "    # put it all together\n",
    "    print(\"cols[0].type: \", type(cols[0]))\n",
    "    print(\"cols[0].shape: \", cols[0].shape)\n",
    "    #print(\"cols: \", cols)\n",
    "    #display(cols[0])\n",
    "    agg = concat(cols, axis=1) # слепить датафреймы по оси х, (колво строк то же, кол-во столбцов * 6 (144/24))\n",
    "    print(\"agg.type: \", type(agg))\n",
    "    print(\"agg.shape: \", agg.shape)\n",
    "    #display(agg)\n",
    "    #print(\"agg: \", agg)\n",
    "    agg.columns = names # назначить имена всем 144 колонкам\n",
    "    \n",
    "    # drop rows with NaN values (удалить нулевые строки)\n",
    "    # вот тут не понял, у нас в ряд 6 датафреймов в каждом из которых 5,4,3,2,1 нулевые строки нули, \n",
    "    # а в последнем ласт строка - 0. Тогда мы удалим первые 5 строк и последнюю. Но зачем это перечисление (5,4,3,2,1),\n",
    "    # если можно было во всех фреймах 5 строк обнулить через шифты \n",
    "    if dropnan:\n",
    "        agg.dropna(inplace=True)\n",
    "    \n",
    "    #draft = list(agg.keys())\n",
    "    #print('draft: ', draft)\n",
    "    #print('120: ', draft[:120])\n",
    "    #print('last: ', draft[-1])\n",
    "    \n",
    "    return agg"
   ]
  },
  {
   "cell_type": "code",
   "execution_count": 3,
   "id": "724f797d",
   "metadata": {},
   "outputs": [],
   "source": [
    "# load dataset\n",
    "dataset = read_csv('sensordata.csv', header = 0, index_col=0) # чтение данных из файла-таблицы в виде датафрейма, где \n",
    "# за названия столбцов берется 0 строка, а за названгия строк 0 столбец\n",
    "#display(dataset)"
   ]
  },
  {
   "cell_type": "code",
   "execution_count": 4,
   "id": "f84049bc",
   "metadata": {},
   "outputs": [
    {
     "name": "stdout",
     "output_type": "stream",
     "text": [
      "(8641, 24)\n",
      "<class 'numpy.ndarray'>\n"
     ]
    }
   ],
   "source": [
    "values = dataset.values # преобразоваине датасета в np.array\n",
    "print(values.shape)\n",
    "print(type(values))"
   ]
  },
  {
   "cell_type": "code",
   "execution_count": 5,
   "id": "f7652c21",
   "metadata": {},
   "outputs": [
    {
     "name": "stdout",
     "output_type": "stream",
     "text": [
      "[ 0.          0.          0.          0.          0.          0.\n",
      "  0.         17.029       9.05827    17.11009     0.0718869   0.\n",
      "  0.03676387 16.842209   17.9        12.950443   11.607393    0.\n",
      " 13.962175    0.         14.133075    0.         13.941895   11.9       ]\n"
     ]
    }
   ],
   "source": [
    "# ensure all data is float\n",
    "values = values.astype('float32') # приведение всех значений матрицы к типу данных float32\n",
    "print(values[0])"
   ]
  },
  {
   "cell_type": "code",
   "execution_count": 6,
   "id": "2f16c8d5",
   "metadata": {},
   "outputs": [],
   "source": [
    "# normalise features\n",
    "scaler = MinMaxScaler(feature_range=(0,1)) # определение функции нормализации\n",
    "scaled = scaler.fit_transform(values) # передача матрицы в функцию нормализации\n",
    "\n",
    "#print(scaled[0])"
   ]
  },
  {
   "cell_type": "code",
   "execution_count": 7,
   "id": "5f50ef40",
   "metadata": {},
   "outputs": [
    {
     "name": "stdout",
     "output_type": "stream",
     "text": [
      "n_vars:  24\n",
      "cols[0].type:  <class 'pandas.core.frame.DataFrame'>\n",
      "cols[0].shape:  (8641, 24)\n",
      "agg.type:  <class 'pandas.core.frame.DataFrame'>\n",
      "agg.shape:  (8641, 144)\n"
     ]
    }
   ],
   "source": [
    "# frame as supervised learning\n",
    "n_mins = 5 # кол-во строк (минут) используемых для предсказания следующего значения\n",
    "n_features = 24 # кол-во свойств в каждой строке\n",
    "\n",
    "reframed = series_to_supervised(scaled, n_mins, 1) # передаем нормализованную матрицу, \n",
    "#кол-во строк, на основании которых делается предсказание и кол-во предсказываемых строк\n",
    "# и получаем склеенный датафрейм из строк равных колву строк scaled - 6, и 144 столбцами \n",
    "#(последные 24 столбца типо предсказываемое значение)"
   ]
  },
  {
   "cell_type": "code",
   "execution_count": 8,
   "id": "a7ca4eeb",
   "metadata": {},
   "outputs": [
    {
     "name": "stdout",
     "output_type": "stream",
     "text": [
      "(8636, 144)\n"
     ]
    }
   ],
   "source": [
    "# drop columns we don't want to predict\n",
    "print(reframed.shape)"
   ]
  },
  {
   "cell_type": "code",
   "execution_count": 9,
   "id": "d68c85f5",
   "metadata": {},
   "outputs": [
    {
     "name": "stdout",
     "output_type": "stream",
     "text": [
      "(8636, 144)\n",
      "(5760, 144)\n",
      "(2876, 144)\n"
     ]
    }
   ],
   "source": [
    "# split into train and test sets\n",
    "values = reframed.values # преобразование датасета в матрицу numpy\n",
    "print(values.shape)\n",
    "\n",
    "\n",
    "n_train_mins = 4 * 24 * 60 # кол-во строк тренировочной выборки\n",
    "\n",
    "train = values[:n_train_mins, :]\n",
    "print(train.shape)\n",
    "test = values[n_train_mins:, :]\n",
    "\n",
    "print(test.shape)"
   ]
  },
  {
   "cell_type": "code",
   "execution_count": 10,
   "id": "1504f7e9",
   "metadata": {},
   "outputs": [
    {
     "name": "stdout",
     "output_type": "stream",
     "text": [
      "n_obs:  120\n",
      "[0.3592901  0.3592901  0.3592901  ... 0.24100295 0.24463144 0.24497053] [0.24497053 0.24497053 0.24497053 ... 0.35384634 0.35384634 0.35384634]\n",
      "(5760, 120) (5760,) (2876, 120) (2876,)\n"
     ]
    }
   ],
   "source": [
    "# split into input and outputs\n",
    "n_obs = n_mins * n_features\n",
    "print('n_obs: ', n_obs)\n",
    "\n",
    "train_X, train_y = train[:, :n_obs], train[:, -1] # деление на входные тренировочные значения и выходные\n",
    "# Вместо -1 можно брать любое значение var (var1 or var2 or etc)\n",
    "\n",
    "test_X,  test_y =test[:, :n_obs], test[:,-1]  # деление на входные тестовые значения и выходные\n",
    "# Вместо -1 можно брать любое значение var (var1 or var2 or etc)\n",
    "\n",
    "print(train_y,test_y)\n",
    "print(train_X.shape, train_y.shape, test_X.shape, test_y.shape)"
   ]
  },
  {
   "cell_type": "code",
   "execution_count": 11,
   "id": "bd370524",
   "metadata": {},
   "outputs": [],
   "source": [
    "# design svm model\n",
    "clf = SVR()"
   ]
  },
  {
   "cell_type": "code",
   "execution_count": 12,
   "id": "2021b5fd",
   "metadata": {},
   "outputs": [
    {
     "data": {
      "text/plain": [
       "SVR()"
      ]
     },
     "execution_count": 12,
     "metadata": {},
     "output_type": "execute_result"
    }
   ],
   "source": [
    "# fit model\n",
    "clf.fit(train_X, train_y) # Какие параметры можно задавать нужны комментарии ?\n",
    "# есть еще sample_weight, который вроде заранее определяет веса точек (мега мутное определение, но, наверное,\n",
    "#это про то, что точкам, далеким от гиперплоскости можно выставить вес так, чтобы они учитывались в алгоритме)\n",
    "# оригинал \"Per-sample weights. Rescale C per sample. Higher weights force \n",
    "#the classifier to put more emphasis on these points.\""
   ]
  },
  {
   "cell_type": "code",
   "execution_count": 20,
   "id": "6f6d3c26",
   "metadata": {},
   "outputs": [],
   "source": [
    "SVR.fit?"
   ]
  },
  {
   "cell_type": "code",
   "execution_count": 14,
   "id": "52f4e95c",
   "metadata": {},
   "outputs": [
    {
     "name": "stdout",
     "output_type": "stream",
     "text": [
      "(2876, 1) (2876, 120)\n"
     ]
    }
   ],
   "source": [
    "# make a prediction\n",
    "predict_y = clf.predict(test_X)\n",
    "\n",
    "yhat = predict_y.reshape(predict_y.shape[0], 1) # был список чисел, стал список списков чисел по 1 элементу\n",
    "#print('before: ', test_X[0])\n",
    "#test_X = test_X.reshape((test_X.shape[0], n_mins*n_features))\n",
    "#print('after: ', test_X[0])\n",
    "\n",
    "print(yhat.shape, test_X.shape)"
   ]
  },
  {
   "cell_type": "code",
   "execution_count": 15,
   "id": "5b43a933",
   "metadata": {},
   "outputs": [
    {
     "name": "stdout",
     "output_type": "stream",
     "text": [
      "(2876, 23)\n"
     ]
    }
   ],
   "source": [
    "# invert scaling for forecast\n",
    "\n",
    "\n",
    "print(test_X[:, -24:-1].shape)\n",
    "\n",
    "inv_yhat = concatenate((test_X[:, -24:-1], yhat), axis=1) # сделал матрицу из 23 параметров + 1 предсказанный для будущего\n",
    "inv_yhat = scaler.inverse_transform(inv_yhat) # привел к абсолютным величинам\n",
    "\n",
    "inv_yhat = inv_yhat[:,-1] # перечислил столбцы в обратном порядке?"
   ]
  },
  {
   "cell_type": "code",
   "execution_count": 16,
   "id": "4e690636",
   "metadata": {},
   "outputs": [],
   "source": [
    "# invert scaling for actual\n",
    "test_y = test_y.reshape((len(test_y), 1)) # был список чисел, стал список списков чисел по 1 элементу\n",
    "\n",
    "inv_y = concatenate((test_X[:, -24:-1], test_y), axis=1) # сделал матрицу из 23 параметров + 1 эталонный для будущего\n",
    "inv_y = scaler.inverse_transform(inv_y) # привел к абсолютным величинам\n",
    "\n",
    "inv_y = inv_y[:,-1] # перечислил столбцы в обратном порядке?"
   ]
  },
  {
   "cell_type": "code",
   "execution_count": 17,
   "id": "772f6960",
   "metadata": {},
   "outputs": [
    {
     "name": "stdout",
     "output_type": "stream",
     "text": [
      "Test RMSE: 0.924\n"
     ]
    }
   ],
   "source": [
    "# calculate RMSE\n",
    "rmse = sqrt(mean_squared_error(inv_y, inv_yhat)) # считает ошибку по mean_squared_error\n",
    "print('Test RMSE: %.3f' % rmse)"
   ]
  },
  {
   "cell_type": "code",
   "execution_count": 18,
   "id": "f93456cc",
   "metadata": {},
   "outputs": [
    {
     "name": "stdout",
     "output_type": "stream",
     "text": [
      "Test mape: 6\n"
     ]
    }
   ],
   "source": [
    "# calculate MAPE\n",
    "mape = np.mean(np.fabs((inv_y - inv_yhat) / inv_y)) * 100 # средняя разница между правильными и предсказанными значениями?\n",
    "print('Test mape: %d' % mape)"
   ]
  },
  {
   "cell_type": "code",
   "execution_count": 19,
   "id": "f84664b3",
   "metadata": {},
   "outputs": [
    {
     "data": {
      "image/png": "[encoded data removed]",
      "text/plain": [
       "<Figure size 432x288 with 1 Axes>"
      ]
     },
     "metadata": {
      "needs_background": "light"
     },
     "output_type": "display_data"
    }
   ],
   "source": [
    "# plot всякие рисования\n",
    "pyplot.plot([x for x in range(1, inv_yhat.shape[0]+1)], inv_yhat, linestyle='-', color='red', label='prediction')\n",
    "pyplot.plot([x for x in range(1, inv_y.shape[0]+1)], inv_y, linestyle='-', color='blue', label='actual')\n",
    "pyplot.legend(loc=1, prop={'size': 12})\n",
    "pyplot.show()"
   ]
  }
 ],
 "metadata": {
  "kernelspec": {
   "display_name": "Python 3 (ipykernel)",
   "language": "python",
   "name": "python3"
  },
  "language_info": {
   "codemirror_mode": {
    "name": "ipython",
    "version": 3
   },
   "file_extension": ".py",
   "mimetype": "text/x-python",
   "name": "python",
   "nbconvert_exporter": "python",
   "pygments_lexer": "ipython3",
   "version": "3.8.12"
  }
 },
 "nbformat": 4,
 "nbformat_minor": 5
}
