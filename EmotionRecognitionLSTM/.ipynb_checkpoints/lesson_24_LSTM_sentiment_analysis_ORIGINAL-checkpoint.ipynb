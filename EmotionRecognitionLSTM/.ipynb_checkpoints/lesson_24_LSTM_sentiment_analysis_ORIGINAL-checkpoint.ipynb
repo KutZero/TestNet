{
 "cells": [
  {
   "cell_type": "markdown",
   "id": "53866ee8",
   "metadata": {},
   "source": [
    "# Оригинальная сетка с канала selfedu\n",
    "https://www.youtube.com/watch?v=wDwnC0hBJ_A&list=PLA0M1Bcd0w8yv0XGiF1wjerjSZVSrYbjh&index=24\n",
    "\n",
    "Маленький датасет и нет разделения на test и train ноубуки"
   ]
  },
  {
   "cell_type": "code",
   "execution_count": 1,
   "id": "c3ae7a77",
   "metadata": {},
   "outputs": [],
   "source": [
    "import numpy as np\n",
    "import re\n",
    "\n",
    "from tensorflow.keras.layers import Dense, LSTM, Input, Dropout, Embedding\n",
    "from tensorflow.keras.models import Sequential\n",
    "from tensorflow.keras.optimizers import Adam\n",
    "from tensorflow.keras.preprocessing.text import Tokenizer, text_to_word_sequence\n",
    "from tensorflow.keras.preprocessing.sequence import pad_sequences\n",
    "import matplotlib.pyplot as plt"
   ]
  },
  {
   "cell_type": "code",
   "execution_count": 2,
   "id": "44e26502",
   "metadata": {},
   "outputs": [],
   "source": [
    "def sequence_to_text(list_of_indices):\n",
    "    words = [reverse_word_map.get(letter) for letter in list_of_indices]\n",
    "    return(words)"
   ]
  },
  {
   "cell_type": "code",
   "execution_count": 3,
   "id": "2b222705",
   "metadata": {},
   "outputs": [],
   "source": [
    "with open('train_data_true(small data set)', 'r', encoding='utf-8') as f:\n",
    "    texts_true = f.readlines()\n",
    "    texts_true[0] = texts_true[0].replace('\\ufeff', '') #убираем первый невидимый символ\n",
    "\n",
    "with open('train_data_false(small data set)', 'r', encoding='utf-8') as f:\n",
    "    texts_false = f.readlines()\n",
    "    texts_false[0] = texts_false[0].replace('\\ufeff', '') #убираем первый невидимый символ"
   ]
  },
  {
   "cell_type": "code",
   "execution_count": 4,
   "id": "84790ba9",
   "metadata": {},
   "outputs": [
    {
     "name": "stdout",
     "output_type": "stream",
     "text": [
      "84 88 172\n"
     ]
    }
   ],
   "source": [
    "texts = texts_true + texts_false\n",
    "count_true = len(texts_true)\n",
    "count_false = len(texts_false)\n",
    "total_lines = count_true + count_false\n",
    "print(count_true, count_false, total_lines)"
   ]
  },
  {
   "cell_type": "code",
   "execution_count": 5,
   "id": "555ff324",
   "metadata": {},
   "outputs": [
    {
     "name": "stdout",
     "output_type": "stream",
     "text": [
      "{1: 'не', 2: 'и', 3: 'в', 4: 'вы', 5: 'на', 6: 'я', 7: 'а', 8: 'только', 9: 'что', 10: 'все', 11: 'это', 12: 'если', 13: 'жизнь', 14: 'просто', 15: 'с', 16: 'чем', 17: 'никогда', 18: 'чтобы', 19: 'к', 20: 'у', 21: 'больше', 22: 'себя', 23: 'то', 24: 'всегда', 25: 'вас', 26: 'меня', 27: 'за', 28: 'вам', 29: 'когда', 30: 'от', 31: 'мне', 32: 'быть', 33: 'жизни', 34: 'есть', 35: 'но', 36: 'сделать', 37: 'без', 38: 'позитивным', 39: 'никому', 40: 'как', 41: 'ты', 42: 'тем', 43: 'для', 44: 'день', 45: 'позитивное', 46: 'своих', 47: 'мы', 48: 'много', 49: 'тебя', 50: 'никто', 51: 'такой', 52: 'деньги', 53: 'денег', 54: 'позитивно', 55: 'свою', 56: 'которые', 57: 'значит', 58: 'так', 59: 'них', 60: 'мечты', 61: 'нужно', 62: 'того', 63: 'ничего', 64: 'лучше', 65: 'надо', 66: 'верьте', 67: 'понедельник', 68: 'живи', 69: 'позволяйте', 70: 'хорошее', 71: 'можете', 72: 'ваши', 73: 'других', 74: 'делай', 75: 'тебе', 76: 'можешь', 77: 'успеха', 78: 'ваша', 79: 'стоит', 80: 'себе', 81: 'своей', 82: 'их', 83: 'позитив', 84: 'свои', 85: 'о', 86: 'энергию', 87: 'более', 88: 'делать', 89: 'по', 90: 'или', 91: 'нет', 92: 'кто', 93: 'во', 94: 'успеху', 95: 'пусть', 96: 'опасно', 97: 'равно', 98: 'ни', 99: 'же', 100: 'сама', 101: 'болезней', 102: 'подняться', 103: 'жизнью', 104: 'времена', 105: 'величайшим', 106: 'вашей', 107: 'продолжайте', 108: 'двигаться', 109: 'конце', 110: 'сильных', 111: 'людей', 112: 'свет', 113: 'может', 114: 'до', 115: 'настроены', 116: 'иметь', 117: 'хорошую', 118: 'строите', 119: 'эту', 120: 'позитивного', 121: 'отношения', 122: 'чудеса', 123: 'способности', 124: 'достичь', 125: 'оставайся', 126: 'доверяй', 127: 'твой', 128: 'вещи', 129: 'приносят', 130: 'радость', 131: 'верь', 132: 'опыт', 133: 'отношение', 134: 'собираетесь', 135: 'выбор', 136: 'позитивный', 137: 'всю', 138: 'свое', 139: 'время', 140: 'обиды', 141: 'думаете', 142: 'потому', 143: 'каждый', 144: 'позитивные', 145: 'позитивной', 146: 'можем', 147: 'позитивную', 148: 'станет', 149: 'контролируете', 150: 'будьте', 151: 'возможности', 152: 'таланты', 153: 'были', 154: 'из', 155: 'два', 156: 'должен', 157: 'превращай', 158: 'которую', 159: 'стать', 160: 'делает', 161: 'человека', 162: 'нужны', 163: 'либо', 164: 'всем', 165: 'настроем', 166: 'почему', 167: 'позитивность', 168: 'самое', 169: 'главное', 170: 'один', 171: 'сейчас', 172: 'вокруг', 173: 'бы', 174: 'кому', 175: 'нужен', 176: 'внешностью', 177: 'могу', 178: 'точно', 179: 'поэтому', 180: 'даже', 181: 'такая', 182: 'любит', 183: 'плохая', 184: 'мой', 185: 'этого', 186: 'тут', 187: 'этих', 188: 'тогда', 189: 'болею', 190: 'бывает', 191: 'хоть', 192: 'бывают', 193: 'заработать', 194: 'платить', 195: 'богатство', 196: 'зависти', 197: 'думайте', 198: 'способность', 199: 'достигать', 200: 'отличных', 201: 'результатов', 202: 'лучший', 203: 'ответ', 204: 'проблемы', 205: 'возникли', 206: 'смогли', 207: 'постели', 208: 'супер', 209: 'герой', 210: 'твои', 211: 'утренние', 212: 'мысли', 213: 'задают', 214: 'тон', 215: 'всей', 216: 'твоей', 217: 'неделе', 218: 'увидеть', 219: 'становишься', 220: 'сильнее', 221: 'живешь', 222: 'счастливой', 223: 'полноценной', 224: 'утренним', 225: 'проблемам', 226: 'помешать', 227: 'успешным', 228: 'тяжелые', 229: 'часто', 230: 'приводят', 231: 'моментам', 232: 'трудности', 233: 'концов', 234: 'создают', 235: 'независимо', 236: 'через', 237: 'проходите', 238: 'туннеля', 239: 'показаться', 240: 'добраться', 241: 'него', 242: 'сложно', 243: 'сможете', 244: 'говорите', 245: 'хочу', 246: 'реальность', 247: 'принятие', 248: 'ко', 249: 'всему', 250: 'происходящему', 251: 'творить', 252: 'настроение', 253: 'добавляет', 254: 'годы', 255: 'весну', 256: 'вашему', 257: 'шагу', 258: 'искорку', 259: 'ваших', 260: 'глазах', 261: 'природные', 262: 'важны', 263: 'многого', 264: 'целеустремленность', 265: 'окружите', 266: 'позитивными', 267: 'людьми', 268: 'верят', 269: 'поддерживают', 270: 'идеи', 271: 'прости', 272: 'инвестируй', 273: 'своим', 274: 'инстинктам', 275: 'позволяй', 276: 'другим', 277: 'испортить', 278: 'люби', 279: 'иногда', 280: 'лучшее', 281: 'думать', 282: 'удивляться', 283: 'воображать', 284: 'зацикливаться', 285: 'дыши', 286: 'получится', 287: 'лучшему', 288: 'учись', 289: 'приобретай', 290: 'читай', 291: 'впитывай', 292: 'меняйся', 293: 'трансформируйся', 294: 'связывай', 295: 'защищай', 296: 'обещай', 297: 'докажи', 298: 'критикуй', 299: 'поощряй', 300: 'возьми', 301: 'дай', 302: 'увидь', 303: 'почувствуй', 304: 'мечтай', 305: 'достаточно', 306: 'услышать', 307: 'слушай', 308: 'расскажи', 309: 'покажи', 310: 'преданность', 311: 'вера', 312: 'важно', 313: 'добиться', 314: 'настроя', 315: 'благодарного', 316: 'определит', 317: 'прожить', 318: 'заключается', 319: 'том', 320: 'обнадеживающим', 321: 'выбирая', 322: 'оставшуюся', 323: 'тратьте', 324: 'гнев', 325: 'сожаления', 326: 'беспокойства', 327: 'слишком', 328: 'коротка', 329: 'несчастной', 330: 'выходите', 331: 'пределы', 332: 'возможностей', 333: 'намного', 334: 'способны', 335: 'большего', 336: 'знаете', 337: 'потенциала', 338: 'кажется', 339: 'вряд', 340: 'ли', 341: 'узнаете', 342: 'весь', 343: 'свой', 344: 'потенциал', 345: 'будете', 346: 'бросать', 347: 'вызов', 348: 'словно', 349: 'твоя', 350: 'началась', 351: 'посмотрите', 352: 'произойдут', 353: 'становится', 354: 'легче', 355: 'прекраснее', 356: 'видим', 357: 'добро', 358: 'людях', 359: 'беру', 360: 'негативы', 361: 'превращаю', 362: 'держись', 363: 'лучшей', 364: 'приверженным', 365: 'стремлению', 366: 'реализовать', 367: 'жить', 368: 'негативным', 369: 'умом', 370: 'положительный', 371: 'результат', 372: 'позитива', 373: 'всего', 374: 'остального', 375: 'отшутиться', 376: 'привнести', 377: 'нашу', 378: 'повседневную', 379: 'будем', 380: 'улыбаться', 381: 'разговаривать', 382: 'незнакомцами', 383: 'заменять', 384: 'рукопожатия', 385: 'объятиями', 386: 'звонить', 387: 'друзьям', 388: 'сказать', 389: 'им', 390: 'любим', 391: 'меньше', 392: 'реагируете', 393: 'негативных', 394: 'сфокусируйтесь', 395: 'сторонах', 396: 'слабостях', 397: 'сосредоточьтесь', 398: 'личности', 399: 'репутации', 400: 'благословениях', 401: 'несчастьях', 402: 'позитивны', 403: 'каждой', 404: 'идеей', 405: 'питающей', 406: 'подумайте', 407: 'планируете', 408: 'подойдите', 409: 'этому', 410: 'оптимизмом', 411: 'оставайтесь', 412: 'позитиве', 413: 'уникальны', 414: 'разные', 415: 'идти', 416: 'стопам', 417: 'напоминайте', 418: 'делают', 419: 'остальные', 420: 'должны', 421: 'развивать', 422: 'даны', 423: 'старайтесь', 424: 'хорошие', 425: 'дни', 426: 'великими', 427: 'взять', 428: 'положительное', 429: 'тех', 430: 'дней', 431: 'чувствуете', 432: 'хорошо', 433: 'человеком', 434: 'вперед', 435: 'просыпаетесь', 436: 'варианта', 437: 'положительным', 438: 'отрицательным', 439: 'оптимистом', 440: 'пессимистом', 441: 'практически', 442: 'невозможного', 443: 'этом', 444: 'мире', 445: 'сосредоточитесь', 446: 'цели', 447: 'сохраните', 448: 'настрой', 449: 'мгновение', 450: 'отвлекись', 451: 'проблем', 452: 'сосредоточься', 453: 'положительных', 454: 'возможностях', 455: 'подумай', 456: 'победители', 457: 'преддверии', 458: 'мероприятия', 459: 'имеют', 460: 'привычку', 461: 'выдвигать', 462: 'собственные', 463: 'ожидания', 464: 'работай', 465: 'усердно', 466: 'ради', 467: 'чего', 468: 'хочешь', 469: 'оно', 470: 'придет', 471: 'боя', 472: 'сильным', 473: 'смелым', 474: 'зная', 475: 'задумал', 476: 'критикует', 477: 'продолжай', 478: 'верить', 479: 'самая', 480: 'большая', 481: 'стена', 482: 'та', 483: 'своем', 484: 'уме', 485: 'своему', 486: 'разуму', 487: 'отговорить', 488: 'обманом', 489: 'заставить', 490: 'сдаться', 491: 'ему', 492: 'препятствием', 493: 'вашем', 494: 'пути', 495: 'ничто', 496: 'счастливее', 497: 'счастливое', 498: 'сердце', 499: 'скажите', 500: 'сделайте', 501: 'нечто', 502: 'желая', 503: 'помочь', 504: 'ситуации', 505: 'жаловаться', 506: 'мозги', 507: 'изменения', 508: 'рост', 509: 'изменений', 510: 'роста', 511: 'фокусируйтесь', 512: 'негативе', 513: 'смотрите', 514: 'счастье', 515: 'боль', 516: 'печаль', 517: 'слезы', 518: 'бежишь', 519: 'бежит', 520: 'тобой', 521: 'будь', 522: 'смейся', 523: 'над', 524: 'пытайся', 525: 'улучшиться', 526: 'всё', 527: 'негативное', 528: 'идеален', 529: 'вот', 530: 'карандашей', 531: 'ластики', 532: 'побеждает', 533: 'мудрость', 534: 'смотреть', 535: 'будущее', 536: 'прошлое', 537: 'якорь', 538: 'глубине', 539: 'своего', 540: 'сердца', 541: 'суждено', 542: 'совершать', 543: 'великие', 544: 'дела', 545: 'рождаются', 546: 'убеждений', 547: 'одна', 548: 'вещь', 549: 'раз', 550: 'сначала', 551: 'начинай', 552: 'ограничены', 553: 'раздвинуть', 554: 'границы', 555: 'наших', 556: 'ограничений', 557: 'будет', 558: 'вашим', 559: 'вторым', 560: 'именем', 561: 'щитом', 562: 'который', 563: 'защитит', 564: 'стрелы', 565: 'негатива', 566: 'увидите', 567: 'препятствия', 568: 'мышление', 569: 'визуализация', 570: 'моего', 571: 'моими', 572: 'ключами', 573: 'действие', 574: 'сочетании', 575: 'мышлением', 576: 'приводит', 577: 'создать', 578: 'радугу', 579: 'солнечный', 580: 'дождь', 581: 'было', 582: 'радуги', 583: 'худшие', 584: 'могут', 585: 'лучшими', 586: 'хорошим', 587: 'притягиваю', 588: 'плохое', 589: 'обязательно', 590: 'обманут', 591: 'рискнешь', 592: 'высунуться', 593: 'добром', 594: 'кончиться', 595: 'говорила', 596: 'новое', 597: 'неизвестное', 598: 'сделал', 599: 'повезет', 600: 'этим', 601: 'поделать', 602: 'старался', 603: 'судьбы', 604: 'уйдешь', 605: 'повезло', 606: 'родиться', 607: 'бедной', 608: 'семье', 609: 'умру', 610: 'нищим', 611: 'получиться', 612: 'путаю', 613: 'бестолковый', 614: 'выиграть', 615: 'можно', 616: 'пытаться', 617: 'страшная', 618: 'нужна', 619: 'везет', 620: 'память', 621: 'неудачник', 622: 'публично', 623: 'выступить', 624: 'мое', 625: 'карма', 626: 'делал', 627: 'возраст', 628: 'позволяет', 629: 'сяду', 630: 'руль', 631: 'смертельно', 632: 'доверяю', 633: 'понадеешься', 634: 'подведут', 635: 'жизненных', 636: 'препятствий', 637: 'преодолеть', 638: 'уж', 639: 'начинать', 640: 'выздороветь', 641: 'никакие', 642: 'лекарства', 643: 'помогут', 644: 'болячку', 645: 'накликала', 646: 'лишний', 647: 'вес', 648: 'уйдет', 649: 'пробовать', 650: 'толку', 651: 'медитаций', 652: 'потерянное', 653: 'возрастом', 654: 'болячки', 655: 'усиливаются', 656: 'увеличиваются', 657: 'врачам', 658: 'попади', 659: 'сразу', 660: 'найдут', 661: 'кучу', 662: 'врач', 663: 'сможет', 664: 'вылечить', 665: 'мою', 666: 'болезнь', 667: 'хронических', 668: 'еще', 669: 'избавлялся', 670: 'приговор', 671: 'внутреннюю', 672: 'вернешь', 673: 'любят', 674: 'мои', 675: 'дети', 676: 'звонят', 677: 'плохо', 678: 'чувствую', 679: 'позволить', 680: 'фрукты', 681: 'здоровое', 682: 'питание', 683: 'сильно', 684: 'дорого', 685: 'пить', 686: 'воды', 687: 'вредно', 688: 'вчера', 689: 'телевизору', 690: 'показывали', 691: 'мужчины', 692: 'рано', 693: 'поздно', 694: 'изменяют', 695: 'муж', 696: 'держать', 697: 'жену', 698: 'строгости', 699: 'парням', 700: 'одно', 701: 'раньше', 702: 'порядочных', 703: 'девушек', 704: 'осталось', 705: 'доступные', 706: 'свистни', 707: 'койку', 708: 'прыгают', 709: 'любовь', 710: 'фильмах', 711: 'книжках', 712: 'прагматично', 713: 'пожениться', 714: 'начинаются', 715: 'ссора', 716: 'выросла', 717: 'отца', 718: 'дедушки', 719: 'ребенка', 720: 'выращу', 721: 'мужика', 722: 'первым', 723: 'подойду', 724: 'мужской', 725: 'поступок', 726: 'коленях', 727: 'приползет', 728: 'женщина', 729: 'браке', 730: 'следит', 731: 'собой', 732: 'женщины', 733: 'стервы', 734: 'женщинам', 735: 'подавай', 736: 'шопинг', 737: 'блондинки', 738: 'пустоголовые', 739: 'мужики', 740: 'бесчувственные', 741: 'полюбят', 742: 'карьерной', 743: 'лестнице', 744: 'пробиться', 745: 'двигают', 746: 'сто', 747: 'пядей', 748: 'лбу', 749: 'начальник', 750: 'похвалит', 751: 'работе', 752: 'инициатива', 753: 'наказуема', 754: 'бери', 755: 'лишнего', 756: 'подводи', 757: 'коллег', 758: 'нельзя', 759: 'коллективе', 760: 'самым', 761: 'умным', 762: 'работа', 763: 'волк', 764: 'лес', 765: 'убежит', 766: 'последний', 767: 'момент', 768: 'хороших', 769: 'начальников', 770: 'признавайся', 771: 'ошибках', 772: 'накажут', 773: 'сиди', 774: 'помалкивай', 775: 'пока', 776: 'лично', 777: 'поименно', 778: 'прямо', 779: 'спросили', 780: 'помогай', 781: 'добру', 782: 'приведет', 783: 'виноватым', 784: 'будешь', 785: 'любое', 786: 'сказанное', 787: 'слово', 788: 'против', 789: 'обернется', 790: 'полно', 791: 'молодых', 792: 'успешных', 793: 'работать', 794: 'этой', 795: 'профессии', 796: 'столько', 797: 'лет', 798: 'работу', 799: 'устроиться', 800: '3', 801: 'копейки', 802: 'зато', 803: 'раза', 804: 'месяц', 805: 'огромные', 806: 'наживают', 807: 'воровством', 808: 'честные', 809: 'большими', 810: 'добыты', 811: 'обманным', 812: 'путем', 813: 'получку', 814: 'попотеть', 815: 'получено', 816: 'быстро', 817: 'мигом', 818: 'теряется', 819: 'зря', 820: 'говорят', 821: 'бесплатный', 822: 'сыр', 823: 'мышеловке', 824: 'особняки', 825: 'вертолеты', 826: 'воров', 827: 'помощь', 828: 'монетой', 829: 'бескорыстно', 830: 'благотворительность', 831: 'богатых', 832: 'куры', 833: 'клюют', 834: 'помогают', 835: 'умный', 836: 'бедный', 837: 'появляются', 838: 'начинаешь', 839: 'транжирить', 840: 'зло', 841: 'бедность', 842: 'порок', 843: 'добра', 844: 'доведет', 845: 'большие', 846: 'честными', 847: 'портят', 848: 'имеет', 849: 'очень', 850: 'черствеет', 851: 'душа', 852: 'миллион', 853: 'хватит'}\n"
     ]
    }
   ],
   "source": [
    "maxWordsCount = 1000\n",
    "tokenizer = Tokenizer(num_words=maxWordsCount, \n",
    "                      filters='!–\"—#$%&amp;()*+,-./:;<=>?@[\\\\]^_`{|}~\\t\\n\\r«»', \n",
    "                      lower=True, \n",
    "                      split=' ', \n",
    "                      char_level=False)\n",
    "\n",
    "tokenizer.fit_on_texts(texts)\n",
    "\n",
    "reverse_word_map = dict(map(reversed, tokenizer.word_index.items()))\n",
    "print(reverse_word_map)"
   ]
  },
  {
   "cell_type": "code",
   "execution_count": 6,
   "id": "0d61b315",
   "metadata": {},
   "outputs": [
    {
     "name": "stdout",
     "output_type": "stream",
     "text": [
      "[('думайте', 1), ('позитивно', 4), ('и', 50), ('верьте', 3), ('в', 38), ('свою', 4), ('способность', 1), ('достигать', 1), ('отличных', 1), ('результатов', 1)]\n",
      "Думайте позитивно и верьте в свою способность достигать отличных результатов. \n",
      "\n"
     ]
    }
   ],
   "source": [
    "dist = list(tokenizer.word_counts.items())\n",
    "print(dist[:10])\n",
    "print(texts[0][:100])"
   ]
  },
  {
   "cell_type": "code",
   "execution_count": 7,
   "id": "ab726d28",
   "metadata": {},
   "outputs": [
    {
     "name": "stdout",
     "output_type": "stream",
     "text": [
      "[[197  54   2 ... 199 200 201]\n",
      " [  0   4 202 ... 205   3  67]\n",
      " [206   3  67 ...   4 208 209]\n",
      " ...\n",
      " [  0  20  62 ...  53 850 851]\n",
      " [  0   0  43 ...  33   1 853]\n",
      " [  0   0   0 ...  70  65 194]]\n"
     ]
    }
   ],
   "source": [
    "max_text_len = 10\n",
    "data = tokenizer.texts_to_sequences(texts)\n",
    "data_pad = pad_sequences(data, maxlen = max_text_len)\n",
    "print(data_pad)\n",
    "\n",
    "#print( list(tokenizer.word_index.items()) )"
   ]
  },
  {
   "cell_type": "code",
   "execution_count": 8,
   "id": "c37b6a60",
   "metadata": {},
   "outputs": [
    {
     "name": "stdout",
     "output_type": "stream",
     "text": [
      "(172, 10) (172, 2)\n",
      "(172, 10)\n",
      "indeces:  [ 33  76  37 151 107  86 115 171 160  53  75  42   1  65  54 132  71 156\n",
      " 125  96 129 164  60 144 158 136 131  56 152  50  70 162  78  24  82 147\n",
      "  12  69 138 124 120 105  88   3  25  28  15 153  52  81 106 113  40  38\n",
      " 122  17  66  47 141  30 103 118 109  90 163  73  72  39  97 104  10  93\n",
      " 165 123 146  49  21  68  31  89  48  45  13  26  83   7 119   4  36 114\n",
      " 140 167   6  74 154  57 148  98 150  23 108 139  67  64 159 137 145  32\n",
      " 101  61 127   2 149  46  14 135  44   5  80  20  16 121 170   0 169  99\n",
      "  84  79  51 166 111 102 110  19  34 161   9  63  43  95 142  94 117 133\n",
      "  92  27  22 155  58  55 130  35 112 143  59 116 126  91  62 134  29  85\n",
      "  41 157 128  18  87  77 100   8  11 168]\n"
     ]
    }
   ],
   "source": [
    "X = data_pad\n",
    "Y = np.array([[1, 0]]*count_true + [[0, 1]]*count_false)\n",
    "print(X.shape, Y.shape)\n",
    "\n",
    "indeces = np.random.choice(X.shape[0], size=X.shape[0], replace=False)\n",
    "X = X[indeces]\n",
    "Y = Y[indeces]\n",
    "\n",
    "print(data_pad.shape)\n",
    "print(\"indeces: \", indeces)"
   ]
  },
  {
   "cell_type": "code",
   "execution_count": 9,
   "id": "690603d2",
   "metadata": {},
   "outputs": [
    {
     "name": "stdout",
     "output_type": "stream",
     "text": [
      "(172, 10)\n"
     ]
    }
   ],
   "source": [
    "print(X.shape)"
   ]
  },
  {
   "cell_type": "code",
   "execution_count": 10,
   "id": "ba7032d1",
   "metadata": {},
   "outputs": [
    {
     "name": "stdout",
     "output_type": "stream",
     "text": [
      "Model: \"sequential\"\n",
      "_________________________________________________________________\n",
      "Layer (type)                 Output Shape              Param #   \n",
      "=================================================================\n",
      "embedding (Embedding)        (None, 10, 128)           128000    \n",
      "_________________________________________________________________\n",
      "lstm (LSTM)                  (None, 10, 128)           131584    \n",
      "_________________________________________________________________\n",
      "lstm_1 (LSTM)                (None, 64)                49408     \n",
      "_________________________________________________________________\n",
      "dense (Dense)                (None, 2)                 130       \n",
      "=================================================================\n",
      "Total params: 309,122\n",
      "Trainable params: 309,122\n",
      "Non-trainable params: 0\n",
      "_________________________________________________________________\n"
     ]
    }
   ],
   "source": [
    "model = Sequential()\n",
    "model.add(Embedding(maxWordsCount, 128, input_length = max_text_len))\n",
    "model.add(LSTM(128, return_sequences=True))\n",
    "model.add(LSTM(64))\n",
    "model.add(Dense(2, activation='softmax'))\n",
    "model.summary()\n"
   ]
  },
  {
   "cell_type": "code",
   "execution_count": 11,
   "id": "030a85bd",
   "metadata": {},
   "outputs": [],
   "source": [
    "model.compile(loss='categorical_crossentropy', metrics=['accuracy'], optimizer=Adam(0.0001))"
   ]
  },
  {
   "cell_type": "code",
   "execution_count": 12,
   "id": "e55503e9",
   "metadata": {},
   "outputs": [
    {
     "name": "stdout",
     "output_type": "stream",
     "text": [
      "Epoch 1/50\n",
      "5/5 [==============================] - 1s 140ms/step - loss: 0.6944 - accuracy: 0.3904 - val_loss: 0.6928 - val_accuracy: 0.4231\n",
      "Epoch 2/50\n",
      "5/5 [==============================] - 0s 7ms/step - loss: 0.6921 - accuracy: 0.5890 - val_loss: 0.6908 - val_accuracy: 0.6538\n",
      "Epoch 3/50\n",
      "5/5 [==============================] - 0s 6ms/step - loss: 0.6897 - accuracy: 0.7055 - val_loss: 0.6888 - val_accuracy: 0.6154\n",
      "Epoch 4/50\n",
      "5/5 [==============================] - 0s 7ms/step - loss: 0.6875 - accuracy: 0.7123 - val_loss: 0.6864 - val_accuracy: 0.5385\n",
      "Epoch 5/50\n",
      "5/5 [==============================] - 0s 8ms/step - loss: 0.6847 - accuracy: 0.7534 - val_loss: 0.6841 - val_accuracy: 0.5769\n",
      "Epoch 6/50\n",
      "5/5 [==============================] - 0s 8ms/step - loss: 0.6816 - accuracy: 0.7603 - val_loss: 0.6812 - val_accuracy: 0.6538\n",
      "Epoch 7/50\n",
      "5/5 [==============================] - 0s 7ms/step - loss: 0.6782 - accuracy: 0.7945 - val_loss: 0.6774 - val_accuracy: 0.6538\n",
      "Epoch 8/50\n",
      "5/5 [==============================] - 0s 7ms/step - loss: 0.6734 - accuracy: 0.8219 - val_loss: 0.6729 - val_accuracy: 0.6538\n",
      "Epoch 9/50\n",
      "5/5 [==============================] - 0s 7ms/step - loss: 0.6676 - accuracy: 0.8425 - val_loss: 0.6672 - val_accuracy: 0.6538\n",
      "Epoch 10/50\n",
      "5/5 [==============================] - 0s 7ms/step - loss: 0.6602 - accuracy: 0.8562 - val_loss: 0.6595 - val_accuracy: 0.6538\n",
      "Epoch 11/50\n",
      "5/5 [==============================] - 0s 7ms/step - loss: 0.6501 - accuracy: 0.8562 - val_loss: 0.6497 - val_accuracy: 0.6538\n",
      "Epoch 12/50\n",
      "5/5 [==============================] - 0s 7ms/step - loss: 0.6372 - accuracy: 0.8562 - val_loss: 0.6372 - val_accuracy: 0.6923\n",
      "Epoch 13/50\n",
      "5/5 [==============================] - 0s 6ms/step - loss: 0.6210 - accuracy: 0.8562 - val_loss: 0.6211 - val_accuracy: 0.6923\n",
      "Epoch 14/50\n",
      "5/5 [==============================] - 0s 6ms/step - loss: 0.6007 - accuracy: 0.8493 - val_loss: 0.6013 - val_accuracy: 0.7308\n",
      "Epoch 15/50\n",
      "5/5 [==============================] - 0s 7ms/step - loss: 0.5765 - accuracy: 0.8493 - val_loss: 0.5787 - val_accuracy: 0.7308\n",
      "Epoch 16/50\n",
      "5/5 [==============================] - 0s 7ms/step - loss: 0.5509 - accuracy: 0.8493 - val_loss: 0.5544 - val_accuracy: 0.7308\n",
      "Epoch 17/50\n",
      "5/5 [==============================] - 0s 8ms/step - loss: 0.5259 - accuracy: 0.8630 - val_loss: 0.5310 - val_accuracy: 0.7308\n",
      "Epoch 18/50\n",
      "5/5 [==============================] - 0s 7ms/step - loss: 0.4965 - accuracy: 0.8699 - val_loss: 0.5152 - val_accuracy: 0.7308\n",
      "Epoch 19/50\n",
      "5/5 [==============================] - 0s 8ms/step - loss: 0.4722 - accuracy: 0.8699 - val_loss: 0.5010 - val_accuracy: 0.7692\n",
      "Epoch 20/50\n",
      "5/5 [==============================] - 0s 8ms/step - loss: 0.4462 - accuracy: 0.8699 - val_loss: 0.4900 - val_accuracy: 0.8077\n",
      "Epoch 21/50\n",
      "5/5 [==============================] - 0s 7ms/step - loss: 0.4206 - accuracy: 0.8767 - val_loss: 0.4814 - val_accuracy: 0.8462\n",
      "Epoch 22/50\n",
      "5/5 [==============================] - 0s 7ms/step - loss: 0.3931 - accuracy: 0.8767 - val_loss: 0.4772 - val_accuracy: 0.8462\n",
      "Epoch 23/50\n",
      "5/5 [==============================] - 0s 7ms/step - loss: 0.3661 - accuracy: 0.8904 - val_loss: 0.4732 - val_accuracy: 0.8462\n",
      "Epoch 24/50\n",
      "5/5 [==============================] - 0s 6ms/step - loss: 0.3394 - accuracy: 0.8973 - val_loss: 0.4713 - val_accuracy: 0.8462\n",
      "Epoch 25/50\n",
      "5/5 [==============================] - 0s 6ms/step - loss: 0.3147 - accuracy: 0.9041 - val_loss: 0.4730 - val_accuracy: 0.8462\n",
      "Epoch 26/50\n",
      "5/5 [==============================] - 0s 6ms/step - loss: 0.2897 - accuracy: 0.9110 - val_loss: 0.4739 - val_accuracy: 0.8462\n",
      "Epoch 27/50\n",
      "5/5 [==============================] - 0s 6ms/step - loss: 0.2659 - accuracy: 0.9110 - val_loss: 0.4761 - val_accuracy: 0.8462\n",
      "Epoch 28/50\n",
      "5/5 [==============================] - 0s 6ms/step - loss: 0.2438 - accuracy: 0.9110 - val_loss: 0.4805 - val_accuracy: 0.8462\n",
      "Epoch 29/50\n",
      "5/5 [==============================] - 0s 6ms/step - loss: 0.2233 - accuracy: 0.9247 - val_loss: 0.4877 - val_accuracy: 0.8462\n",
      "Epoch 30/50\n",
      "5/5 [==============================] - 0s 7ms/step - loss: 0.2036 - accuracy: 0.9315 - val_loss: 0.4966 - val_accuracy: 0.8462\n",
      "Epoch 31/50\n",
      "5/5 [==============================] - 0s 6ms/step - loss: 0.1847 - accuracy: 0.9521 - val_loss: 0.5074 - val_accuracy: 0.8462\n",
      "Epoch 32/50\n",
      "5/5 [==============================] - 0s 6ms/step - loss: 0.1678 - accuracy: 0.9521 - val_loss: 0.5197 - val_accuracy: 0.8077\n",
      "Epoch 33/50\n",
      "5/5 [==============================] - 0s 6ms/step - loss: 0.1533 - accuracy: 0.9521 - val_loss: 0.5411 - val_accuracy: 0.8077\n",
      "Epoch 34/50\n",
      "5/5 [==============================] - 0s 6ms/step - loss: 0.1391 - accuracy: 0.9658 - val_loss: 0.5562 - val_accuracy: 0.8077\n",
      "Epoch 35/50\n",
      "5/5 [==============================] - 0s 6ms/step - loss: 0.1255 - accuracy: 0.9658 - val_loss: 0.5700 - val_accuracy: 0.8077\n",
      "Epoch 36/50\n",
      "5/5 [==============================] - 0s 6ms/step - loss: 0.1127 - accuracy: 0.9658 - val_loss: 0.5807 - val_accuracy: 0.8077\n",
      "Epoch 37/50\n",
      "5/5 [==============================] - 0s 6ms/step - loss: 0.1014 - accuracy: 0.9795 - val_loss: 0.5978 - val_accuracy: 0.7692\n",
      "Epoch 38/50\n",
      "5/5 [==============================] - 0s 6ms/step - loss: 0.0925 - accuracy: 0.9795 - val_loss: 0.6143 - val_accuracy: 0.7692\n",
      "Epoch 39/50\n",
      "5/5 [==============================] - 0s 6ms/step - loss: 0.0835 - accuracy: 0.9795 - val_loss: 0.6463 - val_accuracy: 0.7692\n",
      "Epoch 40/50\n",
      "5/5 [==============================] - 0s 6ms/step - loss: 0.0778 - accuracy: 0.9795 - val_loss: 0.6619 - val_accuracy: 0.7692\n",
      "Epoch 41/50\n",
      "5/5 [==============================] - 0s 6ms/step - loss: 0.0696 - accuracy: 0.9795 - val_loss: 0.6575 - val_accuracy: 0.7308\n",
      "Epoch 42/50\n",
      "5/5 [==============================] - 0s 6ms/step - loss: 0.0630 - accuracy: 0.9795 - val_loss: 0.6560 - val_accuracy: 0.7308\n",
      "Epoch 43/50\n",
      "5/5 [==============================] - 0s 6ms/step - loss: 0.0608 - accuracy: 0.9795 - val_loss: 0.6602 - val_accuracy: 0.7308\n",
      "Epoch 44/50\n",
      "5/5 [==============================] - 0s 6ms/step - loss: 0.0564 - accuracy: 0.9795 - val_loss: 0.6815 - val_accuracy: 0.7308\n",
      "Epoch 45/50\n",
      "5/5 [==============================] - 0s 6ms/step - loss: 0.0510 - accuracy: 0.9795 - val_loss: 0.7097 - val_accuracy: 0.7308\n",
      "Epoch 46/50\n",
      "5/5 [==============================] - 0s 7ms/step - loss: 0.0491 - accuracy: 0.9932 - val_loss: 0.7419 - val_accuracy: 0.6923\n",
      "Epoch 47/50\n",
      "5/5 [==============================] - 0s 6ms/step - loss: 0.0460 - accuracy: 0.9932 - val_loss: 0.7303 - val_accuracy: 0.7308\n",
      "Epoch 48/50\n",
      "5/5 [==============================] - 0s 6ms/step - loss: 0.0432 - accuracy: 0.9863 - val_loss: 0.7289 - val_accuracy: 0.7308\n",
      "Epoch 49/50\n",
      "5/5 [==============================] - 0s 6ms/step - loss: 0.0408 - accuracy: 0.9932 - val_loss: 0.7514 - val_accuracy: 0.7308\n",
      "Epoch 50/50\n",
      "5/5 [==============================] - 0s 6ms/step - loss: 0.0389 - accuracy: 0.9932 - val_loss: 0.7847 - val_accuracy: 0.6923\n"
     ]
    }
   ],
   "source": [
    "history = model.fit(X, Y, batch_size=32, epochs=50, validation_split=0.15)"
   ]
  },
  {
   "cell_type": "code",
   "execution_count": 13,
   "id": "b7db8e4f",
   "metadata": {},
   "outputs": [],
   "source": [
    "#reverse_word_map = dict(map(reversed, tokenizer.word_index.items()))"
   ]
  },
  {
   "cell_type": "code",
   "execution_count": 14,
   "id": "821d2e64",
   "metadata": {},
   "outputs": [
    {
     "name": "stdout",
     "output_type": "stream",
     "text": [
      "[[360]]\n",
      "['негативы']\n",
      "[[0.22921918 0.7707808 ]]\n",
      "1\n"
     ]
    }
   ],
   "source": [
    "t = \"негативы\".lower()\n",
    "data = tokenizer.texts_to_sequences([t])\n",
    "print(data)\n",
    "data_pad = pad_sequences(data, maxlen=max_text_len)\n",
    "print( sequence_to_text(data[0]) )\n",
    "\n",
    "res = model.predict(data_pad)\n",
    "print(res, np.argmax(res), sep='\\n')"
   ]
  },
  {
   "cell_type": "code",
   "execution_count": 15,
   "id": "65071adb",
   "metadata": {},
   "outputs": [
    {
     "data": {
      "image/png": "[encoded data removed]",
      "text/plain": [
       "<Figure size 432x288 with 1 Axes>"
      ]
     },
     "metadata": {
      "needs_background": "light"
     },
     "output_type": "display_data"
    }
   ],
   "source": [
    "# Вывод графика изменения ошибки\n",
    "plt.plot(history.history['accuracy'])\n",
    "plt.plot(history.history['val_accuracy'])\n",
    "plt.title('model accuracy')\n",
    "plt.ylabel('accuracy')\n",
    "plt.xlabel('epoch')\n",
    "plt.legend(['train', 'val'], loc = 'upper left')\n",
    "plt.show()"
   ]
  },
  {
   "cell_type": "code",
   "execution_count": 16,
   "id": "19348a33",
   "metadata": {},
   "outputs": [
    {
     "data": {
      "image/png": "[encoded data removed]",
      "text/plain": [
       "<Figure size 432x288 with 1 Axes>"
      ]
     },
     "metadata": {
      "needs_background": "light"
     },
     "output_type": "display_data"
    }
   ],
   "source": [
    "# Вывод графика изменения ошибки\n",
    "plt.plot(history.history['loss'])\n",
    "plt.plot(history.history['val_loss'])\n",
    "plt.title('model loss')\n",
    "plt.ylabel('loss')\n",
    "plt.xlabel('epoch')\n",
    "plt.legend(['train', 'val'], loc = 'upper left')\n",
    "plt.show()"
   ]
  },
  {
   "cell_type": "code",
   "execution_count": null,
   "id": "bffa550f",
   "metadata": {},
   "outputs": [],
   "source": []
  }
 ],
 "metadata": {
  "kernelspec": {
   "display_name": "Python 3 (ipykernel)",
   "language": "python",
   "name": "python3"
  },
  "language_info": {
   "codemirror_mode": {
    "name": "ipython",
    "version": 3
   },
   "file_extension": ".py",
   "mimetype": "text/x-python",
   "name": "python",
   "nbconvert_exporter": "python",
   "pygments_lexer": "ipython3",
   "version": "3.8.12"
  }
 },
 "nbformat": 4,
 "nbformat_minor": 5
}
