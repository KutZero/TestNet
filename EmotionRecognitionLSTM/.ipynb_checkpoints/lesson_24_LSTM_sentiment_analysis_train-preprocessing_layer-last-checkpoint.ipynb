{
 "cells": [
  {
   "cell_type": "code",
   "execution_count": 1,
   "id": "c3ae7a77",
   "metadata": {},
   "outputs": [],
   "source": [
    "import numpy as np\n",
    "import re\n",
    "import matplotlib.pyplot as plt\n",
    "import tensorflow as tf\n",
    "import pandas as pd\n",
    "import os\n",
    "\n",
    "from IPython.display import display\n",
    "from tensorflow.keras.layers import Dense, LSTM, Input, Dropout, Embedding\n",
    "from tensorflow.keras.models import Sequential\n",
    "from tensorflow.keras.optimizers import Adam\n",
    "from tensorflow.keras.preprocessing.text import Tokenizer, text_to_word_sequence\n",
    "from tensorflow.keras.preprocessing.sequence import pad_sequences\n",
    "from tensorflow import keras"
   ]
  },
  {
   "cell_type": "code",
   "execution_count": 2,
   "id": "69a60d94",
   "metadata": {},
   "outputs": [],
   "source": [
    "# детерминация случайных величин, отвечающих за выбор первоначальных весов и биасов\n",
    "tf.compat.v1.set_random_seed(290)\n",
    "tf.random.set_seed(290)\n",
    "np.random.seed(400)"
   ]
  },
  {
   "cell_type": "code",
   "execution_count": 3,
   "id": "c3f8f6f1",
   "metadata": {},
   "outputs": [],
   "source": [
    "path_to_positive_data = 'positive.csv' # путь к файлу, из которого берутся данные для обучения\n",
    "path_to_negative_data = 'negative.csv'\n",
    "\n",
    "path_to_processed_positive_data = \"my_pos_text.csv\"\n",
    "path_to_processed_negative_data = \"my_neg_text.csv\"\n",
    "\n",
    "target = 'text' # название взятой величины из файла"
   ]
  },
  {
   "cell_type": "code",
   "execution_count": 4,
   "id": "ff10edc9",
   "metadata": {},
   "outputs": [],
   "source": [
    "#///////////////////////////////// для колбэков\n",
    "\n",
    "    # для Early_stopping\n",
    "ES_patience = 20 # кол-во эпох без улучшений\n",
    "ES_min_delta = 0.001 # минимальное улучшение параметра за cur_patience\n",
    "ES_monitor_parametr =  'val_loss' # отслеживаемый параметр \n",
    "ES_save_best_weights = True # сохранять ли веса нейронки с лучшими результатами\n",
    "    \n",
    "    # для ReduceLROnPlateau\n",
    "RLPOP_monitor_parametr = 'loss'  # отслеживаемый параметр \n",
    "RLPOP_factor = 0.1 # множитель для расчета нового шага сходимости (new_learning_rate = old_learning_rate*RLPOP_factor)\n",
    "RLPOP_patience = 15 # кол-во эпох без улучшений\n",
    "RLPOP_verbose = 1 # выводить ли прогресс изменения шага сходимости в его процессее\n",
    "RLPOP_mode = 'auto' # выбирает, уменьшать шаг сходимости при росте величины или при её уменьшении\n",
    "RLPOP_min_delta = 0.0001 # порог изменения отслеживаемого значения\n",
    "RLPOP_cooldown = 0 # количество эпох до возобновления работы после изменения шага сходимости\n",
    "RLPOP_min_lr = 0 # минимальное значение шага сходимости\n",
    "\n",
    "    # для CallbackList\n",
    "CBL_add_history = True # вызывать ли колбэк History (если он не был довавлен вручную)\n",
    "CBL_add_progbar = True # вызывать ли колбэк ProgbarLogger (если он не был довавлен вручную)\n",
    "    \n",
    "maxWordsCount = 6000 #15000\n",
    "max_text_len = 10\n",
    "FIT_batch_size = 800 #1200 #1600 #1000 #250 #400 #500 #500 #10 #8 #15"
   ]
  },
  {
   "cell_type": "code",
   "execution_count": 5,
   "id": "1aa63867",
   "metadata": {},
   "outputs": [],
   "source": [
    "# разделить данные на тренировочные и тестовые\n",
    "def split(X,Y,factor):\n",
    "    X_train=X[:factor]\n",
    "    Y_train=Y[:factor]\n",
    "    X_test=X[factor:]\n",
    "    Y_test=Y[factor:]\n",
    "    return X_train,Y_train,X_test,Y_test"
   ]
  },
  {
   "cell_type": "code",
   "execution_count": 6,
   "id": "7ad4068d",
   "metadata": {},
   "outputs": [],
   "source": [
    "# извлечь датасет из файла\n",
    "def get_df(path, target_name = '2', serarator = ',', col_names = ['1','2']):\n",
    "    \n",
    "    file = pd.read_csv(path, sep = serarator, names = col_names)\n",
    "    dframe = pd.DataFrame(file[target_name])\n",
    "    return dframe"
   ]
  },
  {
   "cell_type": "code",
   "execution_count": 7,
   "id": "7e392bd1",
   "metadata": {},
   "outputs": [],
   "source": [
    "def remove_english(df):\n",
    "    temp = list()\n",
    "    for index, row in df.iterrows():\n",
    "        temp.append(\"\".join([w for w in row[target] if not re.match(r'[A-Z]+', w, re.I)]))\n",
    "    return temp"
   ]
  },
  {
   "cell_type": "code",
   "execution_count": 8,
   "id": "9eb60335",
   "metadata": {},
   "outputs": [
    {
     "name": "stdout",
     "output_type": "stream",
     "text": [
      "pos_text:  ['@_ хоть я и школота, но поверь, у нас то же самое : общество профилирующий предмет типа)'\n",
      " 'Да, все-таки он немного похож на него. Но мой мальчик все равно лучше:'\n",
      " ' @: Ну ты идиотка) я испугалась за тебя!!!'\n",
      " ' @2912: \"Кто то в углу сидит и погибает от голода, а мы ещё 2 порции взяли, хотя уже и так жрать не хотим\" : ://./62…'\n",
      " '@_ Вот что значит страшилка :\\r\\nНо блин,посмотрев все части,у тебя создастся ощущение,что авторы курили что-то :'\n",
      " 'ну любишь или нет? — Я не знаю кто ты бля: ://./916'\n",
      " ' @: Ох,900 : ну это конечно же @ . Чтобы у нее было много друзей, ведь она такая мимими &;3'\n",
      " ' @: У тебя есть ухажёр? Нет - мои уши не кто не жрёт :'\n",
      " 'Поприветствуем моего нового читателя @1789 ;)'\n",
      " 'Теперь у меня есть частичка Сиднея :) # # ://./3']\n",
      "neg_text:  ['на работе был полный пиддес :| и так каждое закрытие месяца, я же свихнусь так :'\n",
      " 'Коллеги сидят рубятся в  , а я из-за долбанной винды не могу :('\n",
      " '@_4 как говорят обещаного три года ждут...(('\n",
      " 'Желаю хорошего полёта и удачной посадки,я буду очень сильно скучать( ://./3'\n",
      " 'Обновил за каким-то лешим , теперь не работает простоплеер :('\n",
      " 'Котёнка вчера носик разбила, плакала и расстраивалась :('\n",
      " '@ @_55 @_ Зашли, а то он опять затихарился, я прямо физически страдаю, когда он долго молчит!((('\n",
      " 'а вообще я не болею -  я не выздоравливаю :('\n",
      " 'я микрофраза :( учимся срать кирпичами в режиме &;;нон-стоп&;; @'\n",
      " 'я хочу с тобой помириться , но сука я гордая и никогда этого не сделаю! (((']\n"
     ]
    }
   ],
   "source": [
    "# если оригинальный датасет не обрабатывался - обработать и создать новый\n",
    "temp_names = [\"id\",\"name\",\"text\",\"her1\",\"her2\",\"her3\",\n",
    "                  \"her4\",\"her5\",\"her6\",\"her7\",\"her8\"] # названия колонок для ориг датасета \n",
    "\n",
    "if not os.path.exists(path_to_processed_positive_data):\n",
    "    pos_df = get_df(path_to_positive_data, target, \";\", temp_names)\n",
    "    \n",
    "    pos_text = remove_english(pos_df)\n",
    "    pos_df = pd.DataFrame(pos_text)\n",
    "    \n",
    "    pos_df.to_csv(path_to_processed_positive_data, header = False)\n",
    "else:\n",
    "    pos_df = get_df(path_to_processed_positive_data)\n",
    "    pos_text = pos_df['2'].values.tolist()\n",
    "    \n",
    "# если оригинальный датасет не обрабатывался - обработать и создать новый    \n",
    "if not os.path.exists(path_to_processed_negative_data):\n",
    "    neg_df = get_df(path_to_negative_data, target, \";\", temp_names)\n",
    "    \n",
    "    neg_text = remove_english(neg_df)\n",
    "    neg_df = pd.DataFrame(neg_text)\n",
    "    \n",
    "    neg_df.to_csv(path_to_processed_negative_data, header = False)\n",
    "else:\n",
    "    neg_df = get_df(path_to_processed_negative_data)\n",
    "    neg_text = neg_df['2'].values.tolist()\n",
    "\n",
    "print(\"pos_text: \", np.array(pos_text[:10]))\n",
    "print(\"neg_text: \", np.array(neg_text[:10]))"
   ]
  },
  {
   "cell_type": "code",
   "execution_count": 9,
   "id": "84790ba9",
   "metadata": {},
   "outputs": [
    {
     "name": "stdout",
     "output_type": "stream",
     "text": [
      "pos_text_num:  114911 \n",
      "neg_text_num:  111923 \n",
      "all_text_num:  226834\n"
     ]
    }
   ],
   "source": [
    "texts = pos_text + neg_text\n",
    "count_true = len(pos_text)\n",
    "count_false = len(neg_text)\n",
    "total_lines = count_true + count_false\n",
    "print(\n",
    "    \"pos_text_num: \", count_true, \n",
    "    \"\\nneg_text_num: \", count_false,\n",
    "    \"\\nall_text_num: \", total_lines)"
   ]
  },
  {
   "cell_type": "code",
   "execution_count": 10,
   "id": "c37b6a60",
   "metadata": {},
   "outputs": [
    {
     "name": "stdout",
     "output_type": "stream",
     "text": [
      "(226834,) (226834,)\n",
      "indeces:  [ 48642 208321  32328 ... 198974  69071 119132]\n",
      "train:  (181467,) (181467,) <class 'numpy.ndarray'> <class 'numpy.ndarray'>\n",
      "test:  (45367,) (45367,) <class 'numpy.ndarray'> <class 'numpy.ndarray'>\n",
      "Планшет шалит. Перемещает картинки из одной папки в другую. У меня фото Уэя в фартучке в папке с котятами. Хотя стойте, все правильно: 1\n",
      "мои съёмки постоянно куда то переносятся.\n",
      "я когда нибудь отщелкаю пленку? Мю:( 0\n",
      " @_: Ну поймёт только лучшая подруга :) 1\n",
      "@ @ бизнес с друзьями заводить нельзя :( 0\n",
      " @_: Настя подари мне щастья подари мне радость подари любовь :\n",
      "Азазаза 1\n"
     ]
    }
   ],
   "source": [
    "X_data = np.array(texts)\n",
    "\n",
    "Y_data = np.array([1]*count_true + [0]*count_false)\n",
    "print(X_data.shape, Y_data.shape)\n",
    "\n",
    "indeces = np.random.choice(X_data.shape[0], size = X_data.shape[0], replace=False)\n",
    "\n",
    "print(\"indeces: \", indeces)\n",
    "\n",
    "X_data = X_data[indeces]\n",
    "Y_data = Y_data[indeces]\n",
    "\n",
    "factor = int(.80 * X_data.shape[0])\n",
    "\n",
    "X_train,Y_train,X_test,Y_test = split(X_data,Y_data,factor)\n",
    "\n",
    "print(\"train: \", X_train.shape, Y_train.shape, type(X_train), type(Y_train))\n",
    "print(\"test: \", X_test.shape, Y_test.shape, type(X_test), type(Y_test))\n",
    "\n",
    "for x in range(5):\n",
    "    print(X_train[x], Y_train[x])"
   ]
  },
  {
   "cell_type": "code",
   "execution_count": 11,
   "id": "690603d2",
   "metadata": {},
   "outputs": [],
   "source": [
    "#print(X.shape)\n",
    "#LSTM?\n",
    "#Sequential.compile?\n",
    "#equential.fit?"
   ]
  },
  {
   "cell_type": "code",
   "execution_count": 12,
   "id": "ba7032d1",
   "metadata": {},
   "outputs": [
    {
     "name": "stdout",
     "output_type": "stream",
     "text": [
      "Model: \"sequential\"\n",
      "_________________________________________________________________\n",
      "Layer (type)                 Output Shape              Param #   \n",
      "=================================================================\n",
      "text_vectorization (TextVect (None, 10)                0         \n",
      "_________________________________________________________________\n",
      "embedding (Embedding)        (None, 10, 64)            384000    \n",
      "_________________________________________________________________\n",
      "lstm (LSTM)                  (None, 10, 64)            33024     \n",
      "_________________________________________________________________\n",
      "lstm_1 (LSTM)                (None, 16)                5184      \n",
      "_________________________________________________________________\n",
      "dense (Dense)                (None, 1)                 17        \n",
      "=================================================================\n",
      "Total params: 422,225\n",
      "Trainable params: 422,225\n",
      "Non-trainable params: 0\n",
      "_________________________________________________________________\n"
     ]
    }
   ],
   "source": [
    "#Sequential model с преобработкой\n",
    "vectproc = tf.keras.layers.experimental.preprocessing.TextVectorization( #tf.keras.layers.TextVectorization(\n",
    "    max_tokens = maxWordsCount, \n",
    "    standardize = 'lower_and_strip_punctuation',\n",
    "    split = 'whitespace',\n",
    "    output_mode = 'int',\n",
    "    output_sequence_length = max_text_len,\n",
    "    )\n",
    "\n",
    "text_dataset = tf.data.Dataset.from_tensor_slices(texts)\n",
    "\n",
    "vectproc.adapt(text_dataset.batch(64))\n",
    "\n",
    "model = tf.keras.models.Sequential()\n",
    "\n",
    "model.add(Input(shape=(1,), dtype=tf.string))\n",
    "model.add(vectproc)\n",
    "model.add(Embedding(maxWordsCount, output_dim = 64, input_length = max_text_len)) #128\n",
    "#model.add(LSTM(units = 128, return_sequences = True, dropout = 0.3))\n",
    "model.add(LSTM(units = 64, return_sequences = True, dropout = 0.4))\n",
    "model.add(LSTM(units = 16, dropout = 0.4))\n",
    "model.add(Dense(units = 1, activation='sigmoid'))\n",
    "model.summary()"
   ]
  },
  {
   "cell_type": "code",
   "execution_count": 13,
   "id": "fc68b59e",
   "metadata": {},
   "outputs": [],
   "source": [
    "# Создание и настройка колбэков\n",
    "callback_list = [] # массив колбэков до подачи в колбек \"callbacklist\"\n",
    "\n",
    "temp = keras.callbacks.EarlyStopping(\n",
    "            monitor = ES_monitor_parametr, \n",
    "            min_delta = ES_min_delta, \n",
    "            patience = ES_patience,\n",
    "            restore_best_weights = ES_save_best_weights\n",
    "            )\n",
    "callback_list.append(temp)\n",
    "\n",
    "temp = keras.callbacks.ReduceLROnPlateau(\n",
    "            monitor = RLPOP_monitor_parametr, \n",
    "            factor = RLPOP_factor, \n",
    "            patience = RLPOP_patience, \n",
    "            verbose = RLPOP_verbose,\n",
    "            mode = RLPOP_mode, \n",
    "            min_delta = RLPOP_min_delta, \n",
    "            cooldown = RLPOP_cooldown, \n",
    "            min_lr = RLPOP_min_lr\n",
    "            )\n",
    "callback_list.append(temp)\n",
    "\n",
    "FIT_callback_list = keras.callbacks.CallbackList(\n",
    "            callbacks = callback_list, \n",
    "            add_history = CBL_add_history, \n",
    "            add_progbar = CBL_add_progbar, \n",
    "            model = model\n",
    "            )"
   ]
  },
  {
   "cell_type": "code",
   "execution_count": 14,
   "id": "030a85bd",
   "metadata": {},
   "outputs": [],
   "source": [
    "model.compile(loss = 'binary_crossentropy',#'mean_squared_error', \n",
    "              metrics=['accuracy'], \n",
    "              # learning_rate = 0.1\n",
    "              optimizer = tf.keras.optimizers.SGD(learning_rate = 0.2, momentum = 0.8, nesterov = True)) #0.1))#0.08))\n",
    "#tf.keras.optimizers.SGD(learning_rate = 0.01)) #0.01\n",
    "# tf.keras.optimizers.SGD(learning_rate = 0.0001)) #0.05)) #Adam(0.0003)) #'categorical_crossentropy'"
   ]
  },
  {
   "cell_type": "code",
   "execution_count": 15,
   "id": "4936374e",
   "metadata": {},
   "outputs": [],
   "source": [
    "#tf.keras.models.Sequential.fit?"
   ]
  },
  {
   "cell_type": "code",
   "execution_count": 16,
   "id": "e55503e9",
   "metadata": {},
   "outputs": [
    {
     "name": "stdout",
     "output_type": "stream",
     "text": [
      "193/193 [==============================] - 15s 78ms/step - loss: 0.6855 - accuracy: 0.5501 - val_loss: 0.6762 - val_accuracy: 0.5789\n",
      "193/193 [==============================] - 14s 73ms/step - loss: 0.6683 - accuracy: 0.5949 - val_loss: 0.6546 - val_accuracy: 0.6135\n",
      "193/193 [==============================] - 14s 75ms/step - loss: 0.6489 - accuracy: 0.6222 - val_loss: 0.6351 - val_accuracy: 0.6383\n",
      "193/193 [==============================] - 15s 75ms/step - loss: 0.6360 - accuracy: 0.6377 - val_loss: 0.6428 - val_accuracy: 0.6228\n",
      "193/193 [==============================] - 14s 74ms/step - loss: 0.6246 - accuracy: 0.6517 - val_loss: 0.6640 - val_accuracy: 0.6057\n",
      "193/193 [==============================] - 14s 75ms/step - loss: 0.6163 - accuracy: 0.6601 - val_loss: 0.6882 - val_accuracy: 0.6021\n",
      "193/193 [==============================] - 14s 73ms/step - loss: 0.6082 - accuracy: 0.6662 - val_loss: 0.6007 - val_accuracy: 0.6754\n",
      "193/193 [==============================] - 14s 71ms/step - loss: 0.6015 - accuracy: 0.6712 - val_loss: 0.5944 - val_accuracy: 0.6805\n",
      "193/193 [==============================] - 14s 75ms/step - loss: 0.5902 - accuracy: 0.6824 - val_loss: 0.6215 - val_accuracy: 0.6521\n",
      "193/193 [==============================] - 14s 73ms/step - loss: 0.5837 - accuracy: 0.6872 - val_loss: 0.5882 - val_accuracy: 0.6817\n",
      "193/193 [==============================] - 14s 74ms/step - loss: 0.5787 - accuracy: 0.6919 - val_loss: 0.5869 - val_accuracy: 0.6850\n",
      "193/193 [==============================] - 14s 75ms/step - loss: 0.5727 - accuracy: 0.6973 - val_loss: 0.5801 - val_accuracy: 0.6903\n",
      "193/193 [==============================] - 14s 73ms/step - loss: 0.5680 - accuracy: 0.7011 - val_loss: 0.6053 - val_accuracy: 0.6681\n",
      "193/193 [==============================] - 14s 74ms/step - loss: 0.5664 - accuracy: 0.7023 - val_loss: 0.5804 - val_accuracy: 0.6910\n",
      "193/193 [==============================] - 14s 73ms/step - loss: 0.5622 - accuracy: 0.7060 - val_loss: 0.5854 - val_accuracy: 0.6850\n",
      "193/193 [==============================] - 14s 74ms/step - loss: 0.5593 - accuracy: 0.7070 - val_loss: 0.5852 - val_accuracy: 0.6849\n",
      "193/193 [==============================] - 14s 72ms/step - loss: 0.5582 - accuracy: 0.7074 - val_loss: 0.5756 - val_accuracy: 0.6961\n",
      "193/193 [==============================] - 14s 72ms/step - loss: 0.5554 - accuracy: 0.7099 - val_loss: 0.5737 - val_accuracy: 0.6972\n",
      "193/193 [==============================] - 14s 72ms/step - loss: 0.5531 - accuracy: 0.7127 - val_loss: 0.5756 - val_accuracy: 0.6957\n",
      "193/193 [==============================] - 14s 72ms/step - loss: 0.5513 - accuracy: 0.7129 - val_loss: 0.5766 - val_accuracy: 0.6935\n",
      "193/193 [==============================] - 14s 71ms/step - loss: 0.5511 - accuracy: 0.7126 - val_loss: 0.5821 - val_accuracy: 0.6915\n",
      "193/193 [==============================] - 14s 72ms/step - loss: 0.5491 - accuracy: 0.7144 - val_loss: 0.5722 - val_accuracy: 0.6950\n",
      "193/193 [==============================] - 14s 73ms/step - loss: 0.5475 - accuracy: 0.7161 - val_loss: 0.5735 - val_accuracy: 0.6964\n",
      "193/193 [==============================] - 14s 71ms/step - loss: 0.5456 - accuracy: 0.7169 - val_loss: 0.5723 - val_accuracy: 0.6967\n",
      "193/193 [==============================] - 14s 71ms/step - loss: 0.5444 - accuracy: 0.7168 - val_loss: 0.5738 - val_accuracy: 0.6955\n",
      "193/193 [==============================] - 14s 72ms/step - loss: 0.5434 - accuracy: 0.7184 - val_loss: 0.5748 - val_accuracy: 0.6965\n",
      "193/193 [==============================] - 14s 72ms/step - loss: 0.5419 - accuracy: 0.7176 - val_loss: 0.5722 - val_accuracy: 0.6960\n",
      "193/193 [==============================] - 14s 72ms/step - loss: 0.5406 - accuracy: 0.7195 - val_loss: 0.5745 - val_accuracy: 0.6970\n",
      "193/193 [==============================] - 14s 73ms/step - loss: 0.5393 - accuracy: 0.7212 - val_loss: 0.5729 - val_accuracy: 0.6973\n",
      "193/193 [==============================] - 14s 73ms/step - loss: 0.5375 - accuracy: 0.7215 - val_loss: 0.5802 - val_accuracy: 0.6898\n",
      "193/193 [==============================] - 14s 73ms/step - loss: 0.5363 - accuracy: 0.7236 - val_loss: 0.5722 - val_accuracy: 0.6971\n",
      "193/193 [==============================] - 14s 71ms/step - loss: 0.5347 - accuracy: 0.7240 - val_loss: 0.5779 - val_accuracy: 0.6950\n",
      "193/193 [==============================] - 14s 71ms/step - loss: 0.5336 - accuracy: 0.7237 - val_loss: 0.5719 - val_accuracy: 0.6952\n",
      "193/193 [==============================] - 14s 73ms/step - loss: 0.5323 - accuracy: 0.7256 - val_loss: 0.5765 - val_accuracy: 0.6942\n",
      "193/193 [==============================] - 14s 72ms/step - loss: 0.5309 - accuracy: 0.7260 - val_loss: 0.5848 - val_accuracy: 0.6872\n",
      "193/193 [==============================] - 14s 73ms/step - loss: 0.5293 - accuracy: 0.7275 - val_loss: 0.5783 - val_accuracy: 0.6937\n",
      "193/193 [==============================] - 16s 84ms/step - loss: 0.5282 - accuracy: 0.7278 - val_loss: 0.5767 - val_accuracy: 0.6948\n",
      "193/193 [==============================] - 14s 73ms/step - loss: 0.5263 - accuracy: 0.7285 - val_loss: 0.5764 - val_accuracy: 0.6927\n",
      "193/193 [==============================] - 14s 74ms/step - loss: 0.5254 - accuracy: 0.7295 - val_loss: 0.5793 - val_accuracy: 0.6924\n",
      "193/193 [==============================] - 14s 74ms/step - loss: 0.5241 - accuracy: 0.7300 - val_loss: 0.5753 - val_accuracy: 0.6920\n",
      "193/193 [==============================] - 14s 73ms/step - loss: 0.5221 - accuracy: 0.7314 - val_loss: 0.5778 - val_accuracy: 0.6906\n",
      "193/193 [==============================] - 14s 71ms/step - loss: 0.5203 - accuracy: 0.7322 - val_loss: 0.5840 - val_accuracy: 0.6928\n"
     ]
    }
   ],
   "source": [
    "history = model.fit(X_train, \n",
    "                    Y_train, \n",
    "                    batch_size = FIT_batch_size, \n",
    "                    shuffle = True, \n",
    "                    verbose = 1, \n",
    "                    epochs = 100, #100, #30, \n",
    "                    validation_split = 0.15,\n",
    "                    #steps_per_epoch = 3000,\n",
    "                    callbacks = FIT_callback_list)"
   ]
  },
  {
   "cell_type": "code",
   "execution_count": 17,
   "id": "f6b795f6",
   "metadata": {},
   "outputs": [],
   "source": [
    "#Sequential.fit?"
   ]
  },
  {
   "cell_type": "code",
   "execution_count": 18,
   "id": "b7db8e4f",
   "metadata": {},
   "outputs": [],
   "source": [
    "#reverse_word_map = dict(map(reversed, tokenizer.word_index.items()))"
   ]
  },
  {
   "cell_type": "code",
   "execution_count": 25,
   "id": "821d2e64",
   "metadata": {},
   "outputs": [
    {
     "name": "stdout",
     "output_type": "stream",
     "text": [
      "Maybe[Положительно] [0.6205]  ==  Right[Положительно]\t Я ТЕБЯ БУМ БУМ БУМ : — ТЫ МЕНЯ БУМ БУМ БУМ : ://./21\n",
      "Maybe[Положительно] [0.5380]      Right[Отрицательно]\t Будь я мужчиной геем и причем русским,я бы не осмелилась пожениться с мужчиной,потому что Россия страна гомофобов((( ://./76\n",
      "Maybe[Положительно] [0.7992]  ==  Right[Положительно]\t Россол   с утра отличная вещь после бурного вечера)\n",
      "Maybe[Положительно] [0.7017]  ==  Right[Положительно]\t @_ Ну я прям и не знаю кому из вас верить ;) ://./\n",
      "Maybe[Положительно] [0.5619]  ==  Right[Положительно]\t бумажный скотч спасет мир!мне не чем было зафиксировать бинт вокруг пальца и тут пришел ОН - бумажный скотч!))\n",
      "Maybe[Отрицательно] [0.3432]  ==  Right[Отрицательно]\t Хух,так переживаю!!!Наче  Шепард від мене йде, а не від Грей(((((ппц((\n",
      "Maybe[Отрицательно] [0.2889]  ==  Right[Отрицательно]\t  @: Пополнили коллекцию кошек. Теперь приходится слушать мявканье целый день и ночь:(\n",
      "Maybe[Отрицательно] [0.1055]  ==  Right[Отрицательно]\t Очень обидно, когда рукав можно стереть мочалкой :-(((\n",
      "Maybe[Положительно] [0.5824]      Right[Отрицательно]\t Единственная хорошая вещь-зачет по информатике. Но мы больше не увидим Сергея Сергеевича :(\n",
      "Maybe[Отрицательно] [0.0927]  ==  Right[Отрицательно]\t @_ а у нас физики не было:( мне так обидно стало\n",
      "Maybe[Положительно] [0.7058]  ==  Right[Положительно]\t @ никаких колебаний))) все ровно))) на бум бум,значит на бум бум)))\n",
      "Maybe[Положительно] [0.8802]      Right[Отрицательно]\t @ ой, а кстати, как твое творчество там поживает хоть? Очень скучаю за твоими работами :(\n",
      "Maybe[Положительно] [0.7530]  ==  Right[Положительно]\t @2584 @ @ @_ @_ спасибо:3 и тебе добра))\n",
      "Maybe[Отрицательно] [0.4420]      Right[Положительно]\t Жвачка Орбит — укрепляет не только зубы, но и парты в школе) ://./3\n",
      "Maybe[Положительно] [0.6675]  ==  Right[Положительно]\t Добрый день) / Как ваш понедельник? ://./3\n",
      "Maybe[Отрицательно] [0.4938]      Right[Положительно]\t вообщем что хотела сделать придя домой,так и не сделала)\n",
      "_______________\n",
      "в этом вся Я:\n",
      "Maybe[Положительно] [0.5961]  ==  Right[Положительно]\t \"Это платье на мне плохо сидит\" - \"Да,на фото как-то кривовато\".Да,Тань?)\n",
      "Maybe[Отрицательно] [0.1985]  ==  Right[Отрицательно]\t Ну вот опять начался тот период когда всем насрать на тебя(\n",
      "Maybe[Отрицательно] [0.0440]  ==  Right[Отрицательно]\t ибо мне хреново:( #\n",
      "Maybe[Отрицательно] [0.1738]  ==  Right[Отрицательно]\t наверное грустно там работать  @: \"МАЗ останавливает работу\". что-то мне это напоминает(\n",
      "Maybe[Отрицательно] [0.0799]  ==  Right[Отрицательно]\t Почему я такой монстр?! \n",
      "Я не хочу не кому делать больно, но получается как то само собой!(\n",
      "Почему я такой человек?!\n",
      "Maybe[Отрицательно] [0.2002]  ==  Right[Отрицательно]\t Чёрт побери, завтра- понедельник!.. _ #такиеделабро ://./2908\n",
      "Maybe[Отрицательно] [0.1576]      Right[Положительно]\t Только первый день катка, а меня уже бесит буфетчица... Она чуть не украла мои деньги хорошо, что все за меня заступились:)\n",
      "Maybe[Отрицательно] [0.2839]  ==  Right[Отрицательно]\t  @_: Путину и Медведеву хватает зарплаты ://./87\n",
      "Maybe[Отрицательно] [0.4453]  ==  Right[Отрицательно]\t почему правду не могу сказать((хотя может это и к лучшему.......\n",
      "Maybe[Положительно] [0.6082]  ==  Right[Положительно]\t нельзя бить, а вот из дробовика шмальнуть иногда можно по-моему!))) ://./613\n",
      "Maybe[Положительно] [0.5644]      Right[Отрицательно]\t Я люблю свою пятерку вк, только на половину:((((((((((((\n",
      "Maybe[Положительно] [0.5947]  ==  Right[Положительно]\t надо значит идти в инет кафе за новыми подкастами, или подождать, пока радиот выйдет))\n",
      "Maybe[Отрицательно] [0.3276]  ==  Right[Отрицательно]\t @__69 боюсь вас расстроить\n",
      "Я молилась за марвина :(\n",
      "Maybe[Отрицательно] [0.0774]  ==  Right[Отрицательно]\t Я опять в режиме \"ничего не успеваю и вечно хочу спать\"...(\n",
      "Maybe[Отрицательно] [0.4581]      Right[Положительно]\t вот на этом красавце я сегодня рассекала по Арье. а потом проснулась))) пока что самый лучший сон за последнее время) ://./708\n",
      "Maybe[Положительно] [0.7576]      Right[Отрицательно]\t  @: какие журналисты такие и вопросы(\n",
      "Maybe[Положительно] [0.5330]  ==  Right[Положительно]\t Я,например,ещё не прощался))) Как и другие,кого я читаю.\n",
      "Maybe[Отрицательно] [0.4673]      Right[Положительно]\t  @_: На улице так красиво!Снега много много)\n",
      "Maybe[Отрицательно] [0.3752]  ==  Right[Отрицательно]\t @ Соболездравляю! Мне тоже скоро предстоит( Наркоз за рулём не мешает? Получается ртом говорить?\n",
      "Maybe[Отрицательно] [0.2604]  ==  Right[Отрицательно]\t Меня ломает без спорт зала :( хочу делать жим, приседать, качать бицепс и ноги. Чувствую себя овощем, когда этого не делаю.\n",
      "Maybe[Отрицательно] [0.0692]  ==  Right[Отрицательно]\t  @: @ @_ оох ужас :( держись братююнь :3\n",
      "Maybe[Положительно] [0.6281]      Right[Отрицательно]\t Сходила на каток,жаль,что раньше не было времени. Надо почаще выбираться,только вот разбитая коленка портит впечатления((\n",
      "Maybe[Отрицательно] [0.4791]  ==  Right[Отрицательно]\t Я еще сс не дочитала, а уже начали рандом выкладывать т.т С дайри так неудобно читать((((\n",
      "Maybe[Положительно] [0.6475]  ==  Right[Положительно]\t @ @ @_ сильная женщина!)\n"
     ]
    }
   ],
   "source": [
    "for x in range(40): \n",
    "    \n",
    "    a = np.array([X_test[x]])\n",
    "    \n",
    "    #print(a)\n",
    "    \n",
    "    res = model.predict(a)  \n",
    "    \n",
    "    #print(res) \n",
    "    \n",
    "    mark = \"Положительно\" if np.mean(res) > 0.5 else \"Отрицательно\"\n",
    "    mark2 = \"Положительно\" if Y_test[x] == 1 else \"Отрицательно\"\n",
    "    equal = \"==\" if mark == mark2 else \"  \"\n",
    "    \n",
    "    print((f\"Maybe[{mark}] [%.4f] \" % np.mean(res)) , equal , f\" Right[{mark2}]\\t\" , X_test[x])\n"
   ]
  },
  {
   "cell_type": "code",
   "execution_count": 20,
   "id": "65071adb",
   "metadata": {},
   "outputs": [
    {
     "data": {
      "image/png": "[encoded data removed]",
      "text/plain": [
       "<Figure size 432x288 with 1 Axes>"
      ]
     },
     "metadata": {
      "needs_background": "light"
     },
     "output_type": "display_data"
    }
   ],
   "source": [
    "# Вывод графика изменения ошибки\n",
    "plt.plot(history.history['accuracy'])\n",
    "plt.plot(history.history['val_accuracy'])\n",
    "plt.title('model accuracy')\n",
    "plt.ylabel('accuracy')\n",
    "plt.xlabel('epoch')\n",
    "plt.legend(['train', 'val'], loc = 'upper left')\n",
    "plt.show()"
   ]
  },
  {
   "cell_type": "code",
   "execution_count": 21,
   "id": "4b287f96",
   "metadata": {},
   "outputs": [
    {
     "name": "stdout",
     "output_type": "stream",
     "text": [
      "57/57 [==============================] - 2s 27ms/step - loss: 0.5690 - accuracy: 0.6979\n"
     ]
    },
    {
     "data": {
      "text/plain": [
       "[0.5689572095870972, 0.6978641152381897]"
      ]
     },
     "execution_count": 21,
     "metadata": {},
     "output_type": "execute_result"
    }
   ],
   "source": [
    "# тест модели\n",
    "model.evaluate(X_test, Y_test, batch_size = FIT_batch_size)"
   ]
  },
  {
   "cell_type": "code",
   "execution_count": 22,
   "id": "19348a33",
   "metadata": {},
   "outputs": [
    {
     "data": {
      "image/png": "[encoded data removed]",
      "text/plain": [
       "<Figure size 432x288 with 1 Axes>"
      ]
     },
     "metadata": {
      "needs_background": "light"
     },
     "output_type": "display_data"
    }
   ],
   "source": [
    "# Вывод графика изменения ошибки\n",
    "plt.plot(history.history['loss'])\n",
    "plt.plot(history.history['val_loss'])\n",
    "plt.title('model loss')\n",
    "plt.ylabel('loss')\n",
    "plt.xlabel('epoch')\n",
    "plt.legend(['train', 'val'], loc = 'upper left')\n",
    "plt.show()"
   ]
  },
  {
   "cell_type": "code",
   "execution_count": 23,
   "id": "bffa550f",
   "metadata": {},
   "outputs": [
    {
     "name": "stdout",
     "output_type": "stream",
     "text": [
      "mark [Положительно]\n",
      "res:  [[0.8706106]]\n",
      "res[0,0]:  0.8706106\n"
     ]
    }
   ],
   "source": [
    "t = \"если вы просто посмотрите на жизнь позитивно произойдут позитивные вещи\"\n",
    "\n",
    "a = list()\n",
    "a.append(t)\n",
    "a = np.array(a)\n",
    "\n",
    "#res = model.predict(data_pad)\n",
    "res = model.predict(a)\n",
    "\n",
    "mark = \"Положительно\" if np.mean(res) > 0.5 else \"отрицательно\"\n",
    "\n",
    "print(f\"mark [{mark}]\")\n",
    "print(\"res: \", res)\n",
    "print(\"res[0,0]: \", res[0,0])"
   ]
  },
  {
   "cell_type": "code",
   "execution_count": 24,
   "id": "2f051385",
   "metadata": {},
   "outputs": [
    {
     "name": "stdout",
     "output_type": "stream",
     "text": [
      "mark [отрицательно]\n",
      "res:  [[0.03905198]]\n",
      "res[0,0]:  0.03905198\n"
     ]
    }
   ],
   "source": [
    "t = \"это просто ужасно плохо противно не хорошо\"\n",
    "\n",
    "a = list()\n",
    "a.append(t)\n",
    "a = np.array(a)\n",
    "\n",
    "#res = model.predict(data_pad)\n",
    "res = model.predict(a)\n",
    "\n",
    "mark = \"Положительно\" if np.mean(res) > 0.5 else \"отрицательно\"\n",
    "\n",
    "print(f\"mark [{mark}]\")\n",
    "print(\"res: \", res)\n",
    "print(\"res[0,0]: \", res[0,0])"
   ]
  },
  {
   "cell_type": "code",
   "execution_count": null,
   "id": "90fe2ab5",
   "metadata": {},
   "outputs": [],
   "source": []
  }
 ],
 "metadata": {
  "kernelspec": {
   "display_name": "Python 3 (ipykernel)",
   "language": "python",
   "name": "python3"
  },
  "language_info": {
   "codemirror_mode": {
    "name": "ipython",
    "version": 3
   },
   "file_extension": ".py",
   "mimetype": "text/x-python",
   "name": "python",
   "nbconvert_exporter": "python",
   "pygments_lexer": "ipython3",
   "version": "3.8.12"
  }
 },
 "nbformat": 4,
 "nbformat_minor": 5
}
