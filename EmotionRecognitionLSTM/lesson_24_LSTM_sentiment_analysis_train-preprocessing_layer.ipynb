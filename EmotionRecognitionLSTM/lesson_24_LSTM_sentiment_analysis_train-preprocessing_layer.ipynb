{
 "cells": [
  {
   "cell_type": "code",
   "execution_count": 1,
   "id": "c3ae7a77",
   "metadata": {},
   "outputs": [],
   "source": [
    "import numpy as np\n",
    "import re\n",
    "import matplotlib.pyplot as plt\n",
    "import tensorflow as tf\n",
    "\n",
    "from tensorflow.keras.layers import Dense, LSTM, Input, Dropout, Embedding\n",
    "from tensorflow.keras.models import Sequential\n",
    "from tensorflow.keras.optimizers import Adam\n",
    "from tensorflow.keras.preprocessing.text import Tokenizer, text_to_word_sequence\n",
    "from tensorflow.keras.preprocessing.sequence import pad_sequences\n",
    "from tensorflow import keras"
   ]
  },
  {
   "cell_type": "code",
   "execution_count": 2,
   "id": "69a60d94",
   "metadata": {},
   "outputs": [],
   "source": [
    "# детерминация случайных величин, отвечающих за выбор первоначальных весов и биасов\n",
    "tf.compat.v1.set_random_seed(290)\n",
    "tf.random.set_seed(290)\n",
    "np.random.seed(400)"
   ]
  },
  {
   "cell_type": "code",
   "execution_count": 3,
   "id": "ff10edc9",
   "metadata": {},
   "outputs": [],
   "source": [
    "#///////////////////////////////// для колбэков\n",
    "\n",
    "    # для Early_stopping\n",
    "ES_patience = 20 # кол-во эпох без улучшений\n",
    "ES_min_delta = 0.001 # минимальное улучшение параметра за cur_patience\n",
    "ES_monitor_parametr =  'loss' # отслеживаемый параметр \n",
    "ES_save_best_weights = True # сохранять ли веса нейронки с лучшими результатами\n",
    "    \n",
    "    # для ReduceLROnPlateau\n",
    "RLPOP_monitor_parametr = 'val_loss'  # отслеживаемый параметр \n",
    "RLPOP_factor = 0.1 # множитель для расчета нового шага сходимости (new_learning_rate = old_learning_rate*RLPOP_factor)\n",
    "RLPOP_patience = 10 # кол-во эпох без улучшений\n",
    "RLPOP_verbose = 1 # выводить ли прогресс изменения шага сходимости в его процессее\n",
    "RLPOP_mode = 'auto' # выбирает, уменьшать шаг сходимости при росте величины или при её уменьшении\n",
    "RLPOP_min_delta = 0.0001 # порог изменения отслеживаемого значения\n",
    "RLPOP_cooldown = 0 # количество эпох до возобновления работы после изменения шага сходимости\n",
    "RLPOP_min_lr = 0 # минимальное значение шага сходимости\n",
    "\n",
    "    # для CallbackList\n",
    "CBL_add_history = True # вызывать ли колбэк History (если он не был довавлен вручную)\n",
    "CBL_add_progbar = True # вызывать ли колбэк ProgbarLogger (если он не был довавлен вручную)\n",
    "    \n",
    "maxWordsCount = 1000\n",
    "max_text_len = 10\n",
    "FIT_batch_size = 10 #8 #15"
   ]
  },
  {
   "cell_type": "code",
   "execution_count": 4,
   "id": "1aa63867",
   "metadata": {},
   "outputs": [],
   "source": [
    "# разделить данные на тренировочные и тестовые\n",
    "def split(X,Y,factor):\n",
    "    X_train=X[:factor]\n",
    "    Y_train=Y[:factor]\n",
    "    X_test=X[factor:]\n",
    "    Y_test=Y[factor:]\n",
    "    return X_train,Y_train,X_test,Y_test"
   ]
  },
  {
   "cell_type": "code",
   "execution_count": 5,
   "id": "2b222705",
   "metadata": {},
   "outputs": [],
   "source": [
    "with open('train_data_true', 'r', encoding='utf-8') as f:\n",
    "    texts_true = f.readlines()\n",
    "    texts_true[0] = texts_true[0].replace('\\ufeff', '') #убираем первый невидимый символ\n",
    "\n",
    "with open('train_data_false', 'r', encoding='utf-8') as f:\n",
    "    texts_false = f.readlines()\n",
    "    texts_false[0] = texts_false[0].replace('\\ufeff', '') #убираем первый невидимый символ"
   ]
  },
  {
   "cell_type": "code",
   "execution_count": 6,
   "id": "84790ba9",
   "metadata": {},
   "outputs": [
    {
     "name": "stdout",
     "output_type": "stream",
     "text": [
      "84 88 172\n"
     ]
    }
   ],
   "source": [
    "texts = texts_true + texts_false\n",
    "count_true = len(texts_true)\n",
    "count_false = len(texts_false)\n",
    "total_lines = count_true + count_false\n",
    "print(count_true, count_false, total_lines)"
   ]
  },
  {
   "cell_type": "code",
   "execution_count": 7,
   "id": "c37b6a60",
   "metadata": {},
   "outputs": [
    {
     "name": "stdout",
     "output_type": "stream",
     "text": [
      "(172,) (172,)\n",
      "train:  (137,) (137,) <class 'numpy.ndarray'> <class 'numpy.ndarray'>\n",
      "test:  (35,) (35,) <class 'numpy.ndarray'> <class 'numpy.ndarray'>\n"
     ]
    }
   ],
   "source": [
    "X_data = np.array(texts)\n",
    "\n",
    "Y_data = np.array([1]*count_true + [0]*count_false)\n",
    "print(X_data.shape, Y_data.shape)\n",
    "\n",
    "indeces = np.random.choice(X_data.shape[0], size = X_data.shape[0], replace=False)\n",
    "#print(indeces)\n",
    "X_data = X_data[indeces]\n",
    "Y_data = Y_data[indeces]\n",
    "\n",
    "factor = int(.80 * X_data.shape[0])\n",
    "\n",
    "X_train,Y_train,X_test,Y_test = split(X_data,Y_data,factor)\n",
    "\n",
    "print(\"train: \", X_train.shape, Y_train.shape, type(X_train), type(Y_train))\n",
    "print(\"test: \", X_test.shape, Y_test.shape, type(X_test), type(Y_test))\n"
   ]
  },
  {
   "cell_type": "code",
   "execution_count": 8,
   "id": "690603d2",
   "metadata": {},
   "outputs": [],
   "source": [
    "#print(X.shape)\n",
    "#LSTM?\n",
    "#Sequential.compile?\n",
    "#equential.fit?"
   ]
  },
  {
   "cell_type": "code",
   "execution_count": 9,
   "id": "ba7032d1",
   "metadata": {},
   "outputs": [],
   "source": [
    "#Sequential model с преобработкой\n",
    "#tf.keras.layers.experimental.preprocessing.TextVectorization?\n",
    "\n",
    "vectproc = tf.keras.layers.experimental.preprocessing.TextVectorization( #tf.keras.layers.TextVectorization(\n",
    "    max_tokens = maxWordsCount, \n",
    "    standardize = 'lower_and_strip_punctuation',\n",
    "    split = 'whitespace',\n",
    "    output_mode = 'int',\n",
    "    output_sequence_length = max_text_len,\n",
    "    )\n",
    "\n",
    "text_dataset = tf.data.Dataset.from_tensor_slices(texts)\n",
    "\n",
    "vectproc.adapt(text_dataset.batch(64))\n",
    "\n",
    "model = tf.keras.models.Sequential()\n",
    "\n",
    "model.add(Input(shape=(1,), dtype=tf.string))\n",
    "model.add(vectproc)\n",
    "model.add(Embedding(maxWordsCount, output_dim = 128, input_length = max_text_len))\n",
    "#model.add(LSTM(units = 128, return_sequences = True, dropout = 0.3))\n",
    "#model.add(LSTM(units = 64, dropout = 0.3))\n",
    "model.add(LSTM(units = 64, return_sequences = True, dropout = 0.3))\n",
    "model.add(LSTM(units = 16, dropout = 0.3))\n",
    "model.add(Dense(units = 1, activation='sigmoid'))\n"
   ]
  },
  {
   "cell_type": "code",
   "execution_count": 10,
   "id": "fc68b59e",
   "metadata": {},
   "outputs": [],
   "source": [
    "# Создание и настройка колбэков\n",
    "callback_list = [] # массив колбэков до подачи в колбек \"callbacklist\"\n",
    "\n",
    "temp = keras.callbacks.EarlyStopping(\n",
    "            monitor = ES_monitor_parametr, \n",
    "            min_delta = ES_min_delta, \n",
    "            patience = ES_patience,\n",
    "            restore_best_weights = ES_save_best_weights\n",
    "            )\n",
    "callback_list.append(temp)\n",
    "\n",
    "temp = keras.callbacks.ReduceLROnPlateau(\n",
    "            monitor = RLPOP_monitor_parametr, \n",
    "            factor = RLPOP_factor, \n",
    "            patience = RLPOP_patience, \n",
    "            verbose = RLPOP_verbose,\n",
    "            mode = RLPOP_mode, \n",
    "            min_delta = RLPOP_min_delta, \n",
    "            cooldown = RLPOP_cooldown, \n",
    "            min_lr = RLPOP_min_lr\n",
    "            )\n",
    "callback_list.append(temp)\n",
    "\n",
    "FIT_callback_list = keras.callbacks.CallbackList(\n",
    "            callbacks = callback_list, \n",
    "            add_history = CBL_add_history, \n",
    "            add_progbar = CBL_add_progbar, \n",
    "            model = model\n",
    "            )"
   ]
  },
  {
   "cell_type": "code",
   "execution_count": 11,
   "id": "030a85bd",
   "metadata": {},
   "outputs": [],
   "source": [
    "model.compile(loss = 'binary_crossentropy',#'mean_squared_error', \n",
    "              metrics=['accuracy'], \n",
    "              # learning_rate = 0.1\n",
    "              optimizer = tf.keras.optimizers.SGD(learning_rate = 0.01))\n",
    "#tf.keras.optimizers.SGD(learning_rate = 0.01)) #0.01\n",
    "# tf.keras.optimizers.SGD(learning_rate = 0.0001)) #0.05)) #Adam(0.0003)) #'categorical_crossentropy'"
   ]
  },
  {
   "cell_type": "code",
   "execution_count": 12,
   "id": "e55503e9",
   "metadata": {},
   "outputs": [
    {
     "name": "stdout",
     "output_type": "stream",
     "text": [
      "11/11 [==============================] - 1s 56ms/step - loss: 0.6923 - accuracy: 0.5229 - val_loss: 0.6923 - val_accuracy: 0.5714\n",
      "11/11 [==============================] - 0s 3ms/step - loss: 0.6917 - accuracy: 0.5780 - val_loss: 0.6926 - val_accuracy: 0.6071\n",
      "11/11 [==============================] - 0s 3ms/step - loss: 0.6916 - accuracy: 0.5596 - val_loss: 0.6928 - val_accuracy: 0.5714\n",
      "11/11 [==============================] - 0s 2ms/step - loss: 0.6906 - accuracy: 0.5596 - val_loss: 0.6926 - val_accuracy: 0.5714\n",
      "11/11 [==============================] - 0s 3ms/step - loss: 0.6899 - accuracy: 0.6330 - val_loss: 0.6928 - val_accuracy: 0.5000\n",
      "11/11 [==============================] - 0s 4ms/step - loss: 0.6905 - accuracy: 0.5596 - val_loss: 0.6927 - val_accuracy: 0.5357\n",
      "11/11 [==============================] - 0s 3ms/step - loss: 0.6896 - accuracy: 0.5688 - val_loss: 0.6925 - val_accuracy: 0.5357\n",
      "11/11 [==============================] - 0s 4ms/step - loss: 0.6890 - accuracy: 0.6606 - val_loss: 0.6925 - val_accuracy: 0.5357\n",
      "11/11 [==============================] - 0s 3ms/step - loss: 0.6887 - accuracy: 0.5872 - val_loss: 0.6924 - val_accuracy: 0.5357\n",
      "11/11 [==============================] - 0s 3ms/step - loss: 0.6883 - accuracy: 0.5780 - val_loss: 0.6922 - val_accuracy: 0.5357\n",
      "11/11 [==============================] - 0s 4ms/step - loss: 0.6883 - accuracy: 0.6330 - val_loss: 0.6921 - val_accuracy: 0.5357\n",
      "11/11 [==============================] - 0s 4ms/step - loss: 0.6883 - accuracy: 0.5413 - val_loss: 0.6917 - val_accuracy: 0.5714\n",
      "11/11 [==============================] - 0s 4ms/step - loss: 0.6866 - accuracy: 0.5596 - val_loss: 0.6911 - val_accuracy: 0.5714\n",
      "11/11 [==============================] - 0s 4ms/step - loss: 0.6869 - accuracy: 0.5872 - val_loss: 0.6906 - val_accuracy: 0.6071\n",
      "11/11 [==============================] - 0s 4ms/step - loss: 0.6868 - accuracy: 0.6330 - val_loss: 0.6903 - val_accuracy: 0.6429\n",
      "11/11 [==============================] - 0s 3ms/step - loss: 0.6864 - accuracy: 0.6147 - val_loss: 0.6902 - val_accuracy: 0.6071\n",
      "11/11 [==============================] - 0s 4ms/step - loss: 0.6860 - accuracy: 0.6055 - val_loss: 0.6900 - val_accuracy: 0.6071\n",
      "11/11 [==============================] - 0s 3ms/step - loss: 0.6851 - accuracy: 0.6330 - val_loss: 0.6896 - val_accuracy: 0.6429\n",
      "11/11 [==============================] - 0s 4ms/step - loss: 0.6844 - accuracy: 0.6147 - val_loss: 0.6895 - val_accuracy: 0.6071\n",
      "11/11 [==============================] - 0s 3ms/step - loss: 0.6842 - accuracy: 0.6055 - val_loss: 0.6890 - val_accuracy: 0.6429\n",
      "11/11 [==============================] - 0s 3ms/step - loss: 0.6844 - accuracy: 0.6239 - val_loss: 0.6886 - val_accuracy: 0.6429\n",
      "11/11 [==============================] - 0s 4ms/step - loss: 0.6839 - accuracy: 0.6606 - val_loss: 0.6885 - val_accuracy: 0.6429\n",
      "11/11 [==============================] - 0s 4ms/step - loss: 0.6834 - accuracy: 0.6422 - val_loss: 0.6882 - val_accuracy: 0.6429\n",
      "11/11 [==============================] - 0s 3ms/step - loss: 0.6836 - accuracy: 0.6147 - val_loss: 0.6878 - val_accuracy: 0.6429\n",
      "11/11 [==============================] - 0s 4ms/step - loss: 0.6834 - accuracy: 0.6239 - val_loss: 0.6869 - val_accuracy: 0.6429\n",
      "11/11 [==============================] - 0s 4ms/step - loss: 0.6828 - accuracy: 0.6239 - val_loss: 0.6865 - val_accuracy: 0.6429\n",
      "11/11 [==============================] - 0s 3ms/step - loss: 0.6823 - accuracy: 0.6697 - val_loss: 0.6859 - val_accuracy: 0.6429\n",
      "11/11 [==============================] - 0s 4ms/step - loss: 0.6814 - accuracy: 0.6606 - val_loss: 0.6855 - val_accuracy: 0.6429\n",
      "11/11 [==============================] - 0s 4ms/step - loss: 0.6811 - accuracy: 0.6147 - val_loss: 0.6847 - val_accuracy: 0.6429\n",
      "11/11 [==============================] - 0s 4ms/step - loss: 0.6807 - accuracy: 0.6881 - val_loss: 0.6843 - val_accuracy: 0.6429\n",
      "11/11 [==============================] - 0s 4ms/step - loss: 0.6795 - accuracy: 0.6881 - val_loss: 0.6838 - val_accuracy: 0.6429\n",
      "11/11 [==============================] - 0s 4ms/step - loss: 0.6796 - accuracy: 0.6422 - val_loss: 0.6830 - val_accuracy: 0.6429\n",
      "11/11 [==============================] - 0s 3ms/step - loss: 0.6783 - accuracy: 0.6697 - val_loss: 0.6820 - val_accuracy: 0.6429\n",
      "11/11 [==============================] - 0s 4ms/step - loss: 0.6795 - accuracy: 0.6697 - val_loss: 0.6814 - val_accuracy: 0.6429\n",
      "11/11 [==============================] - 0s 4ms/step - loss: 0.6787 - accuracy: 0.6881 - val_loss: 0.6807 - val_accuracy: 0.6429\n",
      "11/11 [==============================] - 0s 3ms/step - loss: 0.6775 - accuracy: 0.6881 - val_loss: 0.6800 - val_accuracy: 0.6429\n",
      "11/11 [==============================] - 0s 4ms/step - loss: 0.6775 - accuracy: 0.6881 - val_loss: 0.6796 - val_accuracy: 0.6429\n",
      "11/11 [==============================] - 0s 3ms/step - loss: 0.6783 - accuracy: 0.6881 - val_loss: 0.6792 - val_accuracy: 0.6429\n",
      "11/11 [==============================] - 0s 3ms/step - loss: 0.6764 - accuracy: 0.6881 - val_loss: 0.6786 - val_accuracy: 0.6429\n",
      "11/11 [==============================] - 0s 4ms/step - loss: 0.6753 - accuracy: 0.6972 - val_loss: 0.6778 - val_accuracy: 0.6429\n",
      "11/11 [==============================] - 0s 3ms/step - loss: 0.6758 - accuracy: 0.6881 - val_loss: 0.6774 - val_accuracy: 0.6429\n",
      "11/11 [==============================] - 0s 3ms/step - loss: 0.6740 - accuracy: 0.7064 - val_loss: 0.6767 - val_accuracy: 0.6429\n",
      "11/11 [==============================] - 0s 4ms/step - loss: 0.6743 - accuracy: 0.6972 - val_loss: 0.6762 - val_accuracy: 0.6429\n",
      "11/11 [==============================] - 0s 3ms/step - loss: 0.6741 - accuracy: 0.7064 - val_loss: 0.6756 - val_accuracy: 0.6429\n",
      "11/11 [==============================] - 0s 3ms/step - loss: 0.6715 - accuracy: 0.6972 - val_loss: 0.6749 - val_accuracy: 0.6786\n",
      "11/11 [==============================] - 0s 3ms/step - loss: 0.6727 - accuracy: 0.7064 - val_loss: 0.6740 - val_accuracy: 0.6786\n",
      "11/11 [==============================] - 0s 3ms/step - loss: 0.6717 - accuracy: 0.6881 - val_loss: 0.6734 - val_accuracy: 0.6786\n",
      "11/11 [==============================] - 0s 3ms/step - loss: 0.6725 - accuracy: 0.6881 - val_loss: 0.6726 - val_accuracy: 0.7143\n",
      "11/11 [==============================] - 0s 4ms/step - loss: 0.6711 - accuracy: 0.7064 - val_loss: 0.6718 - val_accuracy: 0.7143\n",
      "11/11 [==============================] - 0s 4ms/step - loss: 0.6705 - accuracy: 0.6972 - val_loss: 0.6709 - val_accuracy: 0.7500\n",
      "11/11 [==============================] - 0s 3ms/step - loss: 0.6698 - accuracy: 0.7156 - val_loss: 0.6703 - val_accuracy: 0.7500\n",
      "11/11 [==============================] - 0s 3ms/step - loss: 0.6695 - accuracy: 0.6881 - val_loss: 0.6696 - val_accuracy: 0.7500\n",
      "11/11 [==============================] - 0s 4ms/step - loss: 0.6690 - accuracy: 0.7156 - val_loss: 0.6689 - val_accuracy: 0.7500\n",
      "11/11 [==============================] - 0s 3ms/step - loss: 0.6677 - accuracy: 0.7064 - val_loss: 0.6677 - val_accuracy: 0.7500\n",
      "11/11 [==============================] - 0s 3ms/step - loss: 0.6679 - accuracy: 0.7156 - val_loss: 0.6670 - val_accuracy: 0.7500\n",
      "11/11 [==============================] - 0s 4ms/step - loss: 0.6660 - accuracy: 0.7156 - val_loss: 0.6663 - val_accuracy: 0.7500\n",
      "11/11 [==============================] - 0s 4ms/step - loss: 0.6659 - accuracy: 0.7064 - val_loss: 0.6653 - val_accuracy: 0.7500\n",
      "11/11 [==============================] - 0s 3ms/step - loss: 0.6659 - accuracy: 0.7248 - val_loss: 0.6646 - val_accuracy: 0.7500\n",
      "11/11 [==============================] - 0s 3ms/step - loss: 0.6658 - accuracy: 0.6972 - val_loss: 0.6641 - val_accuracy: 0.7500\n",
      "11/11 [==============================] - 0s 4ms/step - loss: 0.6635 - accuracy: 0.7064 - val_loss: 0.6631 - val_accuracy: 0.7500\n",
      "11/11 [==============================] - 0s 3ms/step - loss: 0.6652 - accuracy: 0.6972 - val_loss: 0.6624 - val_accuracy: 0.7500\n",
      "11/11 [==============================] - 0s 4ms/step - loss: 0.6634 - accuracy: 0.6881 - val_loss: 0.6616 - val_accuracy: 0.7500\n",
      "11/11 [==============================] - 0s 4ms/step - loss: 0.6611 - accuracy: 0.6881 - val_loss: 0.6603 - val_accuracy: 0.7500\n"
     ]
    },
    {
     "name": "stdout",
     "output_type": "stream",
     "text": [
      "11/11 [==============================] - 0s 4ms/step - loss: 0.6614 - accuracy: 0.6972 - val_loss: 0.6596 - val_accuracy: 0.7500\n",
      "11/11 [==============================] - 0s 3ms/step - loss: 0.6609 - accuracy: 0.7156 - val_loss: 0.6588 - val_accuracy: 0.7500\n",
      "11/11 [==============================] - 0s 4ms/step - loss: 0.6607 - accuracy: 0.6972 - val_loss: 0.6573 - val_accuracy: 0.7500\n",
      "11/11 [==============================] - 0s 4ms/step - loss: 0.6591 - accuracy: 0.7064 - val_loss: 0.6566 - val_accuracy: 0.7500\n",
      "11/11 [==============================] - 0s 3ms/step - loss: 0.6572 - accuracy: 0.7064 - val_loss: 0.6556 - val_accuracy: 0.7500\n",
      "11/11 [==============================] - 0s 4ms/step - loss: 0.6554 - accuracy: 0.7248 - val_loss: 0.6549 - val_accuracy: 0.7500\n",
      "11/11 [==============================] - 0s 4ms/step - loss: 0.6549 - accuracy: 0.7156 - val_loss: 0.6539 - val_accuracy: 0.7500\n",
      "11/11 [==============================] - 0s 4ms/step - loss: 0.6550 - accuracy: 0.7156 - val_loss: 0.6525 - val_accuracy: 0.7500\n",
      "11/11 [==============================] - 0s 4ms/step - loss: 0.6556 - accuracy: 0.7064 - val_loss: 0.6515 - val_accuracy: 0.7500\n",
      "11/11 [==============================] - 0s 3ms/step - loss: 0.6548 - accuracy: 0.7156 - val_loss: 0.6502 - val_accuracy: 0.7500\n",
      "11/11 [==============================] - 0s 3ms/step - loss: 0.6514 - accuracy: 0.7156 - val_loss: 0.6489 - val_accuracy: 0.7500\n",
      "11/11 [==============================] - 0s 3ms/step - loss: 0.6515 - accuracy: 0.7248 - val_loss: 0.6478 - val_accuracy: 0.7500\n",
      "11/11 [==============================] - 0s 3ms/step - loss: 0.6511 - accuracy: 0.7064 - val_loss: 0.6459 - val_accuracy: 0.7500\n",
      "11/11 [==============================] - 0s 4ms/step - loss: 0.6498 - accuracy: 0.7156 - val_loss: 0.6445 - val_accuracy: 0.7500\n",
      "11/11 [==============================] - 0s 4ms/step - loss: 0.6490 - accuracy: 0.7248 - val_loss: 0.6431 - val_accuracy: 0.7500\n",
      "11/11 [==============================] - 0s 4ms/step - loss: 0.6495 - accuracy: 0.7248 - val_loss: 0.6419 - val_accuracy: 0.7500\n",
      "11/11 [==============================] - 0s 3ms/step - loss: 0.6474 - accuracy: 0.7248 - val_loss: 0.6406 - val_accuracy: 0.7500\n",
      "11/11 [==============================] - 0s 4ms/step - loss: 0.6478 - accuracy: 0.7339 - val_loss: 0.6398 - val_accuracy: 0.7500\n",
      "11/11 [==============================] - 0s 4ms/step - loss: 0.6463 - accuracy: 0.7248 - val_loss: 0.6388 - val_accuracy: 0.7500\n",
      "11/11 [==============================] - 0s 4ms/step - loss: 0.6442 - accuracy: 0.7339 - val_loss: 0.6376 - val_accuracy: 0.7500\n",
      "11/11 [==============================] - 0s 3ms/step - loss: 0.6419 - accuracy: 0.7156 - val_loss: 0.6360 - val_accuracy: 0.7500\n",
      "11/11 [==============================] - 0s 4ms/step - loss: 0.6419 - accuracy: 0.7156 - val_loss: 0.6346 - val_accuracy: 0.7500\n",
      "11/11 [==============================] - 0s 3ms/step - loss: 0.6416 - accuracy: 0.7156 - val_loss: 0.6332 - val_accuracy: 0.7500\n",
      "11/11 [==============================] - 0s 3ms/step - loss: 0.6400 - accuracy: 0.7064 - val_loss: 0.6316 - val_accuracy: 0.7500\n",
      "11/11 [==============================] - 0s 3ms/step - loss: 0.6399 - accuracy: 0.7064 - val_loss: 0.6306 - val_accuracy: 0.7500\n",
      "11/11 [==============================] - 0s 4ms/step - loss: 0.6397 - accuracy: 0.7064 - val_loss: 0.6289 - val_accuracy: 0.7500\n",
      "11/11 [==============================] - 0s 4ms/step - loss: 0.6357 - accuracy: 0.7431 - val_loss: 0.6278 - val_accuracy: 0.7500\n",
      "11/11 [==============================] - 0s 3ms/step - loss: 0.6339 - accuracy: 0.7156 - val_loss: 0.6263 - val_accuracy: 0.7500\n",
      "11/11 [==============================] - 0s 4ms/step - loss: 0.6347 - accuracy: 0.7431 - val_loss: 0.6244 - val_accuracy: 0.7500\n",
      "11/11 [==============================] - 0s 3ms/step - loss: 0.6342 - accuracy: 0.7064 - val_loss: 0.6224 - val_accuracy: 0.7500\n",
      "11/11 [==============================] - 0s 4ms/step - loss: 0.6315 - accuracy: 0.7339 - val_loss: 0.6215 - val_accuracy: 0.7500\n",
      "11/11 [==============================] - 0s 2ms/step - loss: 0.6313 - accuracy: 0.7339 - val_loss: 0.6204 - val_accuracy: 0.7500\n",
      "11/11 [==============================] - 0s 4ms/step - loss: 0.6316 - accuracy: 0.7064 - val_loss: 0.6187 - val_accuracy: 0.7500\n",
      "11/11 [==============================] - 0s 4ms/step - loss: 0.6294 - accuracy: 0.7248 - val_loss: 0.6176 - val_accuracy: 0.7500\n",
      "11/11 [==============================] - 0s 3ms/step - loss: 0.6273 - accuracy: 0.7156 - val_loss: 0.6162 - val_accuracy: 0.7500\n",
      "11/11 [==============================] - 0s 4ms/step - loss: 0.6253 - accuracy: 0.7156 - val_loss: 0.6147 - val_accuracy: 0.7500\n",
      "11/11 [==============================] - 0s 3ms/step - loss: 0.6252 - accuracy: 0.7064 - val_loss: 0.6125 - val_accuracy: 0.7500\n",
      "11/11 [==============================] - 0s 4ms/step - loss: 0.6241 - accuracy: 0.7156 - val_loss: 0.6104 - val_accuracy: 0.7500\n",
      "11/11 [==============================] - 0s 3ms/step - loss: 0.6198 - accuracy: 0.7064 - val_loss: 0.6090 - val_accuracy: 0.7500\n",
      "11/11 [==============================] - 0s 4ms/step - loss: 0.6220 - accuracy: 0.7064 - val_loss: 0.6066 - val_accuracy: 0.7500\n",
      "11/11 [==============================] - 0s 3ms/step - loss: 0.6207 - accuracy: 0.7156 - val_loss: 0.6045 - val_accuracy: 0.7500\n",
      "11/11 [==============================] - 0s 4ms/step - loss: 0.6164 - accuracy: 0.7248 - val_loss: 0.6026 - val_accuracy: 0.7500\n",
      "11/11 [==============================] - 0s 3ms/step - loss: 0.6161 - accuracy: 0.7248 - val_loss: 0.6008 - val_accuracy: 0.7500\n",
      "11/11 [==============================] - 0s 3ms/step - loss: 0.6130 - accuracy: 0.7248 - val_loss: 0.5989 - val_accuracy: 0.7500\n",
      "11/11 [==============================] - 0s 4ms/step - loss: 0.6132 - accuracy: 0.7339 - val_loss: 0.5972 - val_accuracy: 0.7500\n",
      "11/11 [==============================] - 0s 2ms/step - loss: 0.6122 - accuracy: 0.7339 - val_loss: 0.5960 - val_accuracy: 0.7500\n",
      "11/11 [==============================] - 0s 3ms/step - loss: 0.6097 - accuracy: 0.7248 - val_loss: 0.5941 - val_accuracy: 0.7500\n",
      "11/11 [==============================] - 0s 3ms/step - loss: 0.6077 - accuracy: 0.7431 - val_loss: 0.5929 - val_accuracy: 0.7500\n",
      "11/11 [==============================] - 0s 4ms/step - loss: 0.6044 - accuracy: 0.7156 - val_loss: 0.5905 - val_accuracy: 0.7500\n",
      "11/11 [==============================] - 0s 3ms/step - loss: 0.6062 - accuracy: 0.7248 - val_loss: 0.5880 - val_accuracy: 0.7500\n",
      "11/11 [==============================] - 0s 4ms/step - loss: 0.6042 - accuracy: 0.7431 - val_loss: 0.5864 - val_accuracy: 0.7500\n",
      "11/11 [==============================] - 0s 3ms/step - loss: 0.6027 - accuracy: 0.7248 - val_loss: 0.5842 - val_accuracy: 0.7500\n",
      "11/11 [==============================] - 0s 4ms/step - loss: 0.6019 - accuracy: 0.7339 - val_loss: 0.5825 - val_accuracy: 0.7500\n",
      "11/11 [==============================] - 0s 4ms/step - loss: 0.5984 - accuracy: 0.7339 - val_loss: 0.5810 - val_accuracy: 0.7500\n",
      "11/11 [==============================] - 0s 3ms/step - loss: 0.5976 - accuracy: 0.7248 - val_loss: 0.5782 - val_accuracy: 0.7500\n",
      "11/11 [==============================] - 0s 4ms/step - loss: 0.6001 - accuracy: 0.7248 - val_loss: 0.5753 - val_accuracy: 0.7500\n",
      "11/11 [==============================] - 0s 3ms/step - loss: 0.6010 - accuracy: 0.7248 - val_loss: 0.5727 - val_accuracy: 0.7500\n",
      "11/11 [==============================] - 0s 4ms/step - loss: 0.5951 - accuracy: 0.7339 - val_loss: 0.5717 - val_accuracy: 0.7500\n",
      "11/11 [==============================] - 0s 4ms/step - loss: 0.5919 - accuracy: 0.7339 - val_loss: 0.5693 - val_accuracy: 0.7500\n",
      "11/11 [==============================] - 0s 3ms/step - loss: 0.5890 - accuracy: 0.7248 - val_loss: 0.5683 - val_accuracy: 0.7500\n",
      "11/11 [==============================] - 0s 3ms/step - loss: 0.5907 - accuracy: 0.7339 - val_loss: 0.5664 - val_accuracy: 0.7500\n",
      "11/11 [==============================] - 0s 2ms/step - loss: 0.5888 - accuracy: 0.7339 - val_loss: 0.5649 - val_accuracy: 0.7500\n",
      "11/11 [==============================] - 0s 4ms/step - loss: 0.5874 - accuracy: 0.7248 - val_loss: 0.5627 - val_accuracy: 0.7500\n"
     ]
    },
    {
     "name": "stdout",
     "output_type": "stream",
     "text": [
      "11/11 [==============================] - 0s 3ms/step - loss: 0.5826 - accuracy: 0.7248 - val_loss: 0.5592 - val_accuracy: 0.7500\n",
      "11/11 [==============================] - 0s 4ms/step - loss: 0.5862 - accuracy: 0.7339 - val_loss: 0.5583 - val_accuracy: 0.7500\n",
      "11/11 [==============================] - 0s 3ms/step - loss: 0.5837 - accuracy: 0.7248 - val_loss: 0.5561 - val_accuracy: 0.7500\n",
      "11/11 [==============================] - 0s 4ms/step - loss: 0.5814 - accuracy: 0.7339 - val_loss: 0.5550 - val_accuracy: 0.7500\n",
      "11/11 [==============================] - 0s 4ms/step - loss: 0.5826 - accuracy: 0.7339 - val_loss: 0.5527 - val_accuracy: 0.7500\n",
      "11/11 [==============================] - 0s 3ms/step - loss: 0.5775 - accuracy: 0.7248 - val_loss: 0.5500 - val_accuracy: 0.7500\n",
      "11/11 [==============================] - 0s 3ms/step - loss: 0.5782 - accuracy: 0.7339 - val_loss: 0.5468 - val_accuracy: 0.7500\n",
      "11/11 [==============================] - 0s 4ms/step - loss: 0.5788 - accuracy: 0.7248 - val_loss: 0.5441 - val_accuracy: 0.7500\n",
      "11/11 [==============================] - 0s 2ms/step - loss: 0.5747 - accuracy: 0.7431 - val_loss: 0.5426 - val_accuracy: 0.7500\n",
      "11/11 [==============================] - 0s 3ms/step - loss: 0.5762 - accuracy: 0.7431 - val_loss: 0.5422 - val_accuracy: 0.7500\n",
      "11/11 [==============================] - 0s 3ms/step - loss: 0.5711 - accuracy: 0.7431 - val_loss: 0.5396 - val_accuracy: 0.7500\n",
      "11/11 [==============================] - 0s 4ms/step - loss: 0.5699 - accuracy: 0.7523 - val_loss: 0.5379 - val_accuracy: 0.7500\n",
      "11/11 [==============================] - 0s 4ms/step - loss: 0.5709 - accuracy: 0.7339 - val_loss: 0.5353 - val_accuracy: 0.7500\n",
      "11/11 [==============================] - 0s 4ms/step - loss: 0.5675 - accuracy: 0.7431 - val_loss: 0.5342 - val_accuracy: 0.7500\n",
      "11/11 [==============================] - 0s 4ms/step - loss: 0.5650 - accuracy: 0.7431 - val_loss: 0.5325 - val_accuracy: 0.7500\n",
      "11/11 [==============================] - 0s 3ms/step - loss: 0.5657 - accuracy: 0.7523 - val_loss: 0.5312 - val_accuracy: 0.7500\n",
      "11/11 [==============================] - 0s 4ms/step - loss: 0.5670 - accuracy: 0.7339 - val_loss: 0.5295 - val_accuracy: 0.7500\n",
      "11/11 [==============================] - 0s 4ms/step - loss: 0.5621 - accuracy: 0.7431 - val_loss: 0.5268 - val_accuracy: 0.7500\n",
      "11/11 [==============================] - 0s 3ms/step - loss: 0.5643 - accuracy: 0.7431 - val_loss: 0.5253 - val_accuracy: 0.7500\n",
      "11/11 [==============================] - 0s 4ms/step - loss: 0.5619 - accuracy: 0.7339 - val_loss: 0.5230 - val_accuracy: 0.7500\n",
      "11/11 [==============================] - 0s 3ms/step - loss: 0.5551 - accuracy: 0.7339 - val_loss: 0.5213 - val_accuracy: 0.7500\n",
      "11/11 [==============================] - 0s 3ms/step - loss: 0.5534 - accuracy: 0.7431 - val_loss: 0.5194 - val_accuracy: 0.7500\n",
      "11/11 [==============================] - 0s 4ms/step - loss: 0.5512 - accuracy: 0.7523 - val_loss: 0.5172 - val_accuracy: 0.7500\n",
      "11/11 [==============================] - 0s 3ms/step - loss: 0.5535 - accuracy: 0.7615 - val_loss: 0.5147 - val_accuracy: 0.7500\n",
      "11/11 [==============================] - 0s 4ms/step - loss: 0.5480 - accuracy: 0.7431 - val_loss: 0.5125 - val_accuracy: 0.7500\n",
      "11/11 [==============================] - 0s 4ms/step - loss: 0.5505 - accuracy: 0.7615 - val_loss: 0.5115 - val_accuracy: 0.7500\n",
      "11/11 [==============================] - 0s 3ms/step - loss: 0.5445 - accuracy: 0.7431 - val_loss: 0.5095 - val_accuracy: 0.7500\n",
      "11/11 [==============================] - 0s 4ms/step - loss: 0.5430 - accuracy: 0.7615 - val_loss: 0.5080 - val_accuracy: 0.7500\n",
      "11/11 [==============================] - 0s 3ms/step - loss: 0.5446 - accuracy: 0.7615 - val_loss: 0.5064 - val_accuracy: 0.7500\n",
      "11/11 [==============================] - 0s 4ms/step - loss: 0.5393 - accuracy: 0.7523 - val_loss: 0.5046 - val_accuracy: 0.7500\n",
      "11/11 [==============================] - 0s 4ms/step - loss: 0.5385 - accuracy: 0.7706 - val_loss: 0.5036 - val_accuracy: 0.7500\n",
      "11/11 [==============================] - 0s 3ms/step - loss: 0.5389 - accuracy: 0.7523 - val_loss: 0.5019 - val_accuracy: 0.7500\n",
      "11/11 [==============================] - 0s 4ms/step - loss: 0.5380 - accuracy: 0.7523 - val_loss: 0.4980 - val_accuracy: 0.7857\n",
      "11/11 [==============================] - ETA: 0s - loss: 0.6645 - accuracy: 0.50 - 0s 2ms/step - loss: 0.5351 - accuracy: 0.7615 - val_loss: 0.4961 - val_accuracy: 0.7857\n",
      "11/11 [==============================] - 0s 3ms/step - loss: 0.5358 - accuracy: 0.7431 - val_loss: 0.4932 - val_accuracy: 0.7857\n",
      "11/11 [==============================] - 0s 2ms/step - loss: 0.5314 - accuracy: 0.7523 - val_loss: 0.4909 - val_accuracy: 0.7857\n",
      "11/11 [==============================] - 0s 3ms/step - loss: 0.5314 - accuracy: 0.7523 - val_loss: 0.4883 - val_accuracy: 0.7857\n",
      "11/11 [==============================] - 0s 4ms/step - loss: 0.5269 - accuracy: 0.7615 - val_loss: 0.4869 - val_accuracy: 0.7857\n",
      "11/11 [==============================] - 0s 3ms/step - loss: 0.5231 - accuracy: 0.7706 - val_loss: 0.4858 - val_accuracy: 0.7857\n",
      "11/11 [==============================] - 0s 4ms/step - loss: 0.5196 - accuracy: 0.7615 - val_loss: 0.4844 - val_accuracy: 0.7857\n",
      "11/11 [==============================] - 0s 3ms/step - loss: 0.5178 - accuracy: 0.7798 - val_loss: 0.4826 - val_accuracy: 0.7857\n",
      "11/11 [==============================] - 0s 4ms/step - loss: 0.5193 - accuracy: 0.7615 - val_loss: 0.4798 - val_accuracy: 0.7857\n",
      "11/11 [==============================] - 0s 2ms/step - loss: 0.5249 - accuracy: 0.7615 - val_loss: 0.4786 - val_accuracy: 0.7857\n",
      "11/11 [==============================] - 0s 4ms/step - loss: 0.5121 - accuracy: 0.7615 - val_loss: 0.4759 - val_accuracy: 0.7857\n",
      "11/11 [==============================] - 0s 4ms/step - loss: 0.5139 - accuracy: 0.7798 - val_loss: 0.4733 - val_accuracy: 0.7857\n",
      "11/11 [==============================] - 0s 2ms/step - loss: 0.5112 - accuracy: 0.7706 - val_loss: 0.4708 - val_accuracy: 0.7857\n",
      "11/11 [==============================] - 0s 4ms/step - loss: 0.5085 - accuracy: 0.7798 - val_loss: 0.4694 - val_accuracy: 0.7857\n",
      "11/11 [==============================] - 0s 3ms/step - loss: 0.5088 - accuracy: 0.7523 - val_loss: 0.4660 - val_accuracy: 0.7857\n",
      "11/11 [==============================] - 0s 3ms/step - loss: 0.5087 - accuracy: 0.7798 - val_loss: 0.4651 - val_accuracy: 0.7857\n",
      "11/11 [==============================] - 0s 4ms/step - loss: 0.5036 - accuracy: 0.7798 - val_loss: 0.4642 - val_accuracy: 0.7857\n",
      "11/11 [==============================] - 0s 3ms/step - loss: 0.5021 - accuracy: 0.7798 - val_loss: 0.4618 - val_accuracy: 0.7857\n",
      "11/11 [==============================] - 0s 4ms/step - loss: 0.4990 - accuracy: 0.7798 - val_loss: 0.4582 - val_accuracy: 0.8214\n",
      "11/11 [==============================] - 0s 2ms/step - loss: 0.4916 - accuracy: 0.7982 - val_loss: 0.4564 - val_accuracy: 0.8214\n",
      "11/11 [==============================] - 0s 3ms/step - loss: 0.4870 - accuracy: 0.8073 - val_loss: 0.4533 - val_accuracy: 0.8214\n",
      "11/11 [==============================] - 0s 4ms/step - loss: 0.4883 - accuracy: 0.7890 - val_loss: 0.4509 - val_accuracy: 0.8214\n",
      "11/11 [==============================] - 0s 3ms/step - loss: 0.4852 - accuracy: 0.8073 - val_loss: 0.4499 - val_accuracy: 0.8214\n",
      "11/11 [==============================] - 0s 3ms/step - loss: 0.4845 - accuracy: 0.8165 - val_loss: 0.4477 - val_accuracy: 0.8214\n",
      "11/11 [==============================] - 0s 4ms/step - loss: 0.4777 - accuracy: 0.8165 - val_loss: 0.4450 - val_accuracy: 0.8214\n",
      "11/11 [==============================] - 0s 3ms/step - loss: 0.4759 - accuracy: 0.8257 - val_loss: 0.4441 - val_accuracy: 0.8214\n",
      "11/11 [==============================] - 0s 3ms/step - loss: 0.4743 - accuracy: 0.8165 - val_loss: 0.4400 - val_accuracy: 0.8214\n",
      "11/11 [==============================] - 0s 3ms/step - loss: 0.4605 - accuracy: 0.8440 - val_loss: 0.4379 - val_accuracy: 0.8214\n",
      "11/11 [==============================] - 0s 4ms/step - loss: 0.4628 - accuracy: 0.8257 - val_loss: 0.4340 - val_accuracy: 0.8214\n",
      "11/11 [==============================] - 0s 4ms/step - loss: 0.4647 - accuracy: 0.8257 - val_loss: 0.4323 - val_accuracy: 0.8214\n"
     ]
    },
    {
     "name": "stdout",
     "output_type": "stream",
     "text": [
      "11/11 [==============================] - 0s 4ms/step - loss: 0.4526 - accuracy: 0.8257 - val_loss: 0.4274 - val_accuracy: 0.8571\n",
      "11/11 [==============================] - 0s 4ms/step - loss: 0.4607 - accuracy: 0.8257 - val_loss: 0.4255 - val_accuracy: 0.8571\n",
      "11/11 [==============================] - 0s 4ms/step - loss: 0.4443 - accuracy: 0.8257 - val_loss: 0.4226 - val_accuracy: 0.8571\n",
      "11/11 [==============================] - 0s 4ms/step - loss: 0.4458 - accuracy: 0.8532 - val_loss: 0.4202 - val_accuracy: 0.8571\n",
      "11/11 [==============================] - 0s 4ms/step - loss: 0.4359 - accuracy: 0.8440 - val_loss: 0.4167 - val_accuracy: 0.8929\n",
      "11/11 [==============================] - 0s 3ms/step - loss: 0.4313 - accuracy: 0.8440 - val_loss: 0.4129 - val_accuracy: 0.8929\n",
      "11/11 [==============================] - 0s 4ms/step - loss: 0.4415 - accuracy: 0.8349 - val_loss: 0.4121 - val_accuracy: 0.8929\n",
      "11/11 [==============================] - 0s 3ms/step - loss: 0.4349 - accuracy: 0.8532 - val_loss: 0.4081 - val_accuracy: 0.8929\n",
      "11/11 [==============================] - 0s 3ms/step - loss: 0.4225 - accuracy: 0.8532 - val_loss: 0.4066 - val_accuracy: 0.8929\n",
      "11/11 [==============================] - 0s 4ms/step - loss: 0.4201 - accuracy: 0.8532 - val_loss: 0.4042 - val_accuracy: 0.8929\n",
      "11/11 [==============================] - 0s 3ms/step - loss: 0.4101 - accuracy: 0.8624 - val_loss: 0.4007 - val_accuracy: 0.8929\n",
      "11/11 [==============================] - 0s 4ms/step - loss: 0.4164 - accuracy: 0.8349 - val_loss: 0.3968 - val_accuracy: 0.8571\n",
      "11/11 [==============================] - 0s 2ms/step - loss: 0.4091 - accuracy: 0.8624 - val_loss: 0.3961 - val_accuracy: 0.8929\n",
      "11/11 [==============================] - 0s 4ms/step - loss: 0.3981 - accuracy: 0.8532 - val_loss: 0.3930 - val_accuracy: 0.8929\n",
      "11/11 [==============================] - 0s 2ms/step - loss: 0.4026 - accuracy: 0.8532 - val_loss: 0.3915 - val_accuracy: 0.8929\n",
      "11/11 [==============================] - 0s 3ms/step - loss: 0.3845 - accuracy: 0.8716 - val_loss: 0.3872 - val_accuracy: 0.8571\n",
      "11/11 [==============================] - 0s 4ms/step - loss: 0.3807 - accuracy: 0.8807 - val_loss: 0.3867 - val_accuracy: 0.8929\n",
      "11/11 [==============================] - 0s 3ms/step - loss: 0.3780 - accuracy: 0.8716 - val_loss: 0.3831 - val_accuracy: 0.8571\n",
      "11/11 [==============================] - 0s 4ms/step - loss: 0.3737 - accuracy: 0.8716 - val_loss: 0.3797 - val_accuracy: 0.8571\n",
      "11/11 [==============================] - 0s 5ms/step - loss: 0.3624 - accuracy: 0.8807 - val_loss: 0.3772 - val_accuracy: 0.8571\n",
      "11/11 [==============================] - 0s 4ms/step - loss: 0.3515 - accuracy: 0.8899 - val_loss: 0.3737 - val_accuracy: 0.8571\n",
      "11/11 [==============================] - 0s 4ms/step - loss: 0.3567 - accuracy: 0.8899 - val_loss: 0.3714 - val_accuracy: 0.8571\n",
      "11/11 [==============================] - 0s 3ms/step - loss: 0.3449 - accuracy: 0.9083 - val_loss: 0.3694 - val_accuracy: 0.8571\n",
      "11/11 [==============================] - 0s 4ms/step - loss: 0.3429 - accuracy: 0.9174 - val_loss: 0.3686 - val_accuracy: 0.8571\n",
      "11/11 [==============================] - 0s 4ms/step - loss: 0.3414 - accuracy: 0.8899 - val_loss: 0.3664 - val_accuracy: 0.8571\n",
      "11/11 [==============================] - 0s 4ms/step - loss: 0.3207 - accuracy: 0.9266 - val_loss: 0.3627 - val_accuracy: 0.8571\n",
      "11/11 [==============================] - 0s 4ms/step - loss: 0.3205 - accuracy: 0.9174 - val_loss: 0.3611 - val_accuracy: 0.8571\n",
      "11/11 [==============================] - 0s 3ms/step - loss: 0.3274 - accuracy: 0.9083 - val_loss: 0.3597 - val_accuracy: 0.8571\n",
      "11/11 [==============================] - 0s 4ms/step - loss: 0.3059 - accuracy: 0.9174 - val_loss: 0.3592 - val_accuracy: 0.8571\n",
      "11/11 [==============================] - 0s 4ms/step - loss: 0.3060 - accuracy: 0.9174 - val_loss: 0.3554 - val_accuracy: 0.8571\n",
      "11/11 [==============================] - 0s 3ms/step - loss: 0.2977 - accuracy: 0.9358 - val_loss: 0.3550 - val_accuracy: 0.8214\n",
      "11/11 [==============================] - 0s 4ms/step - loss: 0.2957 - accuracy: 0.9174 - val_loss: 0.3538 - val_accuracy: 0.8214\n",
      "11/11 [==============================] - 0s 4ms/step - loss: 0.2856 - accuracy: 0.9174 - val_loss: 0.3516 - val_accuracy: 0.8214\n",
      "11/11 [==============================] - 0s 2ms/step - loss: 0.2827 - accuracy: 0.9358 - val_loss: 0.3555 - val_accuracy: 0.8571\n",
      "11/11 [==============================] - 0s 4ms/step - loss: 0.2653 - accuracy: 0.9450 - val_loss: 0.3514 - val_accuracy: 0.8214\n",
      "11/11 [==============================] - 0s 4ms/step - loss: 0.2660 - accuracy: 0.9450 - val_loss: 0.3490 - val_accuracy: 0.8214\n",
      "11/11 [==============================] - 0s 3ms/step - loss: 0.2597 - accuracy: 0.9358 - val_loss: 0.3484 - val_accuracy: 0.8214\n",
      "11/11 [==============================] - 0s 4ms/step - loss: 0.2519 - accuracy: 0.9358 - val_loss: 0.3485 - val_accuracy: 0.7857\n",
      "11/11 [==============================] - 0s 4ms/step - loss: 0.2421 - accuracy: 0.9450 - val_loss: 0.3484 - val_accuracy: 0.8214\n",
      "11/11 [==============================] - 0s 3ms/step - loss: 0.2365 - accuracy: 0.9541 - val_loss: 0.3479 - val_accuracy: 0.7857\n",
      "11/11 [==============================] - 0s 3ms/step - loss: 0.2302 - accuracy: 0.9633 - val_loss: 0.3479 - val_accuracy: 0.8214\n",
      "11/11 [==============================] - 0s 4ms/step - loss: 0.2181 - accuracy: 0.9541 - val_loss: 0.3476 - val_accuracy: 0.7857\n",
      "11/11 [==============================] - 0s 4ms/step - loss: 0.2210 - accuracy: 0.9541 - val_loss: 0.3508 - val_accuracy: 0.8214\n",
      "11/11 [==============================] - 0s 4ms/step - loss: 0.2160 - accuracy: 0.9633 - val_loss: 0.3490 - val_accuracy: 0.8214\n",
      "11/11 [==============================] - 0s 3ms/step - loss: 0.2065 - accuracy: 0.9725 - val_loss: 0.3489 - val_accuracy: 0.7857\n",
      "11/11 [==============================] - 0s 3ms/step - loss: 0.1952 - accuracy: 0.9725 - val_loss: 0.3508 - val_accuracy: 0.7857\n",
      "11/11 [==============================] - 0s 4ms/step - loss: 0.2041 - accuracy: 0.9633 - val_loss: 0.3504 - val_accuracy: 0.8214\n",
      "11/11 [==============================] - 0s 3ms/step - loss: 0.1912 - accuracy: 0.9725 - val_loss: 0.3507 - val_accuracy: 0.8214\n",
      "11/11 [==============================] - 0s 2ms/step - loss: 0.1907 - accuracy: 0.9725 - val_loss: 0.3515 - val_accuracy: 0.8214\n",
      "11/11 [==============================] - 0s 4ms/step - loss: 0.1769 - accuracy: 0.9725 - val_loss: 0.3584 - val_accuracy: 0.8214\n",
      "11/11 [==============================] - 0s 4ms/step - loss: 0.1743 - accuracy: 0.9725 - val_loss: 0.3535 - val_accuracy: 0.8214\n",
      " 1/11 [=>............................] - ETA: 0s - loss: 0.1099 - accuracy: 1.0000\n",
      "Epoch 00241: ReduceLROnPlateau reducing learning rate to 0.0009999999776482583.\n",
      "11/11 [==============================] - 0s 4ms/step - loss: 0.1804 - accuracy: 0.9725 - val_loss: 0.3553 - val_accuracy: 0.7857\n",
      "11/11 [==============================] - 0s 3ms/step - loss: 0.1744 - accuracy: 0.9725 - val_loss: 0.3547 - val_accuracy: 0.7857\n",
      "11/11 [==============================] - 0s 3ms/step - loss: 0.1699 - accuracy: 0.9725 - val_loss: 0.3544 - val_accuracy: 0.7857\n",
      "11/11 [==============================] - 0s 3ms/step - loss: 0.1639 - accuracy: 0.9725 - val_loss: 0.3540 - val_accuracy: 0.7857\n",
      "11/11 [==============================] - 0s 4ms/step - loss: 0.1714 - accuracy: 0.9725 - val_loss: 0.3540 - val_accuracy: 0.7857\n",
      "11/11 [==============================] - 0s 4ms/step - loss: 0.1739 - accuracy: 0.9633 - val_loss: 0.3539 - val_accuracy: 0.8214\n",
      "11/11 [==============================] - 0s 3ms/step - loss: 0.1639 - accuracy: 0.9725 - val_loss: 0.3540 - val_accuracy: 0.8214\n",
      "11/11 [==============================] - 0s 3ms/step - loss: 0.1681 - accuracy: 0.9725 - val_loss: 0.3539 - val_accuracy: 0.8214\n",
      "11/11 [==============================] - 0s 3ms/step - loss: 0.1635 - accuracy: 0.9725 - val_loss: 0.3541 - val_accuracy: 0.8214\n",
      "11/11 [==============================] - 0s 2ms/step - loss: 0.1621 - accuracy: 0.9725 - val_loss: 0.3542 - val_accuracy: 0.8214\n"
     ]
    }
   ],
   "source": [
    "history = model.fit(X_train, \n",
    "                    Y_train, \n",
    "                    batch_size = FIT_batch_size, \n",
    "                    shuffle = True, \n",
    "                    verbose = 1, \n",
    "                    epochs = 250, #30, \n",
    "                    validation_split = 0.20,\n",
    "                    callbacks = FIT_callback_list)"
   ]
  },
  {
   "cell_type": "code",
   "execution_count": 13,
   "id": "f6b795f6",
   "metadata": {},
   "outputs": [],
   "source": [
    "#Sequential.fit?"
   ]
  },
  {
   "cell_type": "code",
   "execution_count": 14,
   "id": "b7db8e4f",
   "metadata": {},
   "outputs": [],
   "source": [
    "#reverse_word_map = dict(map(reversed, tokenizer.word_index.items()))"
   ]
  },
  {
   "cell_type": "code",
   "execution_count": 15,
   "id": "821d2e64",
   "metadata": {},
   "outputs": [
    {
     "name": "stdout",
     "output_type": "stream",
     "text": [
      "Maybe[Положительно] [0.9371] == Right[Положительно]\tВы уникальны! У вас разные таланты и способности. Вам не нужно всегда идти по стопам других.\n",
      "\n",
      "Maybe[Отрицательно] [0.0587] == Right[Отрицательно]\tГоворила я тебе, не верь никому\n",
      "\n",
      "Maybe[Положительно] [0.9238] == Right[Положительно]\tЛибо ты бежишь день, либо день бежит за тобой.\n",
      "\n",
      "Maybe[Отрицательно] [0.0870] == Right[Отрицательно]\tНикому никогда не помогай, это к добру не приведет, все равно, виноватым будешь\n",
      "\n",
      "Maybe[Положительно] [0.9320] == Right[Положительно]\tНе позволяйте утренним проблемам помешать вам быть успешным.\n",
      "\n",
      "Maybe[Отрицательно] [0.0675] == Right[Отрицательно]\tУ меня такая плохая карма\n",
      "\n",
      "Maybe[Отрицательно] [0.3745] == Right[Отрицательно]\tНи один врач не сможет вылечить мою болезнь\n",
      "\n",
      "Maybe[Отрицательно] [0.1677] == Right[Отрицательно]\tК врачам только попади, сразу найдут кучу болезней\n",
      "\n",
      "Maybe[Отрицательно] [0.1809] == Right[Отрицательно]\tЗдоровое питание сильно дорого для меня\n",
      "\n",
      "Maybe[Положительно] [0.8690] == Right[Положительно]\tМы все можем привнести позитивную энергию в нашу повседневную жизнь.\n",
      "\n",
      "Maybe[Отрицательно] [0.2108] == Right[Отрицательно]\tСтоит только пожениться, тут же начинаются ссора и обиды\n",
      "\n",
      "Maybe[Положительно] [0.9049]    Right[Отрицательно]\tЧем больше денег, тем больше зависти. Чем больше зависти, тем больше болезней\n",
      "\n",
      "Maybe[Положительно] [0.9530] == Right[Положительно]\tУ вас больше потенциала, чем вам кажется. Но вряд ли вы узнаете весь свой потенциал, если не будете бросать себе вызов\n",
      "\n",
      "Maybe[Положительно] [0.9336] == Right[Положительно]\tСтарайтесь сделать хорошие дни великими и взять что-то положительное из тех дней, когда не чувствуете себя хорошо.\n",
      "\n",
      "Maybe[Положительно] [0.7262] == Right[Положительно]\tПрактически нет ничего невозможного в этом мире, если вы просто сосредоточитесь на цели и сохраните позитивный настрой.\n",
      "\n",
      "Maybe[Отрицательно] [0.0750] == Right[Отрицательно]\tРабота не волк, в лес не убежит, поэтому делай все в последний момент\n",
      "\n",
      "Maybe[Отрицательно] [0.1122] == Right[Отрицательно]\tС возрастом болячки только усиливаются и увеличиваются\n",
      "\n",
      "Maybe[Отрицательно] [0.0409] == Right[Отрицательно]\tМеня никто не любит\n",
      "\n",
      "Maybe[Положительно] [0.9504] == Right[Положительно]\tЖиви так чтобы увидеть, как ты становишься сильнее и живешь счастливой, полноценной жизнью.\n",
      "\n",
      "Maybe[Положительно] [0.8993] == Right[Положительно]\tПреданность, вера и позитивное отношение — все это важно, если вы собираетесь добиться успеха\n",
      "\n",
      "Maybe[Положительно] [0.8479] == Right[Положительно]\tДля меня жизнь заключается в том, чтобы быть позитивным и обнадеживающим, выбирая радость\n",
      "\n",
      "Maybe[Положительно] [0.9446] == Right[Положительно]\tКаждый день живи с позитивным настроем и пытайся улучшиться.\n",
      "\n",
      "Maybe[Положительно] [0.7642] == Right[Положительно]\tТолько хорошее действие в сочетании с позитивным мышлением приводит к успеху.\n",
      "\n",
      "Maybe[Положительно] [0.9095] == Right[Положительно]\tОставайся позитивным. Прости других. Инвестируй в себя. Доверяй своим инстинктам.\n",
      "\n",
      "Maybe[Положительно] [0.9681] == Right[Положительно]\tВы — лучший ответ на проблемы, которые возникли в понедельник.\n",
      "\n",
      "Maybe[Положительно] [0.9753] == Right[Положительно]\tЕсли вы просто посмотрите на жизнь позитивно, произойдут позитивные вещи.\n",
      "\n",
      "Maybe[Положительно] [0.8623]    Right[Отрицательно]\tМне публично выступить? Что вы?! Это точно не мое! \n",
      "\n",
      "Maybe[Положительно] [0.8289] == Right[Положительно]\tВсегда верьте в себя и выходите за пределы своих возможностей.\n",
      "\n",
      "Maybe[Отрицательно] [0.0991] == Right[Отрицательно]\tЯ никому не доверяю, это опасно. Только понадеешься, тут же подведут\n",
      "\n",
      "Maybe[Отрицательно] [0.0440] == Right[Отрицательно]\tМужики все бесчувственные\n",
      "\n",
      "Maybe[Положительно] [0.9265] == Right[Положительно]\tТяжелые времена часто приводят к величайшим моментам вашей жизни.\n",
      "\n",
      "Maybe[Положительно] [0.7724]    Right[Отрицательно]\tВо столько лет на хорошую работу не устроиться\n",
      "\n",
      "Maybe[Положительно] [0.7793]    Right[Отрицательно]\tНа работе инициатива наказуема, лучше не бери на себя лишнего, не подводи коллег\n",
      "\n",
      "Maybe[Отрицательно] [0.1486]    Right[Положительно]\tНичто не делает человека счастливее, чем счастливое сердце.\n",
      "\n",
      "Maybe[Отрицательно] [0.0971] == Right[Отрицательно]\tКак бы я не старался, от судьбы не уйдешь\n",
      "\n"
     ]
    }
   ],
   "source": [
    "#t = \"негативы\".lower()\n",
    "#data = tokenizer.texts_to_sequences([t])\n",
    "#print(data)\n",
    "#data_pad = pad_sequences(data, maxlen=max_text_len)\n",
    "#print( sequence_to_text(data[0]) )\n",
    "#print(X_test)\n",
    "for x in range(len(X_test)): \n",
    "    #print(f\"X_test[{x}]: \", X_test[x], \"X_test type: \", type(X_test[x]))\n",
    "    \n",
    "    a = np.array([X_test[x]]) \n",
    "    #print(f\"a: \", a, \"a type\", type(a))\n",
    "    res = model.predict(a)\n",
    "        \n",
    "    mark = \"Положительно\" if np.mean(res) > 0.5 else \"Отрицательно\"\n",
    "    mark2 = \"Положительно\" if Y_test[x] == 1 else \"Отрицательно\"\n",
    "    equal = \"==\" if mark == mark2 else \"  \"\n",
    "    #print((f\"Maybe[{mark}] [%.4f] \" % np.mean(res)) + equal + f\" Right[{mark2}]\\t\" + \n",
    "    #      ' '.join(list(filter(None, sequence_to_text(X_test[x])))) )\n",
    "    print((f\"Maybe[{mark}] [%.4f] \" % np.mean(res)) + equal + f\" Right[{mark2}]\\t\" + X_test[x])\n",
    "    \n",
    "    #print(res)\n",
    "        #print(\"res: \", res )\n",
    "        #print(\"Положительно\" if np.argmax(res) == 1 else \"отрицательно\")\n",
    "    "
   ]
  },
  {
   "cell_type": "code",
   "execution_count": 16,
   "id": "65071adb",
   "metadata": {},
   "outputs": [
    {
     "data": {
      "image/png": "[encoded data removed]",
      "text/plain": [
       "<Figure size 432x288 with 1 Axes>"
      ]
     },
     "metadata": {
      "needs_background": "light"
     },
     "output_type": "display_data"
    }
   ],
   "source": [
    "# Вывод графика изменения ошибки\n",
    "plt.plot(history.history['accuracy'])\n",
    "plt.plot(history.history['val_accuracy'])\n",
    "plt.title('model accuracy')\n",
    "plt.ylabel('accuracy')\n",
    "plt.xlabel('epoch')\n",
    "plt.legend(['train', 'val'], loc = 'upper left')\n",
    "plt.show()"
   ]
  },
  {
   "cell_type": "code",
   "execution_count": 17,
   "id": "4b287f96",
   "metadata": {},
   "outputs": [
    {
     "name": "stdout",
     "output_type": "stream",
     "text": [
      "4/4 [==============================] - 0s 750us/step - loss: 0.3683 - accuracy: 0.8571\n"
     ]
    },
    {
     "data": {
      "text/plain": [
       "[0.3682827949523926, 0.8571428656578064]"
      ]
     },
     "execution_count": 17,
     "metadata": {},
     "output_type": "execute_result"
    }
   ],
   "source": [
    "# тест модели\n",
    "model.evaluate(X_test, Y_test, batch_size = FIT_batch_size)"
   ]
  },
  {
   "cell_type": "code",
   "execution_count": 18,
   "id": "19348a33",
   "metadata": {},
   "outputs": [
    {
     "data": {
      "image/png": "[encoded data removed]",
      "text/plain": [
       "<Figure size 432x288 with 1 Axes>"
      ]
     },
     "metadata": {
      "needs_background": "light"
     },
     "output_type": "display_data"
    }
   ],
   "source": [
    "# Вывод графика изменения ошибки\n",
    "plt.plot(history.history['loss'])\n",
    "plt.plot(history.history['val_loss'])\n",
    "plt.title('model loss')\n",
    "plt.ylabel('loss')\n",
    "plt.xlabel('epoch')\n",
    "plt.legend(['train', 'val'], loc = 'upper left')\n",
    "plt.show()"
   ]
  },
  {
   "cell_type": "code",
   "execution_count": 19,
   "id": "bffa550f",
   "metadata": {},
   "outputs": [
    {
     "name": "stdout",
     "output_type": "stream",
     "text": [
      "mark [Положительно]\n",
      "res:  [[0.9760832]]\n",
      "res[0,0]:  0.9760832\n"
     ]
    }
   ],
   "source": [
    "t = \"если вы просто посмотрите на жизнь позитивно произойдут позитивные вещи\"\n",
    "\n",
    "a = list()\n",
    "a.append(t)\n",
    "\n",
    "#res = model.predict(data_pad)\n",
    "res = model.predict(a)\n",
    "\n",
    "mark = \"Положительно\" if np.mean(res) > 0.5 else \"отрицательно\"\n",
    "\n",
    "print(f\"mark [{mark}]\")\n",
    "print(\"res: \", res)\n",
    "print(\"res[0,0]: \", res[0,0])"
   ]
  },
  {
   "cell_type": "code",
   "execution_count": 20,
   "id": "2f051385",
   "metadata": {},
   "outputs": [
    {
     "name": "stdout",
     "output_type": "stream",
     "text": [
      "mark [отрицательно]\n",
      "res:  [[0.12758711]]\n",
      "res[0,0]:  0.12758711\n"
     ]
    }
   ],
   "source": [
    "t = \"это просто ужасно плохо противно не хорошо\".lower()\n",
    "\n",
    "a = list()\n",
    "a.append(t)\n",
    "\n",
    "#res = model.predict(data_pad)\n",
    "res = model.predict(a)\n",
    "\n",
    "mark = \"Положительно\" if np.mean(res) > 0.5 else \"отрицательно\"\n",
    "\n",
    "print(f\"mark [{mark}]\")\n",
    "print(\"res: \", res)\n",
    "print(\"res[0,0]: \", res[0,0])"
   ]
  },
  {
   "cell_type": "code",
   "execution_count": null,
   "id": "90fe2ab5",
   "metadata": {},
   "outputs": [],
   "source": []
  }
 ],
 "metadata": {
  "kernelspec": {
   "display_name": "Python 3 (ipykernel)",
   "language": "python",
   "name": "python3"
  },
  "language_info": {
   "codemirror_mode": {
    "name": "ipython",
    "version": 3
   },
   "file_extension": ".py",
   "mimetype": "text/x-python",
   "name": "python",
   "nbconvert_exporter": "python",
   "pygments_lexer": "ipython3",
   "version": "3.8.12"
  }
 },
 "nbformat": 4,
 "nbformat_minor": 5
}
