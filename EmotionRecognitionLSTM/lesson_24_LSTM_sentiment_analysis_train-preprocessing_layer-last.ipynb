{
 "cells": [
  {
   "cell_type": "code",
   "execution_count": 1,
   "id": "c3ae7a77",
   "metadata": {},
   "outputs": [],
   "source": [
    "import numpy as np\n",
    "import re\n",
    "import matplotlib.pyplot as plt\n",
    "import tensorflow as tf\n",
    "import pandas as pd\n",
    "import os\n",
    "\n",
    "from IPython.display import display\n",
    "from tensorflow.keras.layers import Dense, LSTM, Input, Dropout, Embedding\n",
    "from tensorflow.keras.models import Sequential\n",
    "from tensorflow.keras.optimizers import Adam\n",
    "from tensorflow.keras.preprocessing.text import Tokenizer, text_to_word_sequence\n",
    "from tensorflow.keras.preprocessing.sequence import pad_sequences\n",
    "from tensorflow import keras"
   ]
  },
  {
   "cell_type": "code",
   "execution_count": 2,
   "id": "69a60d94",
   "metadata": {},
   "outputs": [],
   "source": [
    "# детерминация случайных величин, отвечающих за выбор первоначальных весов и биасов\n",
    "tf.compat.v1.set_random_seed(290)\n",
    "tf.random.set_seed(290)\n",
    "np.random.seed(400)"
   ]
  },
  {
   "cell_type": "code",
   "execution_count": 3,
   "id": "c3f8f6f1",
   "metadata": {},
   "outputs": [],
   "source": [
    "path_to_positive_data = 'positive.csv' # путь к файлу, из которого берутся данные для обучения\n",
    "path_to_negative_data = 'negative.csv'\n",
    "\n",
    "path_to_processed_positive_data = \"my_pos_text.csv\"\n",
    "path_to_processed_negative_data = \"my_neg_text.csv\"\n",
    "\n",
    "target = 'text' # название взятой величины из файла"
   ]
  },
  {
   "cell_type": "code",
   "execution_count": 4,
   "id": "ff10edc9",
   "metadata": {},
   "outputs": [],
   "source": [
    "#///////////////////////////////// для колбэков\n",
    "\n",
    "    # для Early_stopping\n",
    "ES_patience = 20 # кол-во эпох без улучшений\n",
    "ES_min_delta = 0.001 # минимальное улучшение параметра за cur_patience\n",
    "ES_monitor_parametr =  'val_loss' # отслеживаемый параметр \n",
    "ES_save_best_weights = True # сохранять ли веса нейронки с лучшими результатами\n",
    "    \n",
    "    # для ReduceLROnPlateau\n",
    "RLPOP_monitor_parametr = 'val_loss'  # отслеживаемый параметр \n",
    "RLPOP_factor = 0.1 # множитель для расчета нового шага сходимости (new_learning_rate = old_learning_rate*RLPOP_factor)\n",
    "RLPOP_patience = 15 # кол-во эпох без улучшений\n",
    "RLPOP_verbose = 1 # выводить ли прогресс изменения шага сходимости в его процессее\n",
    "RLPOP_mode = 'auto' # выбирает, уменьшать шаг сходимости при росте величины или при её уменьшении\n",
    "RLPOP_min_delta = 0.0001 # порог изменения отслеживаемого значения\n",
    "RLPOP_cooldown = 0 # количество эпох до возобновления работы после изменения шага сходимости\n",
    "RLPOP_min_lr = 0 # минимальное значение шага сходимости\n",
    "\n",
    "    # для CallbackList\n",
    "CBL_add_history = True # вызывать ли колбэк History (если он не был довавлен вручную)\n",
    "CBL_add_progbar = True # вызывать ли колбэк ProgbarLogger (если он не был довавлен вручную)\n",
    "    \n",
    "maxWordsCount = 15000\n",
    "max_text_len = 10\n",
    "FIT_batch_size = 1600 #1000 #250 #400 #500 #500 #10 #8 #15"
   ]
  },
  {
   "cell_type": "code",
   "execution_count": 5,
   "id": "1aa63867",
   "metadata": {},
   "outputs": [],
   "source": [
    "# разделить данные на тренировочные и тестовые\n",
    "def split(X,Y,factor):\n",
    "    X_train=X[:factor]\n",
    "    Y_train=Y[:factor]\n",
    "    X_test=X[factor:]\n",
    "    Y_test=Y[factor:]\n",
    "    return X_train,Y_train,X_test,Y_test"
   ]
  },
  {
   "cell_type": "code",
   "execution_count": 6,
   "id": "7ad4068d",
   "metadata": {},
   "outputs": [],
   "source": [
    "# извлечь датасет из файла\n",
    "def get_df(path, target_name = '2', serarator = ',', col_names = ['1','2']):\n",
    "    \n",
    "    file = pd.read_csv(path, sep = serarator, names = col_names)\n",
    "    dframe = pd.DataFrame(file[target_name])\n",
    "    return dframe"
   ]
  },
  {
   "cell_type": "code",
   "execution_count": 7,
   "id": "7e392bd1",
   "metadata": {},
   "outputs": [],
   "source": [
    "def remove_english(df):\n",
    "    temp = list()\n",
    "    for index, row in df.iterrows():\n",
    "        temp.append(\"\".join([w for w in row[target] if not re.match(r'[A-Z]+', w, re.I)]))\n",
    "    return temp"
   ]
  },
  {
   "cell_type": "code",
   "execution_count": 8,
   "id": "9eb60335",
   "metadata": {},
   "outputs": [
    {
     "name": "stdout",
     "output_type": "stream",
     "text": [
      "pos_text:  ['@_ хоть я и школота, но поверь, у нас то же самое : общество профилирующий предмет типа)'\n",
      " 'Да, все-таки он немного похож на него. Но мой мальчик все равно лучше:'\n",
      " ' @: Ну ты идиотка) я испугалась за тебя!!!'\n",
      " ' @2912: \"Кто то в углу сидит и погибает от голода, а мы ещё 2 порции взяли, хотя уже и так жрать не хотим\" : ://./62…'\n",
      " '@_ Вот что значит страшилка :\\nНо блин,посмотрев все части,у тебя создастся ощущение,что авторы курили что-то :'\n",
      " 'ну любишь или нет? — Я не знаю кто ты бля: ://./916'\n",
      " ' @: Ох,900 : ну это конечно же @ . Чтобы у нее было много друзей, ведь она такая мимими &;3'\n",
      " ' @: У тебя есть ухажёр? Нет - мои уши не кто не жрёт :'\n",
      " 'Поприветствуем моего нового читателя @1789 ;)'\n",
      " 'Теперь у меня есть частичка Сиднея :) # # ://./3']\n",
      "neg_text:  ['на работе был полный пиддес :| и так каждое закрытие месяца, я же свихнусь так :'\n",
      " 'Коллеги сидят рубятся в  , а я из-за долбанной винды не могу :('\n",
      " '@_4 как говорят обещаного три года ждут...(('\n",
      " 'Желаю хорошего полёта и удачной посадки,я буду очень сильно скучать( ://./3'\n",
      " 'Обновил за каким-то лешим , теперь не работает простоплеер :('\n",
      " 'Котёнка вчера носик разбила, плакала и расстраивалась :('\n",
      " '@ @_55 @_ Зашли, а то он опять затихарился, я прямо физически страдаю, когда он долго молчит!((('\n",
      " 'а вообще я не болею -  я не выздоравливаю :('\n",
      " 'я микрофраза :( учимся срать кирпичами в режиме &;;нон-стоп&;; @'\n",
      " 'я хочу с тобой помириться , но сука я гордая и никогда этого не сделаю! (((']\n"
     ]
    }
   ],
   "source": [
    "# если оригинальный датасет не обрабатывался - обработать и создать новый\n",
    "temp_names = [\"id\",\"name\",\"text\",\"her1\",\"her2\",\"her3\",\n",
    "                  \"her4\",\"her5\",\"her6\",\"her7\",\"her8\"] # названия колонок для ориг датасета \n",
    "\n",
    "if not os.path.exists(path_to_processed_positive_data):\n",
    "    pos_df = get_df(path_to_positive_data, target, \";\", temp_names)\n",
    "    \n",
    "    pos_text = remove_english(pos_df)\n",
    "    pos_df = pd.DataFrame(pos_text)\n",
    "    \n",
    "    pos_df.to_csv(path_to_processed_positive_data, header = False)\n",
    "else:\n",
    "    pos_df = get_df(path_to_processed_positive_data)\n",
    "    pos_text = pos_df['2'].values.tolist()\n",
    "    \n",
    "# если оригинальный датасет не обрабатывался - обработать и создать новый    \n",
    "if not os.path.exists(path_to_processed_negative_data):\n",
    "    neg_df = get_df(path_to_negative_data, target, \";\", temp_names)\n",
    "    \n",
    "    neg_text = remove_english(neg_df)\n",
    "    neg_df = pd.DataFrame(neg_text)\n",
    "    \n",
    "    neg_df.to_csv(path_to_processed_negative_data, header = False)\n",
    "else:\n",
    "    neg_df = get_df(path_to_processed_negative_data)\n",
    "    neg_text = neg_df['2'].values.tolist()\n",
    "\n",
    "print(\"pos_text: \", np.array(pos_text[:10]))\n",
    "print(\"neg_text: \", np.array(neg_text[:10]))"
   ]
  },
  {
   "cell_type": "code",
   "execution_count": 9,
   "id": "84790ba9",
   "metadata": {},
   "outputs": [
    {
     "name": "stdout",
     "output_type": "stream",
     "text": [
      "pos_text_num:  114911 \n",
      "neg_text_num:  111923 \n",
      "all_text_num:  226834\n"
     ]
    }
   ],
   "source": [
    "texts = pos_text + neg_text\n",
    "count_true = len(pos_text)\n",
    "count_false = len(neg_text)\n",
    "total_lines = count_true + count_false\n",
    "print(\n",
    "    \"pos_text_num: \", count_true, \n",
    "    \"\\nneg_text_num: \", count_false,\n",
    "    \"\\nall_text_num: \", total_lines)"
   ]
  },
  {
   "cell_type": "code",
   "execution_count": 10,
   "id": "c37b6a60",
   "metadata": {},
   "outputs": [
    {
     "name": "stdout",
     "output_type": "stream",
     "text": [
      "(226834,) (226834,)\n",
      "indeces:  [ 48642 208321  32328 ... 198974  69071 119132]\n",
      "train:  (181467,) (181467,) <class 'numpy.ndarray'> <class 'numpy.ndarray'>\n",
      "test:  (45367,) (45367,) <class 'numpy.ndarray'> <class 'numpy.ndarray'>\n",
      "Планшет шалит. Перемещает картинки из одной папки в другую. У меня фото Уэя в фартучке в папке с котятами. Хотя стойте, все правильно: 1\n",
      "мои съёмки постоянно куда то переносятся.\n",
      "я когда нибудь отщелкаю пленку? Мю:( 0\n",
      " @_: Ну поймёт только лучшая подруга :) 1\n",
      "@ @ бизнес с друзьями заводить нельзя :( 0\n",
      " @_: Настя подари мне щастья подари мне радость подари любовь :\n",
      "Азазаза 1\n"
     ]
    }
   ],
   "source": [
    "X_data = np.array(texts)\n",
    "\n",
    "Y_data = np.array([1]*count_true + [0]*count_false)\n",
    "print(X_data.shape, Y_data.shape)\n",
    "\n",
    "indeces = np.random.choice(X_data.shape[0], size = X_data.shape[0], replace=False)\n",
    "\n",
    "print(\"indeces: \", indeces)\n",
    "\n",
    "X_data = X_data[indeces]\n",
    "Y_data = Y_data[indeces]\n",
    "\n",
    "factor = int(.80 * X_data.shape[0])\n",
    "\n",
    "X_train,Y_train,X_test,Y_test = split(X_data,Y_data,factor)\n",
    "\n",
    "print(\"train: \", X_train.shape, Y_train.shape, type(X_train), type(Y_train))\n",
    "print(\"test: \", X_test.shape, Y_test.shape, type(X_test), type(Y_test))\n",
    "\n",
    "for x in range(5):\n",
    "    print(X_train[x], Y_train[x])"
   ]
  },
  {
   "cell_type": "code",
   "execution_count": 11,
   "id": "690603d2",
   "metadata": {},
   "outputs": [],
   "source": [
    "#print(X.shape)\n",
    "#LSTM?\n",
    "#Sequential.compile?\n",
    "#equential.fit?"
   ]
  },
  {
   "cell_type": "code",
   "execution_count": 12,
   "id": "ba7032d1",
   "metadata": {},
   "outputs": [
    {
     "name": "stdout",
     "output_type": "stream",
     "text": [
      "Model: \"sequential\"\n",
      "_________________________________________________________________\n",
      "Layer (type)                 Output Shape              Param #   \n",
      "=================================================================\n",
      "text_vectorization (TextVect (None, 10)                0         \n",
      "_________________________________________________________________\n",
      "embedding (Embedding)        (None, 10, 128)           1920000   \n",
      "_________________________________________________________________\n",
      "lstm (LSTM)                  (None, 10, 64)            49408     \n",
      "_________________________________________________________________\n",
      "lstm_1 (LSTM)                (None, 16)                5184      \n",
      "_________________________________________________________________\n",
      "dense (Dense)                (None, 1)                 17        \n",
      "=================================================================\n",
      "Total params: 1,974,609\n",
      "Trainable params: 1,974,609\n",
      "Non-trainable params: 0\n",
      "_________________________________________________________________\n"
     ]
    }
   ],
   "source": [
    "#Sequential model с преобработкой\n",
    "vectproc = tf.keras.layers.experimental.preprocessing.TextVectorization( #tf.keras.layers.TextVectorization(\n",
    "    max_tokens = maxWordsCount, \n",
    "    standardize = 'lower_and_strip_punctuation',\n",
    "    split = 'whitespace',\n",
    "    output_mode = 'int',\n",
    "    output_sequence_length = max_text_len,\n",
    "    )\n",
    "\n",
    "text_dataset = tf.data.Dataset.from_tensor_slices(texts)\n",
    "\n",
    "vectproc.adapt(text_dataset.batch(64))\n",
    "\n",
    "model = tf.keras.models.Sequential()\n",
    "\n",
    "model.add(Input(shape=(1,), dtype=tf.string))\n",
    "model.add(vectproc)\n",
    "model.add(Embedding(maxWordsCount, output_dim = 128, input_length = max_text_len))\n",
    "#model.add(LSTM(units = 128, return_sequences = True, dropout = 0.3))\n",
    "model.add(LSTM(units = 64, return_sequences = True, dropout = 0.3))\n",
    "model.add(LSTM(units = 16, dropout = 0.3))\n",
    "model.add(Dense(units = 1, activation='sigmoid'))\n",
    "model.summary()"
   ]
  },
  {
   "cell_type": "code",
   "execution_count": 13,
   "id": "fc68b59e",
   "metadata": {},
   "outputs": [],
   "source": [
    "# Создание и настройка колбэков\n",
    "callback_list = [] # массив колбэков до подачи в колбек \"callbacklist\"\n",
    "\n",
    "temp = keras.callbacks.EarlyStopping(\n",
    "            monitor = ES_monitor_parametr, \n",
    "            min_delta = ES_min_delta, \n",
    "            patience = ES_patience,\n",
    "            restore_best_weights = ES_save_best_weights\n",
    "            )\n",
    "callback_list.append(temp)\n",
    "\n",
    "temp = keras.callbacks.ReduceLROnPlateau(\n",
    "            monitor = RLPOP_monitor_parametr, \n",
    "            factor = RLPOP_factor, \n",
    "            patience = RLPOP_patience, \n",
    "            verbose = RLPOP_verbose,\n",
    "            mode = RLPOP_mode, \n",
    "            min_delta = RLPOP_min_delta, \n",
    "            cooldown = RLPOP_cooldown, \n",
    "            min_lr = RLPOP_min_lr\n",
    "            )\n",
    "callback_list.append(temp)\n",
    "\n",
    "FIT_callback_list = keras.callbacks.CallbackList(\n",
    "            callbacks = callback_list, \n",
    "            add_history = CBL_add_history, \n",
    "            add_progbar = CBL_add_progbar, \n",
    "            model = model\n",
    "            )"
   ]
  },
  {
   "cell_type": "code",
   "execution_count": 14,
   "id": "030a85bd",
   "metadata": {},
   "outputs": [],
   "source": [
    "model.compile(loss = 'binary_crossentropy',#'mean_squared_error', \n",
    "              metrics=['accuracy'], \n",
    "              # learning_rate = 0.1\n",
    "              optimizer = tf.keras.optimizers.SGD(learning_rate = 0.2)) #0.1))#0.08))\n",
    "#tf.keras.optimizers.SGD(learning_rate = 0.01)) #0.01\n",
    "# tf.keras.optimizers.SGD(learning_rate = 0.0001)) #0.05)) #Adam(0.0003)) #'categorical_crossentropy'"
   ]
  },
  {
   "cell_type": "code",
   "execution_count": 15,
   "id": "4936374e",
   "metadata": {},
   "outputs": [],
   "source": [
    "#tf.keras.models.Sequential.fit?"
   ]
  },
  {
   "cell_type": "code",
   "execution_count": 16,
   "id": "e55503e9",
   "metadata": {},
   "outputs": [
    {
     "name": "stdout",
     "output_type": "stream",
     "text": [
      "91/91 [==============================] - 8s 85ms/step - loss: 0.6923 - accuracy: 0.5208 - val_loss: 0.6916 - val_accuracy: 0.5269\n",
      "91/91 [==============================] - 7s 78ms/step - loss: 0.6908 - accuracy: 0.5385 - val_loss: 0.6901 - val_accuracy: 0.5484\n",
      "91/91 [==============================] - 7s 78ms/step - loss: 0.6891 - accuracy: 0.5505 - val_loss: 0.6882 - val_accuracy: 0.5503\n",
      "91/91 [==============================] - 7s 78ms/step - loss: 0.6870 - accuracy: 0.5546 - val_loss: 0.6861 - val_accuracy: 0.5544\n",
      "91/91 [==============================] - 7s 78ms/step - loss: 0.6849 - accuracy: 0.5579 - val_loss: 0.6844 - val_accuracy: 0.5577\n",
      "91/91 [==============================] - 7s 79ms/step - loss: 0.6830 - accuracy: 0.5611 - val_loss: 0.6829 - val_accuracy: 0.5542\n",
      "91/91 [==============================] - 7s 78ms/step - loss: 0.6811 - accuracy: 0.5661 - val_loss: 0.6804 - val_accuracy: 0.5660\n",
      "91/91 [==============================] - 7s 78ms/step - loss: 0.6785 - accuracy: 0.5722 - val_loss: 0.6775 - val_accuracy: 0.5732\n",
      "91/91 [==============================] - 7s 78ms/step - loss: 0.6749 - accuracy: 0.5835 - val_loss: 0.6735 - val_accuracy: 0.5853\n",
      "91/91 [==============================] - 7s 79ms/step - loss: 0.6710 - accuracy: 0.5911 - val_loss: 0.6690 - val_accuracy: 0.5940\n",
      "91/91 [==============================] - 7s 78ms/step - loss: 0.6704 - accuracy: 0.5883 - val_loss: 0.6701 - val_accuracy: 0.5870\n",
      "91/91 [==============================] - 7s 78ms/step - loss: 0.6681 - accuracy: 0.5941 - val_loss: 0.6616 - val_accuracy: 0.6068\n",
      "91/91 [==============================] - 7s 78ms/step - loss: 0.6648 - accuracy: 0.5985 - val_loss: 0.6611 - val_accuracy: 0.6040\n",
      "91/91 [==============================] - 7s 78ms/step - loss: 0.6614 - accuracy: 0.6015 - val_loss: 0.6795 - val_accuracy: 0.5719\n",
      "91/91 [==============================] - 7s 78ms/step - loss: 0.6587 - accuracy: 0.6073 - val_loss: 0.6575 - val_accuracy: 0.6056\n",
      "91/91 [==============================] - 7s 79ms/step - loss: 0.6558 - accuracy: 0.6098 - val_loss: 0.6650 - val_accuracy: 0.5937\n",
      "91/91 [==============================] - 7s 79ms/step - loss: 0.6526 - accuracy: 0.6150 - val_loss: 0.6799 - val_accuracy: 0.5650\n",
      "91/91 [==============================] - 7s 78ms/step - loss: 0.6484 - accuracy: 0.6215 - val_loss: 0.6434 - val_accuracy: 0.6277\n",
      "91/91 [==============================] - 7s 79ms/step - loss: 0.6466 - accuracy: 0.6240 - val_loss: 0.6628 - val_accuracy: 0.5933\n",
      "91/91 [==============================] - 7s 79ms/step - loss: 0.6438 - accuracy: 0.6267 - val_loss: 0.6344 - val_accuracy: 0.6390\n",
      "91/91 [==============================] - 7s 78ms/step - loss: 0.6418 - accuracy: 0.6274 - val_loss: 0.6349 - val_accuracy: 0.6374\n",
      "91/91 [==============================] - 7s 78ms/step - loss: 0.6387 - accuracy: 0.6313 - val_loss: 0.6313 - val_accuracy: 0.6441\n",
      "91/91 [==============================] - 7s 78ms/step - loss: 0.6349 - accuracy: 0.6362 - val_loss: 0.6304 - val_accuracy: 0.6432\n",
      "91/91 [==============================] - 7s 79ms/step - loss: 0.6351 - accuracy: 0.6358 - val_loss: 0.6375 - val_accuracy: 0.6321\n",
      "91/91 [==============================] - 7s 78ms/step - loss: 0.6301 - accuracy: 0.6437 - val_loss: 0.6319 - val_accuracy: 0.6381\n",
      "91/91 [==============================] - 7s 79ms/step - loss: 0.6303 - accuracy: 0.6417 - val_loss: 0.6306 - val_accuracy: 0.6403\n",
      "91/91 [==============================] - 7s 78ms/step - loss: 0.6278 - accuracy: 0.6446 - val_loss: 0.6470 - val_accuracy: 0.6186\n",
      "91/91 [==============================] - 7s 78ms/step - loss: 0.6241 - accuracy: 0.6491 - val_loss: 0.6181 - val_accuracy: 0.6567\n",
      "91/91 [==============================] - 7s 78ms/step - loss: 0.6259 - accuracy: 0.6467 - val_loss: 0.6335 - val_accuracy: 0.6339\n",
      "91/91 [==============================] - 7s 78ms/step - loss: 0.6211 - accuracy: 0.6521 - val_loss: 0.6525 - val_accuracy: 0.6146\n",
      "91/91 [==============================] - 7s 78ms/step - loss: 0.6200 - accuracy: 0.6520 - val_loss: 0.6196 - val_accuracy: 0.6525\n",
      "91/91 [==============================] - 7s 77ms/step - loss: 0.6192 - accuracy: 0.6548 - val_loss: 0.6351 - val_accuracy: 0.6306\n",
      "91/91 [==============================] - 7s 78ms/step - loss: 0.6168 - accuracy: 0.6565 - val_loss: 0.6563 - val_accuracy: 0.6146\n",
      "91/91 [==============================] - 7s 78ms/step - loss: 0.6157 - accuracy: 0.6568 - val_loss: 0.6249 - val_accuracy: 0.6432\n",
      "91/91 [==============================] - 7s 78ms/step - loss: 0.6146 - accuracy: 0.6594 - val_loss: 0.6206 - val_accuracy: 0.6496\n",
      "91/91 [==============================] - 7s 78ms/step - loss: 0.6121 - accuracy: 0.6618 - val_loss: 0.6088 - val_accuracy: 0.6646\n",
      "91/91 [==============================] - 7s 78ms/step - loss: 0.6125 - accuracy: 0.6607 - val_loss: 0.6063 - val_accuracy: 0.6694\n",
      "91/91 [==============================] - 7s 78ms/step - loss: 0.6085 - accuracy: 0.6659 - val_loss: 0.6036 - val_accuracy: 0.6717\n",
      "91/91 [==============================] - 7s 77ms/step - loss: 0.6079 - accuracy: 0.6656 - val_loss: 0.6120 - val_accuracy: 0.6601\n",
      "91/91 [==============================] - 7s 78ms/step - loss: 0.6066 - accuracy: 0.6668 - val_loss: 0.6131 - val_accuracy: 0.6578\n",
      "91/91 [==============================] - 7s 78ms/step - loss: 0.6048 - accuracy: 0.6674 - val_loss: 0.6099 - val_accuracy: 0.6623\n",
      "91/91 [==============================] - 7s 78ms/step - loss: 0.6031 - accuracy: 0.6697 - val_loss: 0.6149 - val_accuracy: 0.6538\n",
      "91/91 [==============================] - 7s 78ms/step - loss: 0.6007 - accuracy: 0.6728 - val_loss: 0.5992 - val_accuracy: 0.6737\n",
      "91/91 [==============================] - 7s 78ms/step - loss: 0.6014 - accuracy: 0.6717 - val_loss: 0.5981 - val_accuracy: 0.6750\n",
      "91/91 [==============================] - 7s 79ms/step - loss: 0.6013 - accuracy: 0.6696 - val_loss: 0.6123 - val_accuracy: 0.6569\n",
      "91/91 [==============================] - 7s 79ms/step - loss: 0.5959 - accuracy: 0.6754 - val_loss: 0.5971 - val_accuracy: 0.6756\n",
      "91/91 [==============================] - 7s 79ms/step - loss: 0.5967 - accuracy: 0.6756 - val_loss: 0.5986 - val_accuracy: 0.6713\n",
      "91/91 [==============================] - 7s 78ms/step - loss: 0.5953 - accuracy: 0.6769 - val_loss: 0.6000 - val_accuracy: 0.6702\n",
      "91/91 [==============================] - 7s 78ms/step - loss: 0.5916 - accuracy: 0.6801 - val_loss: 0.6058 - val_accuracy: 0.6637\n",
      "91/91 [==============================] - 7s 79ms/step - loss: 0.5911 - accuracy: 0.6801 - val_loss: 0.6038 - val_accuracy: 0.6653\n",
      "91/91 [==============================] - 7s 78ms/step - loss: 0.5899 - accuracy: 0.6803 - val_loss: 0.5971 - val_accuracy: 0.6750\n",
      "91/91 [==============================] - 7s 78ms/step - loss: 0.5891 - accuracy: 0.6810 - val_loss: 0.5934 - val_accuracy: 0.6767\n",
      "91/91 [==============================] - 7s 78ms/step - loss: 0.5875 - accuracy: 0.6839 - val_loss: 0.5896 - val_accuracy: 0.6841\n",
      "91/91 [==============================] - 7s 79ms/step - loss: 0.5867 - accuracy: 0.6842 - val_loss: 0.5952 - val_accuracy: 0.6763\n",
      "91/91 [==============================] - 7s 79ms/step - loss: 0.5857 - accuracy: 0.6842 - val_loss: 0.5896 - val_accuracy: 0.6836\n",
      "91/91 [==============================] - 7s 78ms/step - loss: 0.5815 - accuracy: 0.6873 - val_loss: 0.6235 - val_accuracy: 0.6499\n",
      "91/91 [==============================] - 7s 79ms/step - loss: 0.5833 - accuracy: 0.6872 - val_loss: 0.5994 - val_accuracy: 0.6687\n",
      "91/91 [==============================] - 7s 78ms/step - loss: 0.5819 - accuracy: 0.6880 - val_loss: 0.5999 - val_accuracy: 0.6697\n",
      "91/91 [==============================] - 7s 78ms/step - loss: 0.5805 - accuracy: 0.6891 - val_loss: 0.6026 - val_accuracy: 0.6652\n",
      "91/91 [==============================] - 7s 78ms/step - loss: 0.5807 - accuracy: 0.6880 - val_loss: 0.5973 - val_accuracy: 0.6760\n",
      "91/91 [==============================] - 7s 78ms/step - loss: 0.5774 - accuracy: 0.6931 - val_loss: 0.6094 - val_accuracy: 0.6559\n",
      "91/91 [==============================] - 7s 79ms/step - loss: 0.5758 - accuracy: 0.6938 - val_loss: 0.5844 - val_accuracy: 0.6857\n",
      "91/91 [==============================] - 7s 80ms/step - loss: 0.5730 - accuracy: 0.6967 - val_loss: 0.6122 - val_accuracy: 0.6588\n"
     ]
    },
    {
     "name": "stdout",
     "output_type": "stream",
     "text": [
      "91/91 [==============================] - 7s 79ms/step - loss: 0.5745 - accuracy: 0.6946 - val_loss: 0.5843 - val_accuracy: 0.6847\n",
      "91/91 [==============================] - 7s 78ms/step - loss: 0.5742 - accuracy: 0.6938 - val_loss: 0.5812 - val_accuracy: 0.6901\n",
      "91/91 [==============================] - 7s 78ms/step - loss: 0.5727 - accuracy: 0.6970 - val_loss: 0.5825 - val_accuracy: 0.6899\n",
      "91/91 [==============================] - 7s 78ms/step - loss: 0.5684 - accuracy: 0.7002 - val_loss: 0.5907 - val_accuracy: 0.6812\n",
      "91/91 [==============================] - 7s 80ms/step - loss: 0.5692 - accuracy: 0.6996 - val_loss: 0.6181 - val_accuracy: 0.6578\n",
      "91/91 [==============================] - 7s 79ms/step - loss: 0.5685 - accuracy: 0.7012 - val_loss: 0.5846 - val_accuracy: 0.6877\n",
      "91/91 [==============================] - 7s 79ms/step - loss: 0.5680 - accuracy: 0.6987 - val_loss: 0.5922 - val_accuracy: 0.6818\n",
      "91/91 [==============================] - 7s 80ms/step - loss: 0.5635 - accuracy: 0.7046 - val_loss: 0.5846 - val_accuracy: 0.6846\n",
      "91/91 [==============================] - 7s 78ms/step - loss: 0.5650 - accuracy: 0.7026 - val_loss: 0.5772 - val_accuracy: 0.6934\n",
      "91/91 [==============================] - 7s 79ms/step - loss: 0.5645 - accuracy: 0.7031 - val_loss: 0.5802 - val_accuracy: 0.6871\n",
      "91/91 [==============================] - 7s 79ms/step - loss: 0.5609 - accuracy: 0.7066 - val_loss: 0.5768 - val_accuracy: 0.6917\n",
      "91/91 [==============================] - 7s 78ms/step - loss: 0.5590 - accuracy: 0.7085 - val_loss: 0.5853 - val_accuracy: 0.6889\n",
      "91/91 [==============================] - 7s 78ms/step - loss: 0.5575 - accuracy: 0.7097 - val_loss: 0.5901 - val_accuracy: 0.6814\n",
      "91/91 [==============================] - 7s 79ms/step - loss: 0.5571 - accuracy: 0.7113 - val_loss: 0.5754 - val_accuracy: 0.6966\n",
      "91/91 [==============================] - 7s 78ms/step - loss: 0.5567 - accuracy: 0.7101 - val_loss: 0.6054 - val_accuracy: 0.6708\n",
      "91/91 [==============================] - 7s 79ms/step - loss: 0.5552 - accuracy: 0.7106 - val_loss: 0.5828 - val_accuracy: 0.6879\n",
      "91/91 [==============================] - 7s 78ms/step - loss: 0.5553 - accuracy: 0.7112 - val_loss: 0.5744 - val_accuracy: 0.6970\n",
      "91/91 [==============================] - 7s 78ms/step - loss: 0.5505 - accuracy: 0.7157 - val_loss: 0.6118 - val_accuracy: 0.6637\n",
      "91/91 [==============================] - 7s 79ms/step - loss: 0.5520 - accuracy: 0.7140 - val_loss: 0.5731 - val_accuracy: 0.6968\n",
      "91/91 [==============================] - 7s 79ms/step - loss: 0.5509 - accuracy: 0.7153 - val_loss: 0.5774 - val_accuracy: 0.6897\n",
      "91/91 [==============================] - 7s 79ms/step - loss: 0.5501 - accuracy: 0.7151 - val_loss: 0.5965 - val_accuracy: 0.6713\n",
      "91/91 [==============================] - 7s 78ms/step - loss: 0.5462 - accuracy: 0.7189 - val_loss: 0.5764 - val_accuracy: 0.6980\n",
      "91/91 [==============================] - 7s 78ms/step - loss: 0.5460 - accuracy: 0.7190 - val_loss: 0.5840 - val_accuracy: 0.6863\n",
      "91/91 [==============================] - 7s 78ms/step - loss: 0.5462 - accuracy: 0.7179 - val_loss: 0.5724 - val_accuracy: 0.6972\n",
      "91/91 [==============================] - 7s 79ms/step - loss: 0.5463 - accuracy: 0.7177 - val_loss: 0.5716 - val_accuracy: 0.6985\n",
      "91/91 [==============================] - 7s 79ms/step - loss: 0.5448 - accuracy: 0.7189 - val_loss: 0.5706 - val_accuracy: 0.7002\n",
      "91/91 [==============================] - 7s 79ms/step - loss: 0.5449 - accuracy: 0.7194 - val_loss: 0.5809 - val_accuracy: 0.6867\n",
      "91/91 [==============================] - 7s 79ms/step - loss: 0.5430 - accuracy: 0.7214 - val_loss: 0.5710 - val_accuracy: 0.7005\n",
      "91/91 [==============================] - 7s 79ms/step - loss: 0.5405 - accuracy: 0.7233 - val_loss: 0.5749 - val_accuracy: 0.6996\n",
      "91/91 [==============================] - 7s 79ms/step - loss: 0.5434 - accuracy: 0.7212 - val_loss: 0.5694 - val_accuracy: 0.6993\n",
      "91/91 [==============================] - 7s 79ms/step - loss: 0.5409 - accuracy: 0.7216 - val_loss: 0.6044 - val_accuracy: 0.6731\n",
      "91/91 [==============================] - 7s 79ms/step - loss: 0.5406 - accuracy: 0.7234 - val_loss: 0.5703 - val_accuracy: 0.7013\n",
      "91/91 [==============================] - 7s 79ms/step - loss: 0.5376 - accuracy: 0.7254 - val_loss: 0.5707 - val_accuracy: 0.7017\n",
      "91/91 [==============================] - 7s 79ms/step - loss: 0.5383 - accuracy: 0.7250 - val_loss: 0.5825 - val_accuracy: 0.6916\n",
      "91/91 [==============================] - 7s 79ms/step - loss: 0.5356 - accuracy: 0.7267 - val_loss: 0.5864 - val_accuracy: 0.6880\n",
      "91/91 [==============================] - 7s 79ms/step - loss: 0.5383 - accuracy: 0.7249 - val_loss: 0.5708 - val_accuracy: 0.7022\n",
      "91/91 [==============================] - 7s 78ms/step - loss: 0.5357 - accuracy: 0.7270 - val_loss: 0.5693 - val_accuracy: 0.7027\n"
     ]
    }
   ],
   "source": [
    "history = model.fit(X_train, \n",
    "                    Y_train, \n",
    "                    batch_size = FIT_batch_size, \n",
    "                    shuffle = True, \n",
    "                    verbose = 1, \n",
    "                    epochs = 100, #30, \n",
    "                    validation_split = 0.20,\n",
    "                    #steps_per_epoch = 3000,\n",
    "                    callbacks = FIT_callback_list)"
   ]
  },
  {
   "cell_type": "code",
   "execution_count": 17,
   "id": "f6b795f6",
   "metadata": {},
   "outputs": [],
   "source": [
    "#Sequential.fit?"
   ]
  },
  {
   "cell_type": "code",
   "execution_count": 18,
   "id": "b7db8e4f",
   "metadata": {},
   "outputs": [],
   "source": [
    "#reverse_word_map = dict(map(reversed, tokenizer.word_index.items()))"
   ]
  },
  {
   "cell_type": "code",
   "execution_count": 19,
   "id": "821d2e64",
   "metadata": {},
   "outputs": [
    {
     "name": "stdout",
     "output_type": "stream",
     "text": [
      "Maybe[Положительно] [0.8449]  ==  Right[Положительно]\t Я ТЕБЯ БУМ БУМ БУМ : — ТЫ МЕНЯ БУМ БУМ БУМ : ://./21\n",
      "Maybe[Положительно] [0.5360]      Right[Отрицательно]\t Будь я мужчиной геем и причем русским,я бы не осмелилась пожениться с мужчиной,потому что Россия страна гомофобов((( ://./76\n",
      "Maybe[Положительно] [0.7788]  ==  Right[Положительно]\t Россол   с утра отличная вещь после бурного вечера)\n",
      "Maybe[Положительно] [0.6319]  ==  Right[Положительно]\t @_ Ну я прям и не знаю кому из вас верить ;) ://./\n",
      "Maybe[Отрицательно] [0.4463]      Right[Положительно]\t бумажный скотч спасет мир!мне не чем было зафиксировать бинт вокруг пальца и тут пришел ОН - бумажный скотч!))\n",
      "Maybe[Отрицательно] [0.3643]  ==  Right[Отрицательно]\t Хух,так переживаю!!!Наче  Шепард від мене йде, а не від Грей(((((ппц((\n",
      "Maybe[Отрицательно] [0.1901]  ==  Right[Отрицательно]\t  @: Пополнили коллекцию кошек. Теперь приходится слушать мявканье целый день и ночь:(\n",
      "Maybe[Отрицательно] [0.0683]  ==  Right[Отрицательно]\t Очень обидно, когда рукав можно стереть мочалкой :-(((\n",
      "Maybe[Положительно] [0.5633]      Right[Отрицательно]\t Единственная хорошая вещь-зачет по информатике. Но мы больше не увидим Сергея Сергеевича :(\n",
      "Maybe[Отрицательно] [0.1251]  ==  Right[Отрицательно]\t @_ а у нас физики не было:( мне так обидно стало\n",
      "Maybe[Положительно] [0.6919]  ==  Right[Положительно]\t @ никаких колебаний))) все ровно))) на бум бум,значит на бум бум)))\n",
      "Maybe[Положительно] [0.8931]      Right[Отрицательно]\t @ ой, а кстати, как твое творчество там поживает хоть? Очень скучаю за твоими работами :(\n",
      "Maybe[Положительно] [0.8540]  ==  Right[Положительно]\t @2584 @ @ @_ @_ спасибо:3 и тебе добра))\n",
      "Maybe[Отрицательно] [0.3582]      Right[Положительно]\t Жвачка Орбит — укрепляет не только зубы, но и парты в школе) ://./3\n",
      "Maybe[Положительно] [0.8626]  ==  Right[Положительно]\t Добрый день) / Как ваш понедельник? ://./3\n",
      "Maybe[Отрицательно] [0.4423]      Right[Положительно]\t вообщем что хотела сделать придя домой,так и не сделала)\n",
      "_______________\n",
      "в этом вся Я:\n",
      "Maybe[Отрицательно] [0.4487]      Right[Положительно]\t \"Это платье на мне плохо сидит\" - \"Да,на фото как-то кривовато\".Да,Тань?)\n",
      "Maybe[Отрицательно] [0.1688]  ==  Right[Отрицательно]\t Ну вот опять начался тот период когда всем насрать на тебя(\n",
      "Maybe[Отрицательно] [0.0509]  ==  Right[Отрицательно]\t ибо мне хреново:( #\n",
      "Maybe[Отрицательно] [0.1260]  ==  Right[Отрицательно]\t наверное грустно там работать  @: \"МАЗ останавливает работу\". что-то мне это напоминает(\n"
     ]
    }
   ],
   "source": [
    "for x in range(20): \n",
    "    \n",
    "    a = np.array([X_test[x]])\n",
    "    \n",
    "    #print(a)\n",
    "    \n",
    "    res = model.predict(a)  \n",
    "    \n",
    "    #print(res) \n",
    "    \n",
    "    mark = \"Положительно\" if np.mean(res) > 0.5 else \"Отрицательно\"\n",
    "    mark2 = \"Положительно\" if Y_test[x] == 1 else \"Отрицательно\"\n",
    "    equal = \"==\" if mark == mark2 else \"  \"\n",
    "    \n",
    "    print((f\"Maybe[{mark}] [%.4f] \" % np.mean(res)) , equal , f\" Right[{mark2}]\\t\" , X_test[x])\n"
   ]
  },
  {
   "cell_type": "code",
   "execution_count": 20,
   "id": "65071adb",
   "metadata": {},
   "outputs": [
    {
     "data": {
      "image/png": "[encoded data removed]",
      "text/plain": [
       "<Figure size 432x288 with 1 Axes>"
      ]
     },
     "metadata": {
      "needs_background": "light"
     },
     "output_type": "display_data"
    }
   ],
   "source": [
    "# Вывод графика изменения ошибки\n",
    "plt.plot(history.history['accuracy'])\n",
    "plt.plot(history.history['val_accuracy'])\n",
    "plt.title('model accuracy')\n",
    "plt.ylabel('accuracy')\n",
    "plt.xlabel('epoch')\n",
    "plt.legend(['train', 'val'], loc = 'upper left')\n",
    "plt.show()"
   ]
  },
  {
   "cell_type": "code",
   "execution_count": 21,
   "id": "4b287f96",
   "metadata": {},
   "outputs": [
    {
     "name": "stdout",
     "output_type": "stream",
     "text": [
      "29/29 [==============================] - 1s 27ms/step - loss: 0.5670 - accuracy: 0.7059\n"
     ]
    },
    {
     "data": {
      "text/plain": [
       "[0.5670483112335205, 0.7058655023574829]"
      ]
     },
     "execution_count": 21,
     "metadata": {},
     "output_type": "execute_result"
    }
   ],
   "source": [
    "# тест модели\n",
    "model.evaluate(X_test, Y_test, batch_size = FIT_batch_size)"
   ]
  },
  {
   "cell_type": "code",
   "execution_count": 22,
   "id": "19348a33",
   "metadata": {},
   "outputs": [
    {
     "data": {
      "image/png": "[encoded data removed]",
      "text/plain": [
       "<Figure size 432x288 with 1 Axes>"
      ]
     },
     "metadata": {
      "needs_background": "light"
     },
     "output_type": "display_data"
    }
   ],
   "source": [
    "# Вывод графика изменения ошибки\n",
    "plt.plot(history.history['loss'])\n",
    "plt.plot(history.history['val_loss'])\n",
    "plt.title('model loss')\n",
    "plt.ylabel('loss')\n",
    "plt.xlabel('epoch')\n",
    "plt.legend(['train', 'val'], loc = 'upper left')\n",
    "plt.show()"
   ]
  },
  {
   "cell_type": "code",
   "execution_count": 23,
   "id": "bffa550f",
   "metadata": {},
   "outputs": [
    {
     "name": "stdout",
     "output_type": "stream",
     "text": [
      "mark [Положительно]\n",
      "res:  [[0.8770193]]\n",
      "res[0,0]:  0.8770193\n"
     ]
    }
   ],
   "source": [
    "t = \"если вы просто посмотрите на жизнь позитивно произойдут позитивные вещи\"\n",
    "\n",
    "a = list()\n",
    "a.append(t)\n",
    "a = np.array(a)\n",
    "\n",
    "#res = model.predict(data_pad)\n",
    "res = model.predict(a)\n",
    "\n",
    "mark = \"Положительно\" if np.mean(res) > 0.5 else \"отрицательно\"\n",
    "\n",
    "print(f\"mark [{mark}]\")\n",
    "print(\"res: \", res)\n",
    "print(\"res[0,0]: \", res[0,0])"
   ]
  },
  {
   "cell_type": "code",
   "execution_count": 24,
   "id": "2f051385",
   "metadata": {},
   "outputs": [
    {
     "name": "stdout",
     "output_type": "stream",
     "text": [
      "mark [отрицательно]\n",
      "res:  [[0.02762336]]\n",
      "res[0,0]:  0.027623355\n"
     ]
    }
   ],
   "source": [
    "t = \"это просто ужасно плохо противно не хорошо\"\n",
    "\n",
    "a = list()\n",
    "a.append(t)\n",
    "a = np.array(a)\n",
    "\n",
    "#res = model.predict(data_pad)\n",
    "res = model.predict(a)\n",
    "\n",
    "mark = \"Положительно\" if np.mean(res) > 0.5 else \"отрицательно\"\n",
    "\n",
    "print(f\"mark [{mark}]\")\n",
    "print(\"res: \", res)\n",
    "print(\"res[0,0]: \", res[0,0])"
   ]
  },
  {
   "cell_type": "code",
   "execution_count": null,
   "id": "90fe2ab5",
   "metadata": {},
   "outputs": [],
   "source": []
  }
 ],
 "metadata": {
  "kernelspec": {
   "display_name": "Python 3 (ipykernel)",
   "language": "python",
   "name": "python3"
  },
  "language_info": {
   "codemirror_mode": {
    "name": "ipython",
    "version": 3
   },
   "file_extension": ".py",
   "mimetype": "text/x-python",
   "name": "python",
   "nbconvert_exporter": "python",
   "pygments_lexer": "ipython3",
   "version": "3.8.12"
  }
 },
 "nbformat": 4,
 "nbformat_minor": 5
}
