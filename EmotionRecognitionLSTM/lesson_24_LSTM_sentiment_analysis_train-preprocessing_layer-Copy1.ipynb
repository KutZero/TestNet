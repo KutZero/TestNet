{
 "cells": [
  {
   "cell_type": "code",
   "execution_count": 1,
   "id": "c3ae7a77",
   "metadata": {},
   "outputs": [],
   "source": [
    "import numpy as np\n",
    "import re\n",
    "import matplotlib.pyplot as plt\n",
    "import tensorflow as tf\n",
    "import pandas as pd\n",
    "\n",
    "from IPython.display import display\n",
    "from tensorflow.keras.layers import Dense, LSTM, Input, Dropout, Embedding\n",
    "from tensorflow.keras.models import Sequential\n",
    "from tensorflow.keras.optimizers import Adam\n",
    "from tensorflow.keras.preprocessing.text import Tokenizer, text_to_word_sequence\n",
    "from tensorflow.keras.preprocessing.sequence import pad_sequences\n",
    "from tensorflow import keras"
   ]
  },
  {
   "cell_type": "code",
   "execution_count": 2,
   "id": "69a60d94",
   "metadata": {},
   "outputs": [],
   "source": [
    "# детерминация случайных величин, отвечающих за выбор первоначальных весов и биасов\n",
    "tf.compat.v1.set_random_seed(290)\n",
    "tf.random.set_seed(290)\n",
    "np.random.seed(400)"
   ]
  },
  {
   "cell_type": "code",
   "execution_count": 3,
   "id": "c3f8f6f1",
   "metadata": {},
   "outputs": [],
   "source": [
    "path_to_positive_data = 'positive.csv' # путь к файлу, из которого берутся данные для обучения\n",
    "path_to_negative_data = 'negative.csv'\n",
    "target = 'text' # название взятой величины из файла"
   ]
  },
  {
   "cell_type": "code",
   "execution_count": 4,
   "id": "ff10edc9",
   "metadata": {},
   "outputs": [],
   "source": [
    "#///////////////////////////////// для колбэков\n",
    "\n",
    "    # для Early_stopping\n",
    "ES_patience = 20 # кол-во эпох без улучшений\n",
    "ES_min_delta = 0.001 # минимальное улучшение параметра за cur_patience\n",
    "ES_monitor_parametr =  'loss' # отслеживаемый параметр \n",
    "ES_save_best_weights = True # сохранять ли веса нейронки с лучшими результатами\n",
    "    \n",
    "    # для ReduceLROnPlateau\n",
    "RLPOP_monitor_parametr = 'val_loss'  # отслеживаемый параметр \n",
    "RLPOP_factor = 0.1 # множитель для расчета нового шага сходимости (new_learning_rate = old_learning_rate*RLPOP_factor)\n",
    "RLPOP_patience = 10 # кол-во эпох без улучшений\n",
    "RLPOP_verbose = 1 # выводить ли прогресс изменения шага сходимости в его процессее\n",
    "RLPOP_mode = 'auto' # выбирает, уменьшать шаг сходимости при росте величины или при её уменьшении\n",
    "RLPOP_min_delta = 0.0001 # порог изменения отслеживаемого значения\n",
    "RLPOP_cooldown = 0 # количество эпох до возобновления работы после изменения шага сходимости\n",
    "RLPOP_min_lr = 0 # минимальное значение шага сходимости\n",
    "\n",
    "    # для CallbackList\n",
    "CBL_add_history = True # вызывать ли колбэк History (если он не был довавлен вручную)\n",
    "CBL_add_progbar = True # вызывать ли колбэк ProgbarLogger (если он не был довавлен вручную)\n",
    "    \n",
    "maxWordsCount = 1000\n",
    "max_text_len = 10\n",
    "FIT_batch_size = 10 #8 #15"
   ]
  },
  {
   "cell_type": "code",
   "execution_count": 5,
   "id": "1aa63867",
   "metadata": {},
   "outputs": [],
   "source": [
    "# разделить данные на тренировочные и тестовые\n",
    "def split(X,Y,factor):\n",
    "    X_train=X[:factor]\n",
    "    Y_train=Y[:factor]\n",
    "    X_test=X[factor:]\n",
    "    Y_test=Y[factor:]\n",
    "    return X_train,Y_train,X_test,Y_test"
   ]
  },
  {
   "cell_type": "code",
   "execution_count": 6,
   "id": "7ad4068d",
   "metadata": {},
   "outputs": [],
   "source": [
    "# извлечь датасет из файла\n",
    "def get_df(path, target_name):\n",
    "    file = pd.read_csv(path, sep = ';', names = [\"id\",\"name\",\"text\",\"her1\",\n",
    "                                                 \"her2\",\"her3\",\"her4\",\"her5\",\"her6\",\"her7\",\"her8\"])\n",
    "    dframe = pd.DataFrame(file[target_name])\n",
    "    return dframe"
   ]
  },
  {
   "cell_type": "code",
   "execution_count": 7,
   "id": "7e392bd1",
   "metadata": {},
   "outputs": [],
   "source": [
    "def remove_english(df):\n",
    "    temp = list()\n",
    "    for index, row in df.iterrows():\n",
    "        #print(row[target])\n",
    "        temp.append(\"\".join([w for w in row[target] if not re.match(r'[A-Z]+', w, re.I)]))\n",
    "    return temp"
   ]
  },
  {
   "cell_type": "code",
   "execution_count": 8,
   "id": "9eb60335",
   "metadata": {},
   "outputs": [],
   "source": [
    "pos_df = get_df(path_to_positive_data, target)\n",
    "neg_df = get_df(path_to_negative_data, target)\n",
    "\n",
    "\n",
    "pos_text = remove_english(pos_df)\n",
    "neg_text = remove_english(neg_df)\n",
    "\n",
    "#print(pos_text.shape)\n",
    "#display(pos_df)\n",
    "\n",
    "#display(neg_df)"
   ]
  },
  {
   "cell_type": "code",
   "execution_count": 9,
   "id": "2b222705",
   "metadata": {},
   "outputs": [],
   "source": [
    "with open('train_data_true', 'r', encoding='utf-8') as f:\n",
    "    texts_true = f.readlines()\n",
    "    texts_true[0] = texts_true[0].replace('\\ufeff', '') #убираем первый невидимый символ\n",
    "\n",
    "with open('train_data_false', 'r', encoding='utf-8') as f:\n",
    "    texts_false = f.readlines()\n",
    "    texts_false[0] = texts_false[0].replace('\\ufeff', '') #убираем первый невидимый символ"
   ]
  },
  {
   "cell_type": "code",
   "execution_count": 10,
   "id": "84790ba9",
   "metadata": {},
   "outputs": [
    {
     "name": "stdout",
     "output_type": "stream",
     "text": [
      "114911 111923 226834\n"
     ]
    }
   ],
   "source": [
    "#texts = texts_true + texts_false\n",
    "texts = pos_text + neg_text\n",
    "count_true = len(pos_text)\n",
    "count_false = len(neg_text)\n",
    "total_lines = count_true + count_false\n",
    "print(count_true, count_false, total_lines)"
   ]
  },
  {
   "cell_type": "code",
   "execution_count": 11,
   "id": "c37b6a60",
   "metadata": {},
   "outputs": [
    {
     "name": "stdout",
     "output_type": "stream",
     "text": [
      "(226834,) (226834,)\n",
      "train:  (181467,) (181467,) <class 'numpy.ndarray'> <class 'numpy.ndarray'>\n",
      "test:  (45367,) (45367,) <class 'numpy.ndarray'> <class 'numpy.ndarray'>\n",
      "['Планшет шалит. Перемещает картинки из одной папки в другую. У меня фото Уэя в фартучке в папке с котятами. Хотя стойте, все правильно:'\n",
      " 'мои съёмки постоянно куда то переносятся.\\nя когда нибудь отщелкаю пленку? Мю:('\n",
      " ' @_: Ну поймёт только лучшая подруга :)' ...\n",
      " 'Ну вот..никто сегодня не приедет, настроение на нуле( а я так соскучилась'\n",
      " 'Погода более-менее нормальная..\\nПриятно выйти во двор..\\n))'\n",
      " 'Госпади((((обожралсь мандарин,хоть бы не обсыпало']\n"
     ]
    }
   ],
   "source": [
    "X_data = np.array(texts)\n",
    "\n",
    "Y_data = np.array([1]*count_true + [0]*count_false)\n",
    "print(X_data.shape, Y_data.shape)\n",
    "\n",
    "indeces = np.random.choice(X_data.shape[0], size = X_data.shape[0], replace=False)\n",
    "#print(indeces)\n",
    "X_data = X_data[indeces]\n",
    "Y_data = Y_data[indeces]\n",
    "\n",
    "factor = int(.80 * X_data.shape[0])\n",
    "\n",
    "X_train,Y_train,X_test,Y_test = split(X_data,Y_data,factor)\n",
    "\n",
    "print(\"train: \", X_train.shape, Y_train.shape, type(X_train), type(Y_train))\n",
    "print(\"test: \", X_test.shape, Y_test.shape, type(X_test), type(Y_test))\n",
    "\n",
    "print(X_data)"
   ]
  },
  {
   "cell_type": "code",
   "execution_count": 12,
   "id": "690603d2",
   "metadata": {},
   "outputs": [],
   "source": [
    "#print(X.shape)\n",
    "#LSTM?\n",
    "#Sequential.compile?\n",
    "#equential.fit?"
   ]
  },
  {
   "cell_type": "code",
   "execution_count": 13,
   "id": "ba7032d1",
   "metadata": {},
   "outputs": [],
   "source": [
    "#Sequential model с преобработкой\n",
    "#tf.keras.layers.experimental.preprocessing.TextVectorization?\n",
    "\n",
    "vectproc = tf.keras.layers.experimental.preprocessing.TextVectorization( #tf.keras.layers.TextVectorization(\n",
    "    max_tokens = maxWordsCount, \n",
    "    standardize = 'lower_and_strip_punctuation',\n",
    "    split = 'whitespace',\n",
    "    output_mode = 'int',\n",
    "    output_sequence_length = max_text_len,\n",
    "    )\n",
    "\n",
    "text_dataset = tf.data.Dataset.from_tensor_slices(texts)\n",
    "\n",
    "vectproc.adapt(text_dataset.batch(64))\n",
    "\n",
    "model = tf.keras.models.Sequential()\n",
    "\n",
    "model.add(Input(shape=(1,), dtype=tf.string))\n",
    "model.add(vectproc)\n",
    "model.add(Embedding(maxWordsCount, output_dim = 128, input_length = max_text_len))\n",
    "#model.add(LSTM(units = 128, return_sequences = True, dropout = 0.3))\n",
    "#model.add(LSTM(units = 64, dropout = 0.3))\n",
    "model.add(LSTM(units = 64, return_sequences = True, dropout = 0.3))\n",
    "model.add(LSTM(units = 16, dropout = 0.3))\n",
    "model.add(Dense(units = 1, activation='sigmoid'))\n"
   ]
  },
  {
   "cell_type": "code",
   "execution_count": 14,
   "id": "fc68b59e",
   "metadata": {},
   "outputs": [],
   "source": [
    "# Создание и настройка колбэков\n",
    "callback_list = [] # массив колбэков до подачи в колбек \"callbacklist\"\n",
    "\n",
    "temp = keras.callbacks.EarlyStopping(\n",
    "            monitor = ES_monitor_parametr, \n",
    "            min_delta = ES_min_delta, \n",
    "            patience = ES_patience,\n",
    "            restore_best_weights = ES_save_best_weights\n",
    "            )\n",
    "callback_list.append(temp)\n",
    "\n",
    "temp = keras.callbacks.ReduceLROnPlateau(\n",
    "            monitor = RLPOP_monitor_parametr, \n",
    "            factor = RLPOP_factor, \n",
    "            patience = RLPOP_patience, \n",
    "            verbose = RLPOP_verbose,\n",
    "            mode = RLPOP_mode, \n",
    "            min_delta = RLPOP_min_delta, \n",
    "            cooldown = RLPOP_cooldown, \n",
    "            min_lr = RLPOP_min_lr\n",
    "            )\n",
    "callback_list.append(temp)\n",
    "\n",
    "FIT_callback_list = keras.callbacks.CallbackList(\n",
    "            callbacks = callback_list, \n",
    "            add_history = CBL_add_history, \n",
    "            add_progbar = CBL_add_progbar, \n",
    "            model = model\n",
    "            )"
   ]
  },
  {
   "cell_type": "code",
   "execution_count": 15,
   "id": "030a85bd",
   "metadata": {},
   "outputs": [],
   "source": [
    "model.compile(loss = 'binary_crossentropy',#'mean_squared_error', \n",
    "              metrics=['accuracy'], \n",
    "              # learning_rate = 0.1\n",
    "              optimizer = tf.keras.optimizers.SGD(learning_rate = 0.1))\n",
    "#tf.keras.optimizers.SGD(learning_rate = 0.01)) #0.01\n",
    "# tf.keras.optimizers.SGD(learning_rate = 0.0001)) #0.05)) #Adam(0.0003)) #'categorical_crossentropy'"
   ]
  },
  {
   "cell_type": "code",
   "execution_count": 16,
   "id": "4936374e",
   "metadata": {},
   "outputs": [],
   "source": [
    "tf.keras.models.Sequential.fit?"
   ]
  },
  {
   "cell_type": "code",
   "execution_count": 17,
   "id": "e55503e9",
   "metadata": {},
   "outputs": [
    {
     "name": "stdout",
     "output_type": "stream",
     "text": [
      "1000/1000 [==============================] - 7s 7ms/step - loss: 0.6905 - accuracy: 0.5267 - val_loss: 0.6855 - val_accuracy: 0.5492\n",
      "1000/1000 [==============================] - 6s 6ms/step - loss: 0.6864 - accuracy: 0.5522 - val_loss: 0.6821 - val_accuracy: 0.5638\n",
      "1000/1000 [==============================] - 6s 6ms/step - loss: 0.6831 - accuracy: 0.5661 - val_loss: 0.6822 - val_accuracy: 0.5547\n",
      "1000/1000 [==============================] - 6s 6ms/step - loss: 0.6794 - accuracy: 0.5690 - val_loss: 0.6738 - val_accuracy: 0.5810\n",
      "1000/1000 [==============================] - 6s 6ms/step - loss: 0.6750 - accuracy: 0.5804 - val_loss: 0.6711 - val_accuracy: 0.5841\n",
      "1000/1000 [==============================] - 6s 6ms/step - loss: 0.6709 - accuracy: 0.5885 - val_loss: 0.6627 - val_accuracy: 0.6057\n",
      "1000/1000 [==============================] - 6s 6ms/step - loss: 0.6655 - accuracy: 0.5995 - val_loss: 0.6701 - val_accuracy: 0.5843\n",
      "1000/1000 [==============================] - 7s 7ms/step - loss: 0.6630 - accuracy: 0.6050 - val_loss: 0.6553 - val_accuracy: 0.6130\n",
      "1000/1000 [==============================] - 6s 6ms/step - loss: 0.6590 - accuracy: 0.6042 - val_loss: 0.6531 - val_accuracy: 0.6140\n",
      "1000/1000 [==============================] - 6s 6ms/step - loss: 0.6558 - accuracy: 0.6170 - val_loss: 0.6612 - val_accuracy: 0.5998\n",
      "1000/1000 [==============================] - 6s 6ms/step - loss: 0.6509 - accuracy: 0.6181 - val_loss: 0.6444 - val_accuracy: 0.6302\n",
      "1000/1000 [==============================] - 6s 6ms/step - loss: 0.6457 - accuracy: 0.6291 - val_loss: 0.6426 - val_accuracy: 0.6275\n",
      "1000/1000 [==============================] - 6s 6ms/step - loss: 0.6499 - accuracy: 0.6174 - val_loss: 0.6417 - val_accuracy: 0.6302\n",
      "1000/1000 [==============================] - 6s 6ms/step - loss: 0.6437 - accuracy: 0.6258 - val_loss: 0.6373 - val_accuracy: 0.6366\n",
      "1000/1000 [==============================] - 6s 6ms/step - loss: 0.6447 - accuracy: 0.6313 - val_loss: 0.6353 - val_accuracy: 0.6390\n",
      "1000/1000 [==============================] - 6s 6ms/step - loss: 0.6363 - accuracy: 0.6379 - val_loss: 0.6345 - val_accuracy: 0.6381\n",
      "1000/1000 [==============================] - 6s 6ms/step - loss: 0.6362 - accuracy: 0.6369 - val_loss: 0.6338 - val_accuracy: 0.6345\n",
      "1000/1000 [==============================] - 6s 6ms/step - loss: 0.6358 - accuracy: 0.6366 - val_loss: 0.6307 - val_accuracy: 0.6446\n",
      "1000/1000 [==============================] - 6s 6ms/step - loss: 0.6267 - accuracy: 0.6434 - val_loss: 0.6288 - val_accuracy: 0.6443\n",
      "1000/1000 [==============================] - 6s 6ms/step - loss: 0.6406 - accuracy: 0.6348 - val_loss: 0.6415 - val_accuracy: 0.6289\n",
      "1000/1000 [==============================] - 6s 6ms/step - loss: 0.6290 - accuracy: 0.6428 - val_loss: 0.6335 - val_accuracy: 0.6345\n",
      "1000/1000 [==============================] - 6s 6ms/step - loss: 0.6228 - accuracy: 0.6516 - val_loss: 0.6234 - val_accuracy: 0.6501\n",
      "1000/1000 [==============================] - 6s 6ms/step - loss: 0.6279 - accuracy: 0.6403 - val_loss: 0.6296 - val_accuracy: 0.6424\n",
      "1000/1000 [==============================] - 6s 6ms/step - loss: 0.6201 - accuracy: 0.6532 - val_loss: 0.6330 - val_accuracy: 0.6389\n",
      "1000/1000 [==============================] - 6s 6ms/step - loss: 0.6253 - accuracy: 0.6499 - val_loss: 0.6223 - val_accuracy: 0.6507\n",
      "1000/1000 [==============================] - 6s 6ms/step - loss: 0.6167 - accuracy: 0.6588 - val_loss: 0.6276 - val_accuracy: 0.6428\n",
      "1000/1000 [==============================] - 6s 6ms/step - loss: 0.6255 - accuracy: 0.6414 - val_loss: 0.6191 - val_accuracy: 0.6537\n",
      "1000/1000 [==============================] - 6s 6ms/step - loss: 0.6238 - accuracy: 0.6454 - val_loss: 0.6214 - val_accuracy: 0.6509\n",
      "1000/1000 [==============================] - 6s 6ms/step - loss: 0.6215 - accuracy: 0.6488 - val_loss: 0.6173 - val_accuracy: 0.6557\n",
      "1000/1000 [==============================] - 6s 6ms/step - loss: 0.6230 - accuracy: 0.6435 - val_loss: 0.6196 - val_accuracy: 0.6498\n",
      "1000/1000 [==============================] - 6s 6ms/step - loss: 0.6152 - accuracy: 0.6576 - val_loss: 0.6242 - val_accuracy: 0.6461\n",
      "1000/1000 [==============================] - 6s 6ms/step - loss: 0.6160 - accuracy: 0.6563 - val_loss: 0.6210 - val_accuracy: 0.6496\n",
      "1000/1000 [==============================] - 6s 6ms/step - loss: 0.6178 - accuracy: 0.6556 - val_loss: 0.6187 - val_accuracy: 0.6496\n",
      "1000/1000 [==============================] - 6s 6ms/step - loss: 0.6101 - accuracy: 0.6632 - val_loss: 0.6167 - val_accuracy: 0.6515\n",
      "1000/1000 [==============================] - 6s 6ms/step - loss: 0.6095 - accuracy: 0.6592 - val_loss: 0.6233 - val_accuracy: 0.6485\n",
      "1000/1000 [==============================] - 6s 6ms/step - loss: 0.6166 - accuracy: 0.6521 - val_loss: 0.6178 - val_accuracy: 0.6536\n",
      "1000/1000 [==============================] - 6s 6ms/step - loss: 0.6136 - accuracy: 0.6592 - val_loss: 0.6131 - val_accuracy: 0.6585\n",
      "1000/1000 [==============================] - 6s 6ms/step - loss: 0.6145 - accuracy: 0.6542 - val_loss: 0.6131 - val_accuracy: 0.6560\n",
      "1000/1000 [==============================] - 6s 6ms/step - loss: 0.6155 - accuracy: 0.6537 - val_loss: 0.6142 - val_accuracy: 0.6564\n",
      "1000/1000 [==============================] - 6s 6ms/step - loss: 0.6095 - accuracy: 0.6597 - val_loss: 0.6146 - val_accuracy: 0.6551\n",
      "1000/1000 [==============================] - 6s 6ms/step - loss: 0.6184 - accuracy: 0.6543 - val_loss: 0.6152 - val_accuracy: 0.6555\n",
      "1000/1000 [==============================] - 6s 6ms/step - loss: 0.6074 - accuracy: 0.6640 - val_loss: 0.6211 - val_accuracy: 0.6451\n",
      "1000/1000 [==============================] - 6s 6ms/step - loss: 0.6110 - accuracy: 0.6607 - val_loss: 0.6150 - val_accuracy: 0.6539\n",
      "1000/1000 [==============================] - 6s 6ms/step - loss: 0.6082 - accuracy: 0.6649 - val_loss: 0.6133 - val_accuracy: 0.6551\n",
      "1000/1000 [==============================] - 7s 7ms/step - loss: 0.6072 - accuracy: 0.6617 - val_loss: 0.6137 - val_accuracy: 0.6533\n",
      "1000/1000 [==============================] - 6s 6ms/step - loss: 0.6085 - accuracy: 0.6610 - val_loss: 0.6204 - val_accuracy: 0.6493\n",
      " 988/1000 [============================>.] - ETA: 0s - loss: 0.6104 - accuracy: 0.6591\n",
      "Epoch 00047: ReduceLROnPlateau reducing learning rate to 0.010000000149011612.\n",
      "1000/1000 [==============================] - 6s 6ms/step - loss: 0.6101 - accuracy: 0.6598 - val_loss: 0.6140 - val_accuracy: 0.6529\n",
      "1000/1000 [==============================] - 6s 6ms/step - loss: 0.6071 - accuracy: 0.6619 - val_loss: 0.6108 - val_accuracy: 0.6561\n",
      "1000/1000 [==============================] - 6s 6ms/step - loss: 0.6028 - accuracy: 0.6680 - val_loss: 0.6100 - val_accuracy: 0.6572\n",
      "1000/1000 [==============================] - 6s 6ms/step - loss: 0.5997 - accuracy: 0.6660 - val_loss: 0.6104 - val_accuracy: 0.6586\n"
     ]
    }
   ],
   "source": [
    "history = model.fit(X_train, \n",
    "                    Y_train, \n",
    "                    batch_size = FIT_batch_size, \n",
    "                    shuffle = True, \n",
    "                    verbose = 1, \n",
    "                    epochs = 50, #30, \n",
    "                    validation_split = 0.20,\n",
    "                    steps_per_epoch = 1000,\n",
    "                    callbacks = FIT_callback_list)"
   ]
  },
  {
   "cell_type": "code",
   "execution_count": 18,
   "id": "f6b795f6",
   "metadata": {},
   "outputs": [],
   "source": [
    "#Sequential.fit?"
   ]
  },
  {
   "cell_type": "code",
   "execution_count": 19,
   "id": "b7db8e4f",
   "metadata": {},
   "outputs": [],
   "source": [
    "#reverse_word_map = dict(map(reversed, tokenizer.word_index.items()))"
   ]
  },
  {
   "cell_type": "code",
   "execution_count": 20,
   "id": "821d2e64",
   "metadata": {},
   "outputs": [
    {
     "name": "stdout",
     "output_type": "stream",
     "text": [
      "Maybe[Положительно] [0.6718] == Right[Положительно]\tЯ ТЕБЯ БУМ БУМ БУМ : — ТЫ МЕНЯ БУМ БУМ БУМ : ://./21\n",
      "Maybe[Отрицательно] [0.4531] == Right[Отрицательно]\tБудь я мужчиной геем и причем русским,я бы не осмелилась пожениться с мужчиной,потому что Россия страна гомофобов((( ://./76\n",
      "Maybe[Положительно] [0.5666] == Right[Положительно]\tРоссол   с утра отличная вещь после бурного вечера)\n",
      "Maybe[Положительно] [0.6108] == Right[Положительно]\t@_ Ну я прям и не знаю кому из вас верить ;) ://./\n",
      "Maybe[Отрицательно] [0.4793]    Right[Положительно]\tбумажный скотч спасет мир!мне не чем было зафиксировать бинт вокруг пальца и тут пришел ОН - бумажный скотч!))\n",
      "Maybe[Отрицательно] [0.3740] == Right[Отрицательно]\tХух,так переживаю!!!Наче  Шепард від мене йде, а не від Грей(((((ппц((\n",
      "Maybe[Положительно] [0.6679]    Right[Отрицательно]\t @: Пополнили коллекцию кошек. Теперь приходится слушать мявканье целый день и ночь:(\n",
      "Maybe[Отрицательно] [0.1778] == Right[Отрицательно]\tОчень обидно, когда рукав можно стереть мочалкой :-(((\n",
      "Maybe[Положительно] [0.5570]    Right[Отрицательно]\tЕдинственная хорошая вещь-зачет по информатике. Но мы больше не увидим Сергея Сергеевича :(\n",
      "Maybe[Отрицательно] [0.1445] == Right[Отрицательно]\t@_ а у нас физики не было:( мне так обидно стало\n",
      "Maybe[Положительно] [0.5661] == Right[Положительно]\t@ никаких колебаний))) все ровно))) на бум бум,значит на бум бум)))\n",
      "Maybe[Положительно] [0.7546]    Right[Отрицательно]\t@ ой, а кстати, как твое творчество там поживает хоть? Очень скучаю за твоими работами :(\n",
      "Maybe[Положительно] [0.8004] == Right[Положительно]\t@2584 @ @ @_ @_ спасибо:3 и тебе добра))\n",
      "Maybe[Отрицательно] [0.4900]    Right[Положительно]\tЖвачка Орбит — укрепляет не только зубы, но и парты в школе) ://./3\n",
      "Maybe[Положительно] [0.5139] == Right[Положительно]\tДобрый день) / Как ваш понедельник? ://./3\n",
      "Maybe[Отрицательно] [0.3580]    Right[Положительно]\tвообщем что хотела сделать придя домой,так и не сделала)\n",
      "_______________\n",
      "в этом вся Я:\n",
      "Maybe[Отрицательно] [0.4202]    Right[Положительно]\t\"Это платье на мне плохо сидит\" - \"Да,на фото как-то кривовато\".Да,Тань?)\n",
      "Maybe[Отрицательно] [0.3807] == Right[Отрицательно]\tНу вот опять начался тот период когда всем насрать на тебя(\n",
      "Maybe[Отрицательно] [0.1009] == Right[Отрицательно]\tибо мне хреново:( #\n",
      "Maybe[Отрицательно] [0.1102] == Right[Отрицательно]\tнаверное грустно там работать  @: \"МАЗ останавливает работу\". что-то мне это напоминает(\n",
      "Maybe[Отрицательно] [0.0504] == Right[Отрицательно]\tПочему я такой монстр?! \n",
      "Я не хочу не кому делать больно, но получается как то само собой!(\n",
      "Почему я такой человек?!\n",
      "Maybe[Отрицательно] [0.4524] == Right[Отрицательно]\tЧёрт побери, завтра- понедельник!.. _ #такиеделабро ://./2908\n",
      "Maybe[Отрицательно] [0.1548]    Right[Положительно]\tТолько первый день катка, а меня уже бесит буфетчица... Она чуть не украла мои деньги хорошо, что все за меня заступились:)\n",
      "Maybe[Отрицательно] [0.3860] == Right[Отрицательно]\t @_: Путину и Медведеву хватает зарплаты ://./87\n",
      "Maybe[Отрицательно] [0.2245] == Right[Отрицательно]\tпочему правду не могу сказать((хотя может это и к лучшему.......\n",
      "Maybe[Отрицательно] [0.4917]    Right[Положительно]\tнельзя бить, а вот из дробовика шмальнуть иногда можно по-моему!))) ://./613\n",
      "Maybe[Отрицательно] [0.4510] == Right[Отрицательно]\tЯ люблю свою пятерку вк, только на половину:((((((((((((\n",
      "Maybe[Положительно] [0.6366] == Right[Положительно]\tнадо значит идти в инет кафе за новыми подкастами, или подождать, пока радиот выйдет))\n",
      "Maybe[Отрицательно] [0.3373] == Right[Отрицательно]\t@__69 боюсь вас расстроить\n",
      "Я молилась за марвина :(\n",
      "Maybe[Отрицательно] [0.1025] == Right[Отрицательно]\tЯ опять в режиме \"ничего не успеваю и вечно хочу спать\"...(\n",
      "Maybe[Отрицательно] [0.4005]    Right[Положительно]\tвот на этом красавце я сегодня рассекала по Арье. а потом проснулась))) пока что самый лучший сон за последнее время) ://./708\n",
      "Maybe[Положительно] [0.7483]    Right[Отрицательно]\t @: какие журналисты такие и вопросы(\n",
      "Maybe[Отрицательно] [0.4261]    Right[Положительно]\tЯ,например,ещё не прощался))) Как и другие,кого я читаю.\n",
      "Maybe[Отрицательно] [0.4001]    Right[Положительно]\t @_: На улице так красиво!Снега много много)\n",
      "Maybe[Отрицательно] [0.4880] == Right[Отрицательно]\t@ Соболездравляю! Мне тоже скоро предстоит( Наркоз за рулём не мешает? Получается ртом говорить?\n",
      "Maybe[Отрицательно] [0.1740] == Right[Отрицательно]\tМеня ломает без спорт зала :( хочу делать жим, приседать, качать бицепс и ноги. Чувствую себя овощем, когда этого не делаю.\n",
      "Maybe[Отрицательно] [0.1972] == Right[Отрицательно]\t @: @ @_ оох ужас :( держись братююнь :3\n",
      "Maybe[Отрицательно] [0.4543] == Right[Отрицательно]\tСходила на каток,жаль,что раньше не было времени. Надо почаще выбираться,только вот разбитая коленка портит впечатления((\n",
      "Maybe[Отрицательно] [0.4070] == Right[Отрицательно]\tЯ еще сс не дочитала, а уже начали рандом выкладывать т.т С дайри так неудобно читать((((\n",
      "Maybe[Отрицательно] [0.4666]    Right[Положительно]\t@ @ @_ сильная женщина!)\n",
      "Maybe[Отрицательно] [0.0838] == Right[Отрицательно]\tпока Шурочка....Привет печаль............(((((\n",
      "Maybe[Положительно] [0.9186] == Right[Положительно]\t @170899: @30 чай? Чай это хорошо)) Спасибо, я тоже люблю тебя:3\n",
      "Maybe[Положительно] [0.5010] == Right[Положительно]\tА мы вчера были на Алых парусах)это волшебноо!!и самое красивое ператехническое шоу,что я виделаа!!\n",
      "Maybe[Отрицательно] [0.3345]    Right[Положительно]\tБоюсь я никогда не высплюсь:) ://./2\n",
      "Maybe[Отрицательно] [0.4316] == Right[Отрицательно]\t@ я дома уже :((( нет , ну фотка твоя последняя! Ваще ааааа\n",
      "Maybe[Отрицательно] [0.2158]    Right[Положительно]\t @: Для меня это передоз: \n",
      "То вообще никакой активности, а то тут и  выпустил, и автограф прислал, и ответил мне и про Деми нап…\n",
      "Maybe[Положительно] [0.6641] == Right[Положительно]\t @: #ДИРЕКШИОНЕРФОЛЛОВЬДИРЕКШИОНЕРА я парень мне 18 и я думаю что гарри и луи ЕБУТЬСЯ!!)\n",
      "Maybe[Положительно] [0.5688] == Right[Положительно]\tСтолько детишек тут,ностальгия прям по своим временам))\n",
      "Maybe[Отрицательно] [0.4666] == Right[Отрицательно]\t@63 Печалька( ://./\n",
      "Maybe[Положительно] [0.7661] == Right[Положительно]\t @_: Всем приятного дня :)\n",
      "Пусть солнышко греет Ваши сердца.\n",
      "# # #ДеньДобрый ://./989\n",
      "Maybe[Отрицательно] [0.3821] == Right[Отрицательно]\t@ а то хуя мой биас-лист испортил((((\n",
      "Maybe[Отрицательно] [0.1473] == Right[Отрицательно]\t @__: да ебать хуль весь день делать:(\n",
      "Maybe[Положительно] [0.6378] == Right[Положительно]\t\"Право на убийство\" доставляет. Аль Пачино и Роберт Де Ниро =) Хорошая команда, ящитаю =) еще со времен Схватки. Только у\n",
      "Maybe[Отрицательно] [0.1591] == Right[Отрицательно]\t@ я обиделся:(не че не кри.....!!!!\n",
      "Maybe[Отрицательно] [0.0467] == Right[Отрицательно]\tзавтрашний день обещает быть сумасшедшим. Уже боюсь о_О\n",
      "Maybe[Положительно] [0.6146]    Right[Отрицательно]\tПотаскала все со стола, понаоблизывала ложки; ( это выше моих сил, терпеть до 11:30\n",
      "Maybe[Положительно] [0.6653] == Right[Положительно]\tЕсли бы Геракла укусил вампир, то получился бы Геракула и всем настал бы песдетс :)))\n",
      "Maybe[Отрицательно] [0.2788]    Right[Положительно]\tСегодня я как никогда счастлив, правда не знаю почему, но мне так хорошо)\n",
      "Жизнь налаживается)\n",
      "Maybe[Положительно] [0.7335] == Right[Положительно]\t @_: И все таки этот  очень сближает нас :) очень рада что поехала \n",
      "Maybe[Положительно] [0.6145]    Right[Отрицательно]\tЭлементарные мелочи, невнимание к которым подводит Идею. Мелочи в юзабилити. Вот пример. Если мы имеем ошибку в строчке (\n",
      "Maybe[Положительно] [0.7111]    Right[Отрицательно]\t@ нисколько. Ебете нам мозги и ебанутыми еще называете! :(\n",
      "Maybe[Положительно] [0.6712] == Right[Положительно]\tсобрав все мысли в кучу стало ясно кто ты )) \n",
      "мнение поменялось ;и слава Богу )\n",
      "Maybe[Положительно] [0.6699]    Right[Отрицательно]\t@ хреново чет\n",
      "С одной 3 и четверок много оч(\n",
      "А ты?\n",
      "Maybe[Отрицательно] [0.0679] == Right[Отрицательно]\t @: Блин, жалко Дашка не едет со мной на вб=((( но вместо нее Тоша, откуда он вдруг взялся — никому не ясно\n",
      "Maybe[Отрицательно] [0.0452] == Right[Отрицательно]\t@20 блиин, я безумно хочу, но боюсь((\n",
      "Maybe[Отрицательно] [0.4466] == Right[Отрицательно]\t @: Влюблен в слово \"бывает\", ибо оно везде уместно.\n",
      "— ты ебанат!\n",
      "— бывает!\n",
      "— У меня кот умер :(\n",
      "— Бывает!\n",
      "Maybe[Положительно] [0.5801] == Right[Положительно]\tС Димой, Димой, Сашой, Лёшай и еще с кем то просто не помню как зовут, играли в снежки пол урока и всю пер) ахах мне норм) жопа вся мокрая)\n",
      "Maybe[Положительно] [0.8231] == Right[Положительно]\t @: @__ спасибо за фоловинг!!))))\n",
      "Maybe[Положительно] [0.7499] == Right[Положительно]\t-девушка,а вы верите в любовь с первого взгляда?-не знаю,я всегда влюбляюсь со второго) #\n"
     ]
    },
    {
     "name": "stdout",
     "output_type": "stream",
     "text": [
      "Maybe[Положительно] [0.5046] == Right[Положительно]\t@96_ ЗА ТО МНЕ мИХАЙЛОВИЧ СКАЗАЛ, ЧТО 5 ПОСТАВИТ)))\n",
      "Maybe[Положительно] [0.6571] == Right[Положительно]\t@ ну если бы я пропустила бы ещё 1 человека у меня был бы счастливый билетик)\n",
      "Maybe[Отрицательно] [0.4318] == Right[Отрицательно]\tбля,я на всех фотках такой урод(\n",
      "лучше вообще не фоткаться.\n",
      "н и к о г да\n",
      "Maybe[Положительно] [0.5503] == Right[Положительно]\t@ они всегда так)Снежками и в сугроб\n",
      "Maybe[Положительно] [0.5480]    Right[Отрицательно]\tЭто у нас на Оболоне так ларечек поставили, чтобы не пройти мимо! (((\n",
      "Maybe[Положительно] [0.5859] == Right[Положительно]\t@10 @_ @  ахахах, Ксюш, он меня читает:\n",
      "Maybe[Положительно] [0.5379] == Right[Положительно]\tВсё я спать  Доктора, Квинов, Битлов,Гринов и Бенедикта в сны :)\n",
      "Maybe[Отрицательно] [0.4470]    Right[Положительно]\tПодумаешь два раза на одни и те же грабли...я вон уже десятый и хоть бы что...)))\n",
      "Maybe[Положительно] [0.5642]    Right[Отрицательно]\tХодили по всем салонам сотовой связи везде только 5 серебристый(\n",
      "Maybe[Положительно] [0.5476]    Right[Отрицательно]\tдрузья мужского пола? \n",
      "хмммм\n",
      "гамлет одна штука, максим одна штука, драев парочка штук\n",
      "вот, в общем-то и всё\n",
      ":((((\n",
      "Maybe[Положительно] [0.6617]    Right[Отрицательно]\t @: :(: - это смайлик Шредингера. Он весёлый и грустный одновременно.\n",
      "Maybe[Положительно] [0.5136] == Right[Положительно]\t @_: Сколько же дебилов в сети, не захлебнитесь в своей бездарности и желчи)))\n",
      "Maybe[Отрицательно] [0.3115] == Right[Отрицательно]\tв торговых центрах снимают новогодние украшения, я буду плакать :( \n",
      "Maybe[Положительно] [0.7842] == Right[Положительно]\t@_11 ну хорошо)\n",
      "на недели уже отправлю)\n",
      "Maybe[Отрицательно] [0.0271] == Right[Отрицательно]\tтемпература 37 опять.... кашель..... болит горло...\n",
      "пипец!:((\n",
      "Maybe[Отрицательно] [0.2911] == Right[Отрицательно]\t @: позвонил краб, позвал в кино. я сказал, что не хочу, на самом деле не могу :_(\n",
      "Maybe[Положительно] [0.6833] == Right[Положительно]\tОхеренные наушики. \n",
      "Басы классные и громкость крутая )\n",
      "Maybe[Положительно] [0.5438] == Right[Положительно]\tИ вообще, \"Сумерки\" - редкое фуфло) На 15-ой минуте переключила канал - скучно стало. Операторская работа годная, остальное - муть голубая\n",
      "Maybe[Положительно] [0.5072]    Right[Отрицательно]\tВрач отговаривает делать операцию по коррекции зрения, мол последствия могут быть необратимы. С другой стороны, я не справляюсь с линзами:(\n",
      "Maybe[Отрицательно] [0.4535]    Right[Положительно]\t@_1888 @63 @ Так никто не хочет...особенно те чья кровушка течь будет))\n",
      "Maybe[Отрицательно] [0.4469]    Right[Положительно]\tЗагадала сегодня желание,теперь посмотрим, исполнится оно или нет)\n",
      "Maybe[Отрицательно] [0.4547] == Right[Отрицательно]\t@ @_ @ @ @ @_ @__ У АНГЛЕЧЯН СРАТЬ ГАФНО((НИИНТИРИСНА\n",
      "Maybe[Отрицательно] [0.4297] == Right[Отрицательно]\tМеня разбудили, теперь надо убираться и мыть пол((\n",
      "Maybe[Отрицательно] [0.4403] == Right[Отрицательно]\tЖизньболь,когда в реальной жизни не с кем обсуждать любимую группу(\n",
      "Maybe[Положительно] [0.8317] == Right[Положительно]\tзимой каждая девушка с удовольствием стоит у плиты. у плиты ооочень тепло))) а еще зима отличный способ бросить курить, как ни крути) #мктг\n",
      "Maybe[Отрицательно] [0.4172] == Right[Отрицательно]\t@ Фаааак, не думала что ты увидишь до вечера:(\n",
      "Maybe[Отрицательно] [0.4538] == Right[Отрицательно]\tотлично, папа еще и без меня сверхов смотрит:(\n",
      "Maybe[Положительно] [0.7499]    Right[Отрицательно]\tМне не понравился третий альбом Ким Саран х(\n",
      "Maybe[Положительно] [0.7128] == Right[Положительно]\t@ я же говорю: он просто победитель, лол :\n",
      "Maybe[Положительно] [0.5481]    Right[Отрицательно]\tПриснилось что 5 по истории превратилось в 4 я плакал. Это был самый ужасный сон в моей жизни ;(\n",
      "Maybe[Положительно] [0.5961] == Right[Положительно]\t@ странно. Я и геев то не видел.. Пидорасов встречал, геев ни разу))\n"
     ]
    }
   ],
   "source": [
    "#t = \"негативы\".lower()\n",
    "#data = tokenizer.texts_to_sequences([t])\n",
    "#print(data)\n",
    "#data_pad = pad_sequences(data, maxlen=max_text_len)\n",
    "#print( sequence_to_text(data[0]) )\n",
    "#print(X_test)\n",
    "for x in range(100): \n",
    "    #print(f\"X_test[{x}]: \", X_test[x], \"X_test type: \", type(X_test[x]))\n",
    "    \n",
    "    a = np.array([X_test[x]]) \n",
    "    #print(f\"a: \", a, \"a type\", type(a))\n",
    "    res = model.predict(a)\n",
    "        \n",
    "    mark = \"Положительно\" if np.mean(res) > 0.5 else \"Отрицательно\"\n",
    "    mark2 = \"Положительно\" if Y_test[x] == 1 else \"Отрицательно\"\n",
    "    equal = \"==\" if mark == mark2 else \"  \"\n",
    "    #print((f\"Maybe[{mark}] [%.4f] \" % np.mean(res)) + equal + f\" Right[{mark2}]\\t\" + \n",
    "    #      ' '.join(list(filter(None, sequence_to_text(X_test[x])))) )\n",
    "    print((f\"Maybe[{mark}] [%.4f] \" % np.mean(res)) + equal + f\" Right[{mark2}]\\t\" + X_test[x])\n",
    "    \n",
    "    #print(res)\n",
    "        #print(\"res: \", res )\n",
    "        #print(\"Положительно\" if np.argmax(res) == 1 else \"отрицательно\")\n",
    "    "
   ]
  },
  {
   "cell_type": "code",
   "execution_count": 21,
   "id": "65071adb",
   "metadata": {},
   "outputs": [
    {
     "data": {
      "image/png": "[encoded data removed]",
      "text/plain": [
       "<Figure size 432x288 with 1 Axes>"
      ]
     },
     "metadata": {
      "needs_background": "light"
     },
     "output_type": "display_data"
    }
   ],
   "source": [
    "# Вывод графика изменения ошибки\n",
    "plt.plot(history.history['accuracy'])\n",
    "plt.plot(history.history['val_accuracy'])\n",
    "plt.title('model accuracy')\n",
    "plt.ylabel('accuracy')\n",
    "plt.xlabel('epoch')\n",
    "plt.legend(['train', 'val'], loc = 'upper left')\n",
    "plt.show()"
   ]
  },
  {
   "cell_type": "code",
   "execution_count": 22,
   "id": "4b287f96",
   "metadata": {},
   "outputs": [
    {
     "name": "stdout",
     "output_type": "stream",
     "text": [
      "4537/4537 [==============================] - 4s 903us/step - loss: 0.6077 - accuracy: 0.6653\n"
     ]
    },
    {
     "data": {
      "text/plain": [
       "[0.6077229380607605, 0.665263295173645]"
      ]
     },
     "execution_count": 22,
     "metadata": {},
     "output_type": "execute_result"
    }
   ],
   "source": [
    "# тест модели\n",
    "model.evaluate(X_test, Y_test, batch_size = FIT_batch_size)"
   ]
  },
  {
   "cell_type": "code",
   "execution_count": 23,
   "id": "19348a33",
   "metadata": {},
   "outputs": [
    {
     "data": {
      "image/png": "[encoded data removed]",
      "text/plain": [
       "<Figure size 432x288 with 1 Axes>"
      ]
     },
     "metadata": {
      "needs_background": "light"
     },
     "output_type": "display_data"
    }
   ],
   "source": [
    "# Вывод графика изменения ошибки\n",
    "plt.plot(history.history['loss'])\n",
    "plt.plot(history.history['val_loss'])\n",
    "plt.title('model loss')\n",
    "plt.ylabel('loss')\n",
    "plt.xlabel('epoch')\n",
    "plt.legend(['train', 'val'], loc = 'upper left')\n",
    "plt.show()"
   ]
  },
  {
   "cell_type": "code",
   "execution_count": 24,
   "id": "bffa550f",
   "metadata": {},
   "outputs": [
    {
     "name": "stdout",
     "output_type": "stream",
     "text": [
      "mark [Положительно]\n",
      "res:  [[0.7627938]]\n",
      "res[0,0]:  0.7627938\n"
     ]
    }
   ],
   "source": [
    "t = \"если вы просто посмотрите на жизнь позитивно произойдут позитивные вещи\"\n",
    "\n",
    "a = list()\n",
    "a.append(t)\n",
    "\n",
    "#res = model.predict(data_pad)\n",
    "res = model.predict(a)\n",
    "\n",
    "mark = \"Положительно\" if np.mean(res) > 0.5 else \"отрицательно\"\n",
    "\n",
    "print(f\"mark [{mark}]\")\n",
    "print(\"res: \", res)\n",
    "print(\"res[0,0]: \", res[0,0])"
   ]
  },
  {
   "cell_type": "code",
   "execution_count": 25,
   "id": "2f051385",
   "metadata": {},
   "outputs": [
    {
     "name": "stdout",
     "output_type": "stream",
     "text": [
      "mark [отрицательно]\n",
      "res:  [[0.06325245]]\n",
      "res[0,0]:  0.06325245\n"
     ]
    }
   ],
   "source": [
    "t = \"это просто ужасно плохо противно не хорошо\"\n",
    "\n",
    "a = list()\n",
    "a.append(t)\n",
    "\n",
    "#res = model.predict(data_pad)\n",
    "res = model.predict(a)\n",
    "\n",
    "mark = \"Положительно\" if np.mean(res) > 0.5 else \"отрицательно\"\n",
    "\n",
    "print(f\"mark [{mark}]\")\n",
    "print(\"res: \", res)\n",
    "print(\"res[0,0]: \", res[0,0])"
   ]
  },
  {
   "cell_type": "code",
   "execution_count": null,
   "id": "90fe2ab5",
   "metadata": {},
   "outputs": [],
   "source": []
  }
 ],
 "metadata": {
  "kernelspec": {
   "display_name": "Python 3 (ipykernel)",
   "language": "python",
   "name": "python3"
  },
  "language_info": {
   "codemirror_mode": {
    "name": "ipython",
    "version": 3
   },
   "file_extension": ".py",
   "mimetype": "text/x-python",
   "name": "python",
   "nbconvert_exporter": "python",
   "pygments_lexer": "ipython3",
   "version": "3.8.12"
  }
 },
 "nbformat": 4,
 "nbformat_minor": 5
}
