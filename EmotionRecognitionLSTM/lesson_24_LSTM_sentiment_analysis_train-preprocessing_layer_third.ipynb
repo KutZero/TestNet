{
 "cells": [
  {
   "cell_type": "code",
   "execution_count": 25,
   "id": "c3ae7a77",
   "metadata": {},
   "outputs": [],
   "source": [
    "import numpy as np\n",
    "import re\n",
    "import matplotlib.pyplot as plt\n",
    "import tensorflow as tf\n",
    "\n",
    "from tensorflow.keras.layers import Dense, LSTM, Input, Dropout, Embedding\n",
    "from tensorflow.keras.models import Sequential\n",
    "from tensorflow.keras.optimizers import Adam\n",
    "from tensorflow.keras.preprocessing.text import Tokenizer, text_to_word_sequence\n",
    "from tensorflow.keras.preprocessing.sequence import pad_sequences\n",
    "from tensorflow import keras"
   ]
  },
  {
   "cell_type": "code",
   "execution_count": 26,
   "id": "69a60d94",
   "metadata": {},
   "outputs": [],
   "source": [
    "# детерминация случайных величин, отвечающих за выбор первоначальных весов и биасов\n",
    "tf.compat.v1.set_random_seed(290)\n",
    "tf.random.set_seed(290)\n",
    "np.random.seed(400)"
   ]
  },
  {
   "cell_type": "code",
   "execution_count": 27,
   "id": "ff10edc9",
   "metadata": {},
   "outputs": [],
   "source": [
    "#///////////////////////////////// для колбэков\n",
    "\n",
    "    # для Early_stopping\n",
    "ES_patience = 20 # кол-во эпох без улучшений\n",
    "ES_min_delta = 0.001 # минимальное улучшение параметра за cur_patience\n",
    "ES_monitor_parametr =  'loss' # отслеживаемый параметр \n",
    "ES_save_best_weights = True # сохранять ли веса нейронки с лучшими результатами\n",
    "    \n",
    "    # для ReduceLROnPlateau\n",
    "RLPOP_monitor_parametr = 'val_loss'  # отслеживаемый параметр \n",
    "RLPOP_factor = 0.1 # множитель для расчета нового шага сходимости (new_learning_rate = old_learning_rate*RLPOP_factor)\n",
    "RLPOP_patience = 10 # кол-во эпох без улучшений\n",
    "RLPOP_verbose = 1 # выводить ли прогресс изменения шага сходимости в его процессее\n",
    "RLPOP_mode = 'auto' # выбирает, уменьшать шаг сходимости при росте величины или при её уменьшении\n",
    "RLPOP_min_delta = 0.0001 # порог изменения отслеживаемого значения\n",
    "RLPOP_cooldown = 0 # количество эпох до возобновления работы после изменения шага сходимости\n",
    "RLPOP_min_lr = 0 # минимальное значение шага сходимости\n",
    "\n",
    "    # для CallbackList\n",
    "CBL_add_history = True # вызывать ли колбэк History (если он не был довавлен вручную)\n",
    "CBL_add_progbar = True # вызывать ли колбэк ProgbarLogger (если он не был довавлен вручную)\n",
    "    \n",
    "maxWordsCount = 1000\n",
    "max_text_len = 10\n",
    "FIT_batch_size = 10 #8 #15"
   ]
  },
  {
   "cell_type": "code",
   "execution_count": 28,
   "id": "1aa63867",
   "metadata": {},
   "outputs": [],
   "source": [
    "# разделить данные на тренировочные и тестовые\n",
    "def split(X,Y,factor):\n",
    "    X_train=X[:factor]\n",
    "    Y_train=Y[:factor]\n",
    "    X_test=X[factor:]\n",
    "    Y_test=Y[factor:]\n",
    "    return X_train,Y_train,X_test,Y_test"
   ]
  },
  {
   "cell_type": "code",
   "execution_count": 29,
   "id": "2b222705",
   "metadata": {},
   "outputs": [],
   "source": [
    "with open('train_data_true', 'r', encoding='utf-8') as f:\n",
    "    texts_true = f.readlines()\n",
    "    texts_true[0] = texts_true[0].replace('\\ufeff', '') #убираем первый невидимый символ\n",
    "\n",
    "with open('train_data_false', 'r', encoding='utf-8') as f:\n",
    "    texts_false = f.readlines()\n",
    "    texts_false[0] = texts_false[0].replace('\\ufeff', '') #убираем первый невидимый символ"
   ]
  },
  {
   "cell_type": "code",
   "execution_count": 30,
   "id": "84790ba9",
   "metadata": {},
   "outputs": [
    {
     "name": "stdout",
     "output_type": "stream",
     "text": [
      "84 88 172\n",
      "texts_true <class 'list'>\n",
      "pos_text ['Думайте позитивно и верьте в свою способность достигать отличных результатов. \\n', 'Вы — лучший ответ на проблемы, которые возникли в понедельник.\\n', 'Если вы смогли в понедельник подняться с постели, значит вы супер герой. \\n', 'Твои утренние мысли в понедельник задают тон всей твоей неделе. \\n', 'Живи так чтобы увидеть, как ты становишься сильнее и живешь счастливой, полноценной жизнью.\\n', 'Не позволяйте утренним проблемам помешать вам быть успешным.\\n', 'Тяжелые времена часто приводят к величайшим моментам вашей жизни.\\n', 'Продолжайте двигаться. Трудности в конце концов создают сильных людей.\\n', 'Независимо через что вы проходите, в конце туннеля есть свет. Может показаться, что добраться до него сложно, но вы сможете сделать это.\\n', 'Чем больше вы настроены позитивно и говорите: я хочу иметь хорошую жизнь, тем больше вы строите для себя эту реальность\\n']\n",
      "neg_text ['Я притягиваю только плохое\\n', 'Кому я нужен с такой внешностью\\n', 'Не доверяй никому, тебя обязательно обманут\\n', 'Если рискнешь высунуться, то добром это не кончиться\\n', 'Говорила я тебе, не верь никому\\n', 'Все новое и неизвестное – это опасно\\n', 'Чтобы я не сделал, мне все равно не повезет\\n', 'Я не могу с этим ничего поделать\\n', 'Как бы я не старался, от судьбы не уйдешь\\n', 'Мне не повезло родиться в бедной семье, значит, и умру я нищим\\n']\n"
     ]
    }
   ],
   "source": [
    "texts = texts_true + texts_false\n",
    "count_true = len(texts_true)\n",
    "count_false = len(texts_false)\n",
    "total_lines = count_true + count_false\n",
    "print(count_true, count_false, total_lines)\n",
    "\n",
    "print(\"texts_true\", type(texts_true))\n",
    "\n",
    "print(\"pos_text\", texts_true[:10])\n",
    "print(\"neg_text\", texts_false[:10])"
   ]
  },
  {
   "cell_type": "code",
   "execution_count": 31,
   "id": "c37b6a60",
   "metadata": {},
   "outputs": [
    {
     "name": "stdout",
     "output_type": "stream",
     "text": [
      "(172,) (172,)\n",
      "train:  (137,) (137,) <class 'numpy.ndarray'> <class 'numpy.ndarray'>\n",
      "test:  (35,) (35,) <class 'numpy.ndarray'> <class 'numpy.ndarray'>\n",
      "train:  Выбор позитивного настроя и благодарного отношения определит, как вы собираетесь прожить свою жизнь.\n",
      "\n",
      "train:  Вы уникальны! У вас разные таланты и способности. Вам не нужно всегда идти по стопам других.\n",
      "\n"
     ]
    }
   ],
   "source": [
    "X_data = np.array(texts)\n",
    "\n",
    "Y_data = np.array([1]*count_true + [0]*count_false)\n",
    "print(X_data.shape, Y_data.shape)\n",
    "\n",
    "indeces = np.random.choice(X_data.shape[0], size = X_data.shape[0], replace=False)\n",
    "#print(indeces)\n",
    "X_data = X_data[indeces]\n",
    "Y_data = Y_data[indeces]\n",
    "\n",
    "factor = int(.80 * X_data.shape[0])\n",
    "\n",
    "X_train,Y_train,X_test,Y_test = split(X_data,Y_data,factor)\n",
    "\n",
    "print(\"train: \", X_train.shape, Y_train.shape, type(X_train), type(Y_train))\n",
    "print(\"test: \", X_test.shape, Y_test.shape, type(X_test), type(Y_test))\n",
    "\n",
    "print(\"train: \", X_train[0])\n",
    "\n",
    "print(\"train: \", X_test[0])"
   ]
  },
  {
   "cell_type": "code",
   "execution_count": 33,
   "id": "690603d2",
   "metadata": {},
   "outputs": [],
   "source": [
    "#print(X.shape)\n",
    "#LSTM?\n",
    "#Sequential.compile?\n",
    "#equential.fit?"
   ]
  },
  {
   "cell_type": "code",
   "execution_count": 34,
   "id": "ba7032d1",
   "metadata": {},
   "outputs": [
    {
     "name": "stdout",
     "output_type": "stream",
     "text": [
      "Model: \"sequential_1\"\n",
      "_________________________________________________________________\n",
      "Layer (type)                 Output Shape              Param #   \n",
      "=================================================================\n",
      "text_vectorization_1 (TextVe (None, 10)                0         \n",
      "_________________________________________________________________\n",
      "embedding_1 (Embedding)      (None, 10, 128)           128000    \n",
      "_________________________________________________________________\n",
      "lstm_2 (LSTM)                (None, 10, 64)            49408     \n",
      "_________________________________________________________________\n",
      "lstm_3 (LSTM)                (None, 16)                5184      \n",
      "_________________________________________________________________\n",
      "dense_1 (Dense)              (None, 1)                 17        \n",
      "=================================================================\n",
      "Total params: 182,609\n",
      "Trainable params: 182,609\n",
      "Non-trainable params: 0\n",
      "_________________________________________________________________\n"
     ]
    }
   ],
   "source": [
    "#Sequential model с преобработкой\n",
    "#tf.keras.layers.experimental.preprocessing.TextVectorization?\n",
    "\n",
    "vectproc = tf.keras.layers.experimental.preprocessing.TextVectorization( #tf.keras.layers.TextVectorization(\n",
    "    max_tokens = maxWordsCount, \n",
    "    standardize = 'lower_and_strip_punctuation',\n",
    "    split = 'whitespace',\n",
    "    output_mode = 'int',\n",
    "    output_sequence_length = max_text_len,\n",
    "    )\n",
    "\n",
    "text_dataset = tf.data.Dataset.from_tensor_slices(texts)\n",
    "\n",
    "vectproc.adapt(text_dataset.batch(64))\n",
    "\n",
    "model = tf.keras.models.Sequential()\n",
    "\n",
    "model.add(Input(shape=(1,), dtype=tf.string))\n",
    "model.add(vectproc)\n",
    "model.add(Embedding(maxWordsCount, output_dim = 128, input_length = max_text_len))\n",
    "#model.add(LSTM(units = 128, return_sequences = True, dropout = 0.3))\n",
    "#model.add(LSTM(units = 64, dropout = 0.3))\n",
    "model.add(LSTM(units = 64, return_sequences = True, dropout = 0.3))\n",
    "model.add(LSTM(units = 16, dropout = 0.3))\n",
    "model.add(Dense(units = 1, activation='sigmoid'))\n",
    "model.summary()"
   ]
  },
  {
   "cell_type": "code",
   "execution_count": 10,
   "id": "fc68b59e",
   "metadata": {},
   "outputs": [],
   "source": [
    "# Создание и настройка колбэков\n",
    "callback_list = [] # массив колбэков до подачи в колбек \"callbacklist\"\n",
    "\n",
    "temp = keras.callbacks.EarlyStopping(\n",
    "            monitor = ES_monitor_parametr, \n",
    "            min_delta = ES_min_delta, \n",
    "            patience = ES_patience,\n",
    "            restore_best_weights = ES_save_best_weights\n",
    "            )\n",
    "callback_list.append(temp)\n",
    "\n",
    "temp = keras.callbacks.ReduceLROnPlateau(\n",
    "            monitor = RLPOP_monitor_parametr, \n",
    "            factor = RLPOP_factor, \n",
    "            patience = RLPOP_patience, \n",
    "            verbose = RLPOP_verbose,\n",
    "            mode = RLPOP_mode, \n",
    "            min_delta = RLPOP_min_delta, \n",
    "            cooldown = RLPOP_cooldown, \n",
    "            min_lr = RLPOP_min_lr\n",
    "            )\n",
    "callback_list.append(temp)\n",
    "\n",
    "FIT_callback_list = keras.callbacks.CallbackList(\n",
    "            callbacks = callback_list, \n",
    "            add_history = CBL_add_history, \n",
    "            add_progbar = CBL_add_progbar, \n",
    "            model = model\n",
    "            )"
   ]
  },
  {
   "cell_type": "code",
   "execution_count": 11,
   "id": "030a85bd",
   "metadata": {},
   "outputs": [],
   "source": [
    "model.compile(loss = 'binary_crossentropy',#'mean_squared_error', \n",
    "              metrics=['accuracy'], \n",
    "              # learning_rate = 0.1\n",
    "              optimizer = tf.keras.optimizers.SGD(learning_rate = 0.01))\n",
    "#tf.keras.optimizers.SGD(learning_rate = 0.01)) #0.01\n",
    "# tf.keras.optimizers.SGD(learning_rate = 0.0001)) #0.05)) #Adam(0.0003)) #'categorical_crossentropy'"
   ]
  },
  {
   "cell_type": "code",
   "execution_count": 12,
   "id": "e55503e9",
   "metadata": {},
   "outputs": [
    {
     "name": "stdout",
     "output_type": "stream",
     "text": [
      "11/11 [==============================] - 1s 54ms/step - loss: 0.6923 - accuracy: 0.5229 - val_loss: 0.6923 - val_accuracy: 0.5714\n",
      "11/11 [==============================] - 0s 4ms/step - loss: 0.6917 - accuracy: 0.5780 - val_loss: 0.6926 - val_accuracy: 0.6071\n",
      "11/11 [==============================] - 0s 4ms/step - loss: 0.6916 - accuracy: 0.5596 - val_loss: 0.6928 - val_accuracy: 0.5714\n",
      "11/11 [==============================] - 0s 4ms/step - loss: 0.6906 - accuracy: 0.5596 - val_loss: 0.6926 - val_accuracy: 0.5714\n",
      "11/11 [==============================] - 0s 4ms/step - loss: 0.6899 - accuracy: 0.6330 - val_loss: 0.6928 - val_accuracy: 0.5000\n",
      "11/11 [==============================] - 0s 4ms/step - loss: 0.6905 - accuracy: 0.5596 - val_loss: 0.6927 - val_accuracy: 0.5357\n",
      "11/11 [==============================] - 0s 4ms/step - loss: 0.6896 - accuracy: 0.5688 - val_loss: 0.6925 - val_accuracy: 0.5357\n",
      "11/11 [==============================] - 0s 4ms/step - loss: 0.6890 - accuracy: 0.6606 - val_loss: 0.6925 - val_accuracy: 0.5357\n",
      "11/11 [==============================] - 0s 4ms/step - loss: 0.6887 - accuracy: 0.5872 - val_loss: 0.6924 - val_accuracy: 0.5357\n",
      "11/11 [==============================] - 0s 4ms/step - loss: 0.6883 - accuracy: 0.5780 - val_loss: 0.6922 - val_accuracy: 0.5357\n"
     ]
    }
   ],
   "source": [
    "history = model.fit(X_train, \n",
    "                    Y_train, \n",
    "                    batch_size = FIT_batch_size, \n",
    "                    shuffle = True, \n",
    "                    verbose = 1, \n",
    "                    epochs = 10, #250, #30, \n",
    "                    validation_split = 0.20,\n",
    "                    callbacks = FIT_callback_list)"
   ]
  },
  {
   "cell_type": "code",
   "execution_count": 13,
   "id": "f6b795f6",
   "metadata": {},
   "outputs": [],
   "source": [
    "#Sequential.fit?"
   ]
  },
  {
   "cell_type": "code",
   "execution_count": 14,
   "id": "b7db8e4f",
   "metadata": {},
   "outputs": [],
   "source": [
    "#reverse_word_map = dict(map(reversed, tokenizer.word_index.items()))"
   ]
  },
  {
   "cell_type": "code",
   "execution_count": 21,
   "id": "821d2e64",
   "metadata": {},
   "outputs": [
    {
     "name": "stdout",
     "output_type": "stream",
     "text": [
      "['Вы уникальны! У вас разные таланты и способности. Вам не нужно всегда идти по стопам других.\\n']\n",
      "Maybe[Положительно] [0.5112] == Right[Положительно]\tВы уникальны! У вас разные таланты и способности. Вам не нужно всегда идти по стопам других.\n",
      "\n"
     ]
    }
   ],
   "source": [
    "#t = \"негативы\".lower()\n",
    "#data = tokenizer.texts_to_sequences([t])\n",
    "#print(data)\n",
    "#data_pad = pad_sequences(data, maxlen=max_text_len)\n",
    "#print( sequence_to_text(data[0]) )\n",
    "#print(X_test)\n",
    "for x in range(1): #range(len(X_test)): \n",
    "    #print(f\"X_test[{x}]: \", X_test[x], \"X_test type: \", type(X_test[x]))\n",
    "    \n",
    "    a = np.array([X_test[x]]) \n",
    "    #print(f\"a: \", a, \"a type\", type(a))\n",
    "    print(a)\n",
    "    res = model.predict(a)\n",
    "        \n",
    "    mark = \"Положительно\" if np.mean(res) > 0.5 else \"Отрицательно\"\n",
    "    mark2 = \"Положительно\" if Y_test[x] == 1 else \"Отрицательно\"\n",
    "    equal = \"==\" if mark == mark2 else \"  \"\n",
    "    #print((f\"Maybe[{mark}] [%.4f] \" % np.mean(res)) + equal + f\" Right[{mark2}]\\t\" + \n",
    "    #      ' '.join(list(filter(None, sequence_to_text(X_test[x])))) )\n",
    "    print((f\"Maybe[{mark}] [%.4f] \" % np.mean(res)) + equal + f\" Right[{mark2}]\\t\" + X_test[x])\n",
    "    \n",
    "    #print(res)\n",
    "        #print(\"res: \", res )\n",
    "        #print(\"Положительно\" if np.argmax(res) == 1 else \"отрицательно\")\n",
    "    "
   ]
  },
  {
   "cell_type": "code",
   "execution_count": 16,
   "id": "65071adb",
   "metadata": {},
   "outputs": [
    {
     "data": {
      "image/png": "[encoded data removed]",
      "text/plain": [
       "<Figure size 432x288 with 1 Axes>"
      ]
     },
     "metadata": {
      "needs_background": "light"
     },
     "output_type": "display_data"
    }
   ],
   "source": [
    "# Вывод графика изменения ошибки\n",
    "plt.plot(history.history['accuracy'])\n",
    "plt.plot(history.history['val_accuracy'])\n",
    "plt.title('model accuracy')\n",
    "plt.ylabel('accuracy')\n",
    "plt.xlabel('epoch')\n",
    "plt.legend(['train', 'val'], loc = 'upper left')\n",
    "plt.show()"
   ]
  },
  {
   "cell_type": "code",
   "execution_count": 17,
   "id": "4b287f96",
   "metadata": {},
   "outputs": [
    {
     "name": "stdout",
     "output_type": "stream",
     "text": [
      "4/4 [==============================] - 0s 750us/step - loss: 0.6871 - accuracy: 0.5714\n"
     ]
    },
    {
     "data": {
      "text/plain": [
       "[0.6870793700218201, 0.5714285969734192]"
      ]
     },
     "execution_count": 17,
     "metadata": {},
     "output_type": "execute_result"
    }
   ],
   "source": [
    "# тест модели\n",
    "model.evaluate(X_test, Y_test, batch_size = FIT_batch_size)"
   ]
  },
  {
   "cell_type": "code",
   "execution_count": 18,
   "id": "19348a33",
   "metadata": {},
   "outputs": [
    {
     "data": {
      "image/png": "[encoded data removed]",
      "text/plain": [
       "<Figure size 432x288 with 1 Axes>"
      ]
     },
     "metadata": {
      "needs_background": "light"
     },
     "output_type": "display_data"
    }
   ],
   "source": [
    "# Вывод графика изменения ошибки\n",
    "plt.plot(history.history['loss'])\n",
    "plt.plot(history.history['val_loss'])\n",
    "plt.title('model loss')\n",
    "plt.ylabel('loss')\n",
    "plt.xlabel('epoch')\n",
    "plt.legend(['train', 'val'], loc = 'upper left')\n",
    "plt.show()"
   ]
  },
  {
   "cell_type": "code",
   "execution_count": 19,
   "id": "bffa550f",
   "metadata": {},
   "outputs": [
    {
     "name": "stdout",
     "output_type": "stream",
     "text": [
      "mark [Положительно]\n",
      "res:  [[0.5125662]]\n",
      "res[0,0]:  0.5125662\n"
     ]
    }
   ],
   "source": [
    "t = \"если вы просто посмотрите на жизнь позитивно произойдут позитивные вещи\"\n",
    "\n",
    "a = list()\n",
    "a.append(t)\n",
    "\n",
    "#res = model.predict(data_pad)\n",
    "res = model.predict(a)\n",
    "\n",
    "mark = \"Положительно\" if np.mean(res) > 0.5 else \"отрицательно\"\n",
    "\n",
    "print(f\"mark [{mark}]\")\n",
    "print(\"res: \", res)\n",
    "print(\"res[0,0]: \", res[0,0])"
   ]
  },
  {
   "cell_type": "code",
   "execution_count": 20,
   "id": "2f051385",
   "metadata": {},
   "outputs": [
    {
     "name": "stdout",
     "output_type": "stream",
     "text": [
      "['это просто ужасно плохо противно не хорошо']\n",
      "mark [Положительно]\n",
      "res:  [[0.50313413]]\n",
      "res[0,0]:  0.50313413\n"
     ]
    }
   ],
   "source": [
    "t = \"это просто ужасно плохо противно не хорошо\"\n",
    "\n",
    "a = list()\n",
    "a.append(t)\n",
    "\n",
    "print(a)\n",
    "#res = model.predict(data_pad)\n",
    "res = model.predict(a)\n",
    "\n",
    "mark = \"Положительно\" if np.mean(res) > 0.5 else \"отрицательно\"\n",
    "\n",
    "print(f\"mark [{mark}]\")\n",
    "print(\"res: \", res)\n",
    "print(\"res[0,0]: \", res[0,0])"
   ]
  },
  {
   "cell_type": "code",
   "execution_count": null,
   "id": "90fe2ab5",
   "metadata": {},
   "outputs": [],
   "source": []
  }
 ],
 "metadata": {
  "kernelspec": {
   "display_name": "Python 3 (ipykernel)",
   "language": "python",
   "name": "python3"
  },
  "language_info": {
   "codemirror_mode": {
    "name": "ipython",
    "version": 3
   },
   "file_extension": ".py",
   "mimetype": "text/x-python",
   "name": "python",
   "nbconvert_exporter": "python",
   "pygments_lexer": "ipython3",
   "version": "3.8.12"
  }
 },
 "nbformat": 4,
 "nbformat_minor": 5
}
