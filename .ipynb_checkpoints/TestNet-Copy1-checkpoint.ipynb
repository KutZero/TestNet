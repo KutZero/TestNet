{
 "cells": [
  {
   "cell_type": "code",
   "execution_count": 1,
   "id": "023e5ace",
   "metadata": {},
   "outputs": [],
   "source": [
    "import numpy as np\n",
    "import pandas as pd\n",
    "import tensorflow as tf\n",
    "import matplotlib.pyplot as plt\n",
    "\n",
    "from tensorflow import keras\n",
    "from tensorflow.keras.layers import Dense\n",
    "\n",
    "tf.compat.v1.set_random_seed(290)\n",
    "tf.random.set_seed(290)"
   ]
  },
  {
   "cell_type": "code",
   "execution_count": 2,
   "id": "9eeb34ff",
   "metadata": {},
   "outputs": [],
   "source": [
    "# всякие константы для последующей работы\n",
    "\n",
    "#///////////////////////////////// для взятия данных из файлов\n",
    "\n",
    "path_to_data = ('ngp.csv','timesereis_8_2.csv')\n",
    "target = 'price'\n",
    "\n",
    "#///////////////////////////////// для создания слоев\n",
    "\n",
    "hidden_layer_act_fun = 'relu'   # функция активация скрытых слоев и входного\n",
    "output_layer_act_fun = 'sigmoid' #'linear' # функция активация выходного слоя\n",
    "\n",
    "cur_dict = {8: hidden_layer_act_fun, \n",
    "            400: hidden_layer_act_fun, #400 20\n",
    "            20: hidden_layer_act_fun,\n",
    "            2: output_layer_act_fun} # size(layer) plus activation func\n",
    "    \n",
    "            #4: hidden_layer_act_fun, #5: hidden_layer_act_fun, \n",
    "            #900: hidden_layer_act_fun, #400: hidden_layer_act_fun, \n",
    "            #7: hidden_layer_act_fun, #50: hidden_layer_act_fun, \n",
    "            #1: output_layer_act_fun}\n",
    "\n",
    "#///////////////////////////////// для компиляции \n",
    "\n",
    "learning_rate = 0.00005 # шаг сходимости back propogation\n",
    "cur_solver = keras.optimizers.Adam(learning_rate) # # оптимизатор\n",
    "loss_func = 'mean_squared_error'# функция потерь\n",
    "\n",
    "#///////////////////////////////// для колбэков\n",
    "\n",
    "    # для Early_stopping\n",
    "cur_patience = 15 # кол-во эпох без улучшений\n",
    "cur_min_delta = 0.0001 # минимальное улучшение параметра за cur_patience\n",
    "cur_monitor_parametr_in_early_stopping =  'loss' # отслеживаемый параметр \n",
    "cur_save_best_weights = True # сохранять ли веса нейронки с лучшими результатами\n",
    "\n",
    "#///////////////////////////////// для тренировки\n",
    "\n",
    "cur_batch_size = 4 #13, 4 # размер bach при обучении/тестировании\n",
    "cur_shuffle = True # перемешивать ли данные\n",
    "cur_verbose = True # выводить ли прогресс обучения в его процессее\n",
    "cur_epochs = 50 # количество эпох обучения\n",
    "cur_validation_split = 0.2 # процент валидационных данных, отсекаемых из тестовой выборки"
   ]
  },
  {
   "cell_type": "code",
   "execution_count": 3,
   "id": "62055c23",
   "metadata": {},
   "outputs": [],
   "source": [
    "def get_df(path, target_name):\n",
    "    print(\"///////// get_df /////////\")\n",
    "    file = pd.read_csv(path)\n",
    "    dframe = pd.DataFrame(list(reversed(file[target_name])))\n",
    "    #print(dframe)\n",
    "    print(\"///////// get_df_end /////////\")\n",
    "    return dframe"
   ]
  },
  {
   "cell_type": "code",
   "execution_count": 4,
   "id": "ca89a959",
   "metadata": {},
   "outputs": [],
   "source": [
    "def get_cols_and_names(df):\n",
    "    input_t = 4\n",
    "    output_t = 1\n",
    "    \n",
    "    cols = list()\n",
    "    names = list()\n",
    "    \n",
    "    print(\"///////// get_cols_and_names /////////\")\n",
    "    for i in range(input_t,0, -1):\n",
    "        cols.append(df.shift(i))\n",
    "        #print(f\"df.shift({i}).shape: \", df.shift(i).shape, \"type: \", type(df.shift(i)))\n",
    "        names.append(i)\n",
    "    print(\"///////// Next loop /////////\")\n",
    "    for i in range(0,output_t):\n",
    "        cols.append(df.shift(-i))                    \n",
    "        #print(f\"df.shift({-i}).shape: \", df.shift(-i).shape, \"type: \", type(df.shift(-i)))\n",
    "        names.append(i+input_t+1)\n",
    "    \n",
    "    print(\"///////// get_cols_and_names_end /////////\")\n",
    "    return cols,names"
   ]
  },
  {
   "cell_type": "code",
   "execution_count": 5,
   "id": "3d2fa36d",
   "metadata": {},
   "outputs": [],
   "source": [
    "def split(X,Y,factor):\n",
    "    X_train=X[:factor]\n",
    "    Y_train=Y[:factor]\n",
    "    X_test=X[factor:]\n",
    "    Y_test=Y[factor:]\n",
    "    return X_train,Y_train,X_test,Y_test"
   ]
  },
  {
   "cell_type": "code",
   "execution_count": 6,
   "id": "2bbd49b1",
   "metadata": {},
   "outputs": [],
   "source": [
    "def prepare_df(cols,names):\n",
    "    print(\"///////// prepare_df /////////\")\n",
    "    n_df = pd.concat(cols, axis = 1)\n",
    "    n_df.columns = names\n",
    "    \n",
    "    #print(\"n_df: \", n_df)\n",
    "    \n",
    "    n_df.dropna(inplace = True)\n",
    "    \n",
    "    #print(\"n_df: \", n_df)\n",
    "    \n",
    "    print(\"///////// prepare_df_end /////////\")\n",
    "    return n_df"
   ]
  },
  {
   "cell_type": "code",
   "execution_count": 7,
   "id": "746b5cc9",
   "metadata": {},
   "outputs": [],
   "source": [
    "# данные из 2 файла\n",
    "def prep_data_8_2_time(path):\n",
    "    file = pd.read_csv(path)\n",
    "    \n",
    "    X = file[['0','1','2','3','4','5','6','7']]\n",
    "    X = X / X.max()\n",
    "    Y = file[['8','9']]\n",
    "    Y = Y / Y.max()\n",
    "\n",
    "    #ones = np.ones(shape = (X.shape[0], 1)) добавление столбца единиц\n",
    "    #X = np.append(X, ones, axis=1)\n",
    "    \n",
    "    Y = np.asarray(Y)\n",
    "    factor=int(.80 * X.shape[0])\n",
    "\n",
    "    return split(X, Y, factor)"
   ]
  },
  {
   "cell_type": "code",
   "execution_count": 8,
   "id": "d86bb2ed",
   "metadata": {},
   "outputs": [],
   "source": [
    "#from IPython.display import display\n",
    "def prep_data_4_1_time(cols, names, prepared_df):\n",
    "    print(\"///////// prep_data_4_1_time /////////\")\n",
    " \n",
    "    X = prepared_df[[4, 3, 2, 1]]\n",
    "    Y = prepared_df[5]\n",
    "    X = X / X.max()\n",
    "    \n",
    "    \n",
    "    ############# добавление столбца единиц\n",
    "    #ones = np.ones(shape = (X.shape[0], 1))\n",
    "    #X = np.append(X, ones, axis = 1)\n",
    "    #############\n",
    "    \n",
    "    Y = np.asarray(Y)\n",
    "    Y = Y / Y.max()\n",
    "    \n",
    "    #print(\"X[0], Y[0]\", X[0], Y[0])\n",
    "    #print(\"X[1], Y[1]\", X[1], Y[1])\n",
    "    \n",
    "    #print(\"X: \", X)\n",
    "    #print(\"Y: \", Y)\n",
    "    \n",
    "    factor = int(.80*X.shape[0])\n",
    "\n",
    "    print(\"///////// prep_data_4_1_time_end /////////\")\n",
    "    return split(X ,Y , factor)"
   ]
  },
  {
   "cell_type": "code",
   "execution_count": 9,
   "id": "3537ab9e",
   "metadata": {},
   "outputs": [],
   "source": [
    "# создание архитектуры нейронки\n",
    "model = keras.Sequential()\n",
    "\n",
    "for x in cur_dict.items():\n",
    "    model.add(Dense(x[0], activation = x[1]))\n",
    "    \n",
    "model.compile(loss = loss_func, optimizer = cur_solver)"
   ]
  },
  {
   "cell_type": "code",
   "execution_count": 10,
   "id": "99b46025",
   "metadata": {},
   "outputs": [],
   "source": [
    "# Создание и настройка колбэков\n",
    "callback_arr = []\n",
    "temp = keras.callbacks.EarlyStopping(\n",
    "            monitor = cur_monitor_parametr_in_early_stopping, \n",
    "            min_delta = cur_min_delta, \n",
    "            patience = cur_patience,\n",
    "            restore_best_weights = cur_save_best_weights\n",
    "            )\n",
    "callback_arr.append(temp)\n",
    "\n",
    "#temp = keras.callbacks.ProgbarLogger(\n",
    "#            count_mode='samples', \n",
    "#            stateful_metrics = ['loss','val_loss','accuracy']\n",
    "#            )\n",
    "#callback_arr.append(temp)\n",
    "\n",
    "#cur_callback = keras.callbacks.CallbackList(\n",
    "#    callbacks = callback_arr, add_history = True, add_progbar = False, model = model)\n"
   ]
  },
  {
   "cell_type": "code",
   "execution_count": 11,
   "id": "12d39bfc",
   "metadata": {},
   "outputs": [],
   "source": [
    "# подготовка данных\n",
    "\n",
    "'''# извлечь датасет из файла\n",
    "df = get_df(path_to_data[0], target)\n",
    "# заполнить колонки и имена колонок для тестового датасета\n",
    "cols, names = get_cols_and_names(df)\n",
    "# создать тестовый/тренировочный датасет\n",
    "prepared_df = prepare_df(cols,names)\n",
    "# создать тестовые/тренировочные данные из тестового датасета\n",
    "prepared_data = prep_data_4_1_time(cols, names, prepared_df)'''\n",
    "\n",
    "prepared_data = prep_data_8_2_time(path_to_data[1])\n",
    "\n",
    "X_train,Y_train,X_test,Y_test = prepared_data"
   ]
  },
  {
   "cell_type": "code",
   "execution_count": 12,
   "id": "26b44883",
   "metadata": {},
   "outputs": [
    {
     "name": "stdout",
     "output_type": "stream",
     "text": [
      "Epoch 1/50\n",
      "WARNING:tensorflow:Layer dense is casting an input tensor from dtype float64 to the layer's dtype of float32, which is new behavior in TensorFlow 2.  The layer has dtype float32 because its dtype defaults to floatx.\n",
      "\n",
      "If you intended to run this layer in float32, you can safely ignore this warning. If in doubt, this warning is likely only an issue if you are porting a TensorFlow 1.X model to TensorFlow 2.\n",
      "\n",
      "To change all layers to have dtype float64 by default, call `tf.keras.backend.set_floatx('float64')`. To change just this layer, pass dtype='float64' to the layer constructor. If you are the author of this layer, you can disable autocasting by passing autocast=False to the base Layer constructor.\n",
      "\n",
      "171/171 [==============================] - 0s 2ms/step - loss: 0.0508 - val_loss: 0.0518\n",
      "Epoch 2/50\n",
      "171/171 [==============================] - 0s 1ms/step - loss: 0.0463 - val_loss: 0.0433\n",
      "Epoch 3/50\n",
      "171/171 [==============================] - 0s 1ms/step - loss: 0.0430 - val_loss: 0.0376\n",
      "Epoch 4/50\n",
      "171/171 [==============================] - 0s 1ms/step - loss: 0.0397 - val_loss: 0.0334\n",
      "Epoch 5/50\n",
      "171/171 [==============================] - 0s 999us/step - loss: 0.0361 - val_loss: 0.0304\n",
      "Epoch 6/50\n",
      "171/171 [==============================] - 0s 1ms/step - loss: 0.0320 - val_loss: 0.0266\n",
      "Epoch 7/50\n",
      "171/171 [==============================] - 0s 1ms/step - loss: 0.0275 - val_loss: 0.0203\n",
      "Epoch 8/50\n",
      "171/171 [==============================] - 0s 1ms/step - loss: 0.0225 - val_loss: 0.0170\n",
      "Epoch 9/50\n",
      "171/171 [==============================] - 0s 1ms/step - loss: 0.0180 - val_loss: 0.0132\n",
      "Epoch 10/50\n",
      "171/171 [==============================] - 0s 1ms/step - loss: 0.0141 - val_loss: 0.0098\n",
      "Epoch 11/50\n",
      "171/171 [==============================] - 0s 1ms/step - loss: 0.0109 - val_loss: 0.0077\n",
      "Epoch 12/50\n",
      "171/171 [==============================] - 0s 1ms/step - loss: 0.0085 - val_loss: 0.0044\n",
      "Epoch 13/50\n",
      "171/171 [==============================] - 0s 1ms/step - loss: 0.0067 - val_loss: 0.0034\n",
      "Epoch 14/50\n",
      "171/171 [==============================] - 0s 1ms/step - loss: 0.0054 - val_loss: 0.0021\n",
      "Epoch 15/50\n",
      "171/171 [==============================] - 0s 1ms/step - loss: 0.0046 - val_loss: 0.0015\n",
      "Epoch 16/50\n",
      "171/171 [==============================] - 0s 1ms/step - loss: 0.0040 - val_loss: 0.0010\n",
      "Epoch 17/50\n",
      "171/171 [==============================] - 0s 1ms/step - loss: 0.0036 - val_loss: 6.1731e-04\n",
      "Epoch 18/50\n",
      "171/171 [==============================] - 0s 1ms/step - loss: 0.0034 - val_loss: 6.6586e-04\n",
      "Epoch 19/50\n",
      "171/171 [==============================] - 0s 1ms/step - loss: 0.0032 - val_loss: 6.3210e-04\n",
      "Epoch 20/50\n",
      "171/171 [==============================] - 0s 1ms/step - loss: 0.0031 - val_loss: 4.9749e-04\n",
      "Epoch 21/50\n",
      "171/171 [==============================] - 0s 1ms/step - loss: 0.0030 - val_loss: 4.3175e-04\n",
      "Epoch 22/50\n",
      "171/171 [==============================] - 0s 1ms/step - loss: 0.0030 - val_loss: 4.1465e-04\n",
      "Epoch 23/50\n",
      "171/171 [==============================] - 0s 1ms/step - loss: 0.0029 - val_loss: 4.1063e-04\n",
      "Epoch 24/50\n",
      "171/171 [==============================] - 0s 1ms/step - loss: 0.0029 - val_loss: 3.9748e-04\n",
      "Epoch 25/50\n",
      "171/171 [==============================] - 0s 1ms/step - loss: 0.0028 - val_loss: 4.0405e-04\n",
      "Epoch 26/50\n",
      "171/171 [==============================] - 0s 1ms/step - loss: 0.0028 - val_loss: 3.8041e-04\n",
      "Epoch 27/50\n",
      "171/171 [==============================] - 0s 1ms/step - loss: 0.0028 - val_loss: 3.7639e-04\n",
      "Epoch 28/50\n",
      "171/171 [==============================] - 0s 1ms/step - loss: 0.0028 - val_loss: 3.6780e-04\n",
      "Epoch 29/50\n",
      "171/171 [==============================] - 0s 1ms/step - loss: 0.0028 - val_loss: 3.6992e-04\n",
      "Epoch 30/50\n",
      "171/171 [==============================] - 0s 1ms/step - loss: 0.0027 - val_loss: 3.6858e-04\n",
      "Epoch 31/50\n",
      "171/171 [==============================] - 0s 1ms/step - loss: 0.0027 - val_loss: 3.7608e-04\n",
      "Epoch 32/50\n",
      "171/171 [==============================] - 0s 1ms/step - loss: 0.0027 - val_loss: 3.7179e-04\n",
      "Epoch 33/50\n",
      "171/171 [==============================] - 0s 1ms/step - loss: 0.0027 - val_loss: 3.5431e-04\n",
      "Epoch 34/50\n",
      "171/171 [==============================] - 0s 1ms/step - loss: 0.0027 - val_loss: 3.5304e-04\n",
      "Epoch 35/50\n",
      "171/171 [==============================] - 0s 1ms/step - loss: 0.0027 - val_loss: 3.6494e-04\n",
      "Epoch 36/50\n",
      "171/171 [==============================] - 0s 1ms/step - loss: 0.0026 - val_loss: 3.4626e-04\n",
      "Epoch 37/50\n",
      "171/171 [==============================] - 0s 999us/step - loss: 0.0026 - val_loss: 3.4690e-04\n",
      "Epoch 38/50\n",
      "171/171 [==============================] - 0s 1ms/step - loss: 0.0026 - val_loss: 3.4060e-04\n",
      "Epoch 39/50\n",
      "171/171 [==============================] - 0s 1ms/step - loss: 0.0026 - val_loss: 3.5931e-04\n",
      "Epoch 40/50\n",
      "171/171 [==============================] - 0s 1ms/step - loss: 0.0026 - val_loss: 3.3904e-04\n",
      "Epoch 41/50\n",
      "171/171 [==============================] - 0s 1ms/step - loss: 0.0026 - val_loss: 3.3570e-04\n",
      "Epoch 42/50\n",
      "171/171 [==============================] - 0s 1ms/step - loss: 0.0026 - val_loss: 3.6638e-04\n",
      "Epoch 43/50\n",
      "171/171 [==============================] - 0s 1ms/step - loss: 0.0026 - val_loss: 3.3505e-04\n",
      "Epoch 44/50\n",
      "171/171 [==============================] - 0s 1ms/step - loss: 0.0026 - val_loss: 3.4764e-04\n",
      "Epoch 45/50\n",
      "171/171 [==============================] - 0s 1ms/step - loss: 0.0026 - val_loss: 3.8307e-04\n",
      "Epoch 46/50\n",
      "171/171 [==============================] - 0s 1ms/step - loss: 0.0025 - val_loss: 3.5930e-04\n",
      "Epoch 47/50\n",
      "171/171 [==============================] - 0s 2ms/step - loss: 0.0025 - val_loss: 3.2993e-04\n",
      "Epoch 48/50\n",
      "171/171 [==============================] - 0s 2ms/step - loss: 0.0025 - val_loss: 3.5696e-04\n",
      "Epoch 49/50\n",
      "171/171 [==============================] - 0s 1ms/step - loss: 0.0025 - val_loss: 3.2850e-04\n",
      "Epoch 50/50\n",
      "171/171 [==============================] - 0s 1ms/step - loss: 0.0025 - val_loss: 3.5245e-04\n"
     ]
    }
   ],
   "source": [
    "# тренировка модели\n",
    "history = model.fit(X_train, \n",
    "                    Y_train, \n",
    "                    batch_size = cur_batch_size, \n",
    "                    epochs = cur_epochs, \n",
    "                    verbose = cur_verbose, \n",
    "                    validation_split = cur_validation_split, \n",
    "                    shuffle = cur_shuffle, \n",
    "                    callbacks = callback_arr)"
   ]
  },
  {
   "cell_type": "code",
   "execution_count": 13,
   "id": "9a6c1b04",
   "metadata": {},
   "outputs": [
    {
     "data": {
      "image/png": "[encoded data removed]",
      "text/plain": [
       "<Figure size 432x288 with 1 Axes>"
      ]
     },
     "metadata": {
      "needs_background": "light"
     },
     "output_type": "display_data"
    }
   ],
   "source": [
    "plt.plot(history.history['loss'])\n",
    "plt.plot(history.history['val_loss'])\n",
    "plt.title('model loss')\n",
    "plt.ylabel('loss')\n",
    "plt.xlabel('epoch')\n",
    "plt.legend(['train', 'val'], loc='upper left')\n",
    "plt.show()"
   ]
  },
  {
   "cell_type": "code",
   "execution_count": 14,
   "id": "f1e53de1",
   "metadata": {},
   "outputs": [
    {
     "name": "stdout",
     "output_type": "stream",
     "text": [
      "54/54 [==============================] - 0s 1ms/step - loss: 5.6661e-04\n"
     ]
    },
    {
     "data": {
      "text/plain": [
       "0.0005666132783517241"
      ]
     },
     "execution_count": 14,
     "metadata": {},
     "output_type": "execute_result"
    }
   ],
   "source": [
    "# тест модели\n",
    "\n",
    "model.evaluate(X_test, Y_test, batch_size = cur_batch_size)"
   ]
  },
  {
   "cell_type": "code",
   "execution_count": 15,
   "id": "6072cd65",
   "metadata": {},
   "outputs": [],
   "source": [
    "#MLPRegressor?\n",
    "#keras.Sequential?\n",
    "#keras.Sequential.fit?\n",
    "#keras.callbacks.Callback()\n",
    "#keras.Sequential.compile?"
   ]
  },
  {
   "cell_type": "code",
   "execution_count": null,
   "id": "7f34797e",
   "metadata": {},
   "outputs": [],
   "source": []
  }
 ],
 "metadata": {
  "kernelspec": {
   "display_name": "Python 3 (ipykernel)",
   "language": "python",
   "name": "python3"
  },
  "language_info": {
   "codemirror_mode": {
    "name": "ipython",
    "version": 3
   },
   "file_extension": ".py",
   "mimetype": "text/x-python",
   "name": "python",
   "nbconvert_exporter": "python",
   "pygments_lexer": "ipython3",
   "version": "3.8.12"
  }
 },
 "nbformat": 4,
 "nbformat_minor": 5
}
