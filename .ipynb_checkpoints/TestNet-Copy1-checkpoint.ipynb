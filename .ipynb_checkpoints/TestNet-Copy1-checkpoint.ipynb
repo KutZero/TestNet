{
 "cells": [
  {
   "cell_type": "code",
   "execution_count": 1,
   "id": "023e5ace",
   "metadata": {},
   "outputs": [],
   "source": [
    "import numpy as np\n",
    "import pandas as pd\n",
    "\n",
    "from tensorflow import keras\n",
    "from tensorflow.keras.layers import Dense"
   ]
  },
  {
   "cell_type": "code",
   "execution_count": 2,
   "id": "9eeb34ff",
   "metadata": {},
   "outputs": [],
   "source": [
    "# всякие константы для последующей работы\n",
    "\n",
    "#///////////////////////////////// для взятия данных из файлов\n",
    "\n",
    "path_to_data = ('ngp.csv','timesereis_8_2.csv')\n",
    "target = 'price'\n",
    "\n",
    "#///////////////////////////////// для создания слоев\n",
    "\n",
    "hidden_layer_act_fun = 'relu'\n",
    "output_layer_act_fun = 'linear'\n",
    "cur_dict = {4: hidden_layer_act_fun, \n",
    "            900: hidden_layer_act_fun, \n",
    "            7: hidden_layer_act_fun, \n",
    "            1: output_layer_act_fun} # size(layer) plus activation func\n",
    "\n",
    "#///////////////////////////////// для компиляции \n",
    "\n",
    "cur_solver = 'adam'\n",
    "loss_func = 'mean_squared_error'\n",
    "\n",
    "#///////////////////////////////// для колбэков\n",
    "\n",
    "    # для Early_stopping\n",
    "cur_patience = 2 # кол-во эпох без улучшений\n",
    "cur_min_delta = 0.001 # минимальное улучшение параметра за cur_patience\n",
    "cur_monitor_parametr_in_early_stopping = 'loss'\n",
    "cur_save_best_weights = True\n",
    "\n",
    "#///////////////////////////////// для тренировки\n",
    "\n",
    "cur_batch_size = 13\n",
    "cur_shuffle = True\n",
    "cur_verbose = True\n",
    "cur_epochs = 1\n",
    "cur_validation_split = 0.2"
   ]
  },
  {
   "cell_type": "code",
   "execution_count": 3,
   "id": "62055c23",
   "metadata": {},
   "outputs": [],
   "source": [
    "def get_df(path, target_name):\n",
    "    print(\"///////// get_df /////////\")\n",
    "    file = pd.read_csv(path)\n",
    "    dframe = pd.DataFrame(list(reversed(file[target_name])))\n",
    "    print(dframe)\n",
    "    print(\"///////// get_df_end /////////\")\n",
    "    return dframe"
   ]
  },
  {
   "cell_type": "code",
   "execution_count": 4,
   "id": "ca89a959",
   "metadata": {},
   "outputs": [],
   "source": [
    "def get_cols_and_names(df):\n",
    "    input_t = 4\n",
    "    output_t = 1\n",
    "    \n",
    "    cols = list()\n",
    "    names = list()\n",
    "    \n",
    "    print(\"///////// get_cols_and_names /////////\")\n",
    "    for i in range(input_t,0, -1):\n",
    "        cols.append(df.shift(i))\n",
    "        #cols.append(np.array(df.shift(i))\n",
    "        print(f\"df.shift({i}).shape: \", df.shift(i).shape, \"type: \", type(df.shift(i)))\n",
    "        names.append(i)\n",
    "    print(\"///////// Next loop /////////\")\n",
    "    for i in range(0,output_t):\n",
    "        #cols.append(np.array(df.shift(-i))\n",
    "        cols.append(df.shift(-i))                    \n",
    "        print(f\"df.shift({-i}).shape: \", df.shift(-i).shape, \"type: \", type(df.shift(-i)))\n",
    "        names.append(i+input_t+1)\n",
    "    \n",
    "    print(\"///////// get_cols_and_names_end /////////\")\n",
    "    return cols,names"
   ]
  },
  {
   "cell_type": "code",
   "execution_count": 5,
   "id": "3d2fa36d",
   "metadata": {},
   "outputs": [],
   "source": [
    "def split(X,Y,factor):\n",
    "    X_train=X[:factor]\n",
    "    Y_train=Y[:factor]\n",
    "    X_test=X[factor:]\n",
    "    Y_test=Y[factor:]\n",
    "    return X_train,Y_train,X_test,Y_test"
   ]
  },
  {
   "cell_type": "code",
   "execution_count": 6,
   "id": "2bbd49b1",
   "metadata": {},
   "outputs": [],
   "source": [
    "def prepare_df(cols,names):\n",
    "    print(\"///////// prepare_df /////////\")\n",
    "    n_df = pd.concat(cols, axis = 1)\n",
    "    n_df.columns = names\n",
    "    \n",
    "    print(\"n_df: \", n_df)\n",
    "    \n",
    "    n_df.dropna(inplace = True)\n",
    "    \n",
    "    print(\"n_df: \", n_df)\n",
    "    \n",
    "    print(\"///////// prepare_df_end /////////\")\n",
    "    return n_df"
   ]
  },
  {
   "cell_type": "code",
   "execution_count": 7,
   "id": "d86bb2ed",
   "metadata": {},
   "outputs": [],
   "source": [
    "#from IPython.display import display\n",
    "def prep_data_4_1_time(cols, names, prepared_df):\n",
    "    print(\"///////// prep_data_4_1_time /////////\")\n",
    " \n",
    "    X = prepared_df[[4, 3, 2, 1]]\n",
    "    Y = prepared_df[5]\n",
    "    X = X / X.max()\n",
    "    #ones = np.ones(shape = (X.shape[0], 1))\n",
    "    #X = np.append(X, ones, axis = 1)\n",
    "    Y = np.asarray(Y)\n",
    "    Y = Y / Y.max()\n",
    "    \n",
    "    #print(\"X[0], Y[0]\", X[0], Y[0])\n",
    "    #print(\"X[1], Y[1]\", X[1], Y[1])\n",
    "    \n",
    "    print(\"X: \", X)\n",
    "    print(\"Y: \", Y)\n",
    "    \n",
    "    factor = int(.80*X.shape[0])\n",
    "\n",
    "    print(\"///////// prep_data_4_1_time_end /////////\")\n",
    "    return split(X ,Y , factor)"
   ]
  },
  {
   "cell_type": "code",
   "execution_count": 8,
   "id": "0972b13a",
   "metadata": {},
   "outputs": [],
   "source": [
    "#prep_data_4_1_time()\n",
    "#pd.DataFrame.dropna?\n",
    "#np.asarray?"
   ]
  },
  {
   "cell_type": "code",
   "execution_count": 9,
   "id": "746b5cc9",
   "metadata": {},
   "outputs": [
    {
     "data": {
      "text/plain": [
       "\"def prep_data_8_2_time(path):\\n    file = pd.read_csv(path)\\n    \\n    X = file[['0','1','2','3','4','5','6','7']]\\n    X = X / X.max()\\n    Y = file[['8','9']]\\n    Y = Y / Y.max()\\n\\n    ones = np.ones(shape = (X.shape[0], 1))\\n    X = np.append(X, ones, axis=1)\\n    Y = np.asarray(Y)\\n    factor=int(.80 * X.shape[0])\\n\\n    return split(X, Y, factor)\""
      ]
     },
     "execution_count": 9,
     "metadata": {},
     "output_type": "execute_result"
    }
   ],
   "source": [
    "# данные из 2 файла\n",
    "'''def prep_data_8_2_time(path):\n",
    "    file = pd.read_csv(path)\n",
    "    \n",
    "    X = file[['0','1','2','3','4','5','6','7']]\n",
    "    X = X / X.max()\n",
    "    Y = file[['8','9']]\n",
    "    Y = Y / Y.max()\n",
    "\n",
    "    ones = np.ones(shape = (X.shape[0], 1))\n",
    "    X = np.append(X, ones, axis=1)\n",
    "    Y = np.asarray(Y)\n",
    "    factor=int(.80 * X.shape[0])\n",
    "\n",
    "    return split(X, Y, factor)'''"
   ]
  },
  {
   "cell_type": "code",
   "execution_count": 10,
   "id": "3537ab9e",
   "metadata": {},
   "outputs": [],
   "source": [
    "# создание архитектуры нейронки\n",
    "model = keras.Sequential()\n",
    "\n",
    "for x in cur_dict.items():\n",
    "    model.add(Dense(x[0], activation = x[1]))\n",
    "    \n",
    "model.compile(loss = loss_func, optimizer = cur_solver)"
   ]
  },
  {
   "cell_type": "code",
   "execution_count": 11,
   "id": "99b46025",
   "metadata": {},
   "outputs": [
    {
     "data": {
      "text/plain": [
       "\"temp = keras.callbacks.ProgbarLogger(\\n            count_mode='steps', \\n            stateful_metrics = [loss_func]  #\\n            )\\ncallback.append(temp)\""
      ]
     },
     "execution_count": 11,
     "metadata": {},
     "output_type": "execute_result"
    }
   ],
   "source": [
    "# Создание и настройка колбэков\n",
    "callback = []\n",
    "temp = keras.callbacks.EarlyStopping(\n",
    "            monitor = cur_monitor_parametr_in_early_stopping, \n",
    "            min_delta = cur_min_delta, \n",
    "            patience = cur_patience,\n",
    "            restore_best_weights = cur_save_best_weights\n",
    "            )\n",
    "callback.append(temp)\n",
    "\n",
    "'''temp = keras.callbacks.ProgbarLogger(\n",
    "            count_mode='steps', \n",
    "            stateful_metrics = [loss_func]  #\n",
    "            )\n",
    "callback.append(temp)'''"
   ]
  },
  {
   "cell_type": "code",
   "execution_count": 12,
   "id": "6072cd65",
   "metadata": {},
   "outputs": [],
   "source": [
    "#MLPRegressor?\n",
    "#keras.Sequential?\n",
    "#keras.Sequential.fit?\n",
    "#keras.callbacks.Callback()"
   ]
  },
  {
   "cell_type": "code",
   "execution_count": 13,
   "id": "12d39bfc",
   "metadata": {},
   "outputs": [
    {
     "name": "stdout",
     "output_type": "stream",
     "text": [
      "///////// get_df /////////\n",
      "         0\n",
      "0     3.79\n",
      "1     4.19\n",
      "2     2.98\n",
      "3     2.91\n",
      "4     2.53\n",
      "...    ...\n",
      "1077  2.93\n",
      "1078  2.91\n",
      "1079  2.96\n",
      "1080  3.09\n",
      "1081  2.96\n",
      "\n",
      "[1082 rows x 1 columns]\n",
      "///////// get_df_end /////////\n",
      "///////// get_cols_and_names /////////\n",
      "df.shift(4).shape:  (1082, 1) type:  <class 'pandas.core.frame.DataFrame'>\n",
      "df.shift(3).shape:  (1082, 1) type:  <class 'pandas.core.frame.DataFrame'>\n",
      "df.shift(2).shape:  (1082, 1) type:  <class 'pandas.core.frame.DataFrame'>\n",
      "df.shift(1).shape:  (1082, 1) type:  <class 'pandas.core.frame.DataFrame'>\n",
      "///////// Next loop /////////\n",
      "df.shift(0).shape:  (1082, 1) type:  <class 'pandas.core.frame.DataFrame'>\n",
      "///////// get_cols_and_names_end /////////\n",
      "///////// prepare_df /////////\n",
      "n_df:           4     3     2     1     5\n",
      "0      NaN   NaN   NaN   NaN  3.79\n",
      "1      NaN   NaN   NaN  3.79  4.19\n",
      "2      NaN   NaN  3.79  4.19  2.98\n",
      "3      NaN  3.79  4.19  2.98  2.91\n",
      "4     3.79  4.19  2.98  2.91  2.53\n",
      "...    ...   ...   ...   ...   ...\n",
      "1077  2.80  2.85  2.95  2.97  2.93\n",
      "1078  2.85  2.95  2.97  2.93  2.91\n",
      "1079  2.95  2.97  2.93  2.91  2.96\n",
      "1080  2.97  2.93  2.91  2.96  3.09\n",
      "1081  2.93  2.91  2.96  3.09  2.96\n",
      "\n",
      "[1082 rows x 5 columns]\n",
      "n_df:           4     3     2     1     5\n",
      "4     3.79  4.19  2.98  2.91  2.53\n",
      "5     4.19  2.98  2.91  2.53  2.30\n",
      "6     2.98  2.91  2.53  2.30  1.91\n",
      "7     2.91  2.53  2.30  1.91  1.82\n",
      "8     2.53  2.30  1.91  1.82  1.86\n",
      "...    ...   ...   ...   ...   ...\n",
      "1077  2.80  2.85  2.95  2.97  2.93\n",
      "1078  2.85  2.95  2.97  2.93  2.91\n",
      "1079  2.95  2.97  2.93  2.91  2.96\n",
      "1080  2.97  2.93  2.91  2.96  3.09\n",
      "1081  2.93  2.91  2.96  3.09  2.96\n",
      "\n",
      "[1073 rows x 5 columns]\n",
      "///////// prepare_df_end /////////\n",
      "///////// prep_data_4_1_time /////////\n",
      "X:               4         3         2         1\n",
      "4     0.261560  0.289165  0.205659  0.200828\n",
      "5     0.289165  0.205659  0.200828  0.174603\n",
      "6     0.205659  0.200828  0.174603  0.158730\n",
      "7     0.200828  0.174603  0.158730  0.131815\n",
      "8     0.174603  0.158730  0.131815  0.125604\n",
      "...        ...       ...       ...       ...\n",
      "1077  0.193237  0.196687  0.203589  0.204969\n",
      "1078  0.196687  0.203589  0.204969  0.202208\n",
      "1079  0.203589  0.204969  0.202208  0.200828\n",
      "1080  0.204969  0.202208  0.200828  0.204279\n",
      "1081  0.202208  0.200828  0.204279  0.213251\n",
      "\n",
      "[1073 rows x 4 columns]\n",
      "Y:  [0.17460317 0.15873016 0.13181504 ... 0.20427881 0.21325052 0.20427881]\n",
      "///////// prep_data_4_1_time_end /////////\n"
     ]
    }
   ],
   "source": [
    "# подготовка данных\n",
    "\n",
    "# извлечь датасет из файла\n",
    "df = get_df(path_to_data[0], target)\n",
    "# заполнить колонки и имена колонок для тестового датасета\n",
    "cols, names = get_cols_and_names(df)\n",
    "# создать тестовый/тренировочный датасет\n",
    "prepared_df = prepare_df(cols,names)\n",
    "# создать тестовые/тренировочные данные из тестового датасета\n",
    "prepared_data = prep_data_4_1_time(cols, names, prepared_df)\n",
    "\n",
    "X_train,Y_train,X_test,Y_test = prepared_data"
   ]
  },
  {
   "cell_type": "code",
   "execution_count": 14,
   "id": "26b44883",
   "metadata": {},
   "outputs": [
    {
     "name": "stdout",
     "output_type": "stream",
     "text": [
      "WARNING:tensorflow:Layer dense is casting an input tensor from dtype float64 to the layer's dtype of float32, which is new behavior in TensorFlow 2.  The layer has dtype float32 because its dtype defaults to floatx.\n",
      "\n",
      "If you intended to run this layer in float32, you can safely ignore this warning. If in doubt, this warning is likely only an issue if you are porting a TensorFlow 1.X model to TensorFlow 2.\n",
      "\n",
      "To change all layers to have dtype float64 by default, call `tf.keras.backend.set_floatx('float64')`. To change just this layer, pass dtype='float64' to the layer constructor. If you are the author of this layer, you can disable autocasting by passing autocast=False to the base Layer constructor.\n",
      "\n",
      " 1/53 [..............................] - ETA: 0s - loss: 0.1638WARNING:tensorflow:Callbacks method `on_test_batch_end` is slow compared to the batch time (batch time: 0.0000s vs `on_test_batch_end` time: 0.0010s). Check your callbacks.\n",
      "53/53 [==============================] - 0s 2ms/step - loss: 0.0266 - val_loss: 0.0023\n"
     ]
    }
   ],
   "source": [
    "# тренировка модели\n",
    "history = model.fit(X_train, Y_train, batch_size = cur_batch_size, \n",
    "                    epochs = cur_epochs, verbose = cur_verbose, \n",
    "                    validation_split = cur_validation_split, \n",
    "                    shuffle = cur_shuffle, callbacks = callback)"
   ]
  },
  {
   "cell_type": "code",
   "execution_count": 15,
   "id": "f1e53de1",
   "metadata": {},
   "outputs": [
    {
     "name": "stdout",
     "output_type": "stream",
     "text": [
      "17/17 [==============================] - 0s 294us/step - loss: 0.0030\n"
     ]
    },
    {
     "data": {
      "text/plain": [
       "0.0030073930975049734"
      ]
     },
     "execution_count": 15,
     "metadata": {},
     "output_type": "execute_result"
    }
   ],
   "source": [
    "# тест модели\n",
    "model.evaluate(X_test, Y_test, batch_size = cur_batch_size)"
   ]
  },
  {
   "cell_type": "code",
   "execution_count": null,
   "id": "e9cacc0d",
   "metadata": {},
   "outputs": [],
   "source": []
  }
 ],
 "metadata": {
  "kernelspec": {
   "display_name": "Python 3 (ipykernel)",
   "language": "python",
   "name": "python3"
  },
  "language_info": {
   "codemirror_mode": {
    "name": "ipython",
    "version": 3
   },
   "file_extension": ".py",
   "mimetype": "text/x-python",
   "name": "python",
   "nbconvert_exporter": "python",
   "pygments_lexer": "ipython3",
   "version": "3.8.12"
  }
 },
 "nbformat": 4,
 "nbformat_minor": 5
}
