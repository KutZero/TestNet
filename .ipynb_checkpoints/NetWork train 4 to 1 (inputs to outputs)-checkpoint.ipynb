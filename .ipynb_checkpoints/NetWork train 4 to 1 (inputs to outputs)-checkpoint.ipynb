{
 "cells": [
  {
   "cell_type": "code",
   "execution_count": 1,
   "id": "023e5ace",
   "metadata": {},
   "outputs": [],
   "source": [
    "import numpy as np\n",
    "import pandas as pd\n",
    "import tensorflow as tf\n",
    "import matplotlib.pyplot as plt\n",
    "\n",
    "from tensorflow import keras\n",
    "from tensorflow.keras.layers import Dense\n",
    "\n",
    "# детерминация случайных величин, отвечающих за выбор первоначальных весов и биасов\n",
    "tf.compat.v1.set_random_seed(290)\n",
    "tf.random.set_seed(290)"
   ]
  },
  {
   "cell_type": "code",
   "execution_count": 2,
   "id": "9eeb34ff",
   "metadata": {},
   "outputs": [],
   "source": [
    "# всякие константы для последующей работы\n",
    "\n",
    "#///////////////////////////////// для взятия данных из файлов\n",
    "\n",
    "path_to_data = 'ngp.csv' # путь к файлу, из которого берутся данные для обучения\n",
    "target = 'price' # название взятой величины из файла\n",
    "\n",
    "#///////////////////////////////// для создания слоев\n",
    "\n",
    "CRT_hidden_layer_act_fun = 'relu'   # функция активация скрытых слоев и входного\n",
    "CRT_output_layer_act_fun = 'sigmoid' # функция активация выходного слоя\n",
    "\n",
    "CRT_dict = {4: CRT_hidden_layer_act_fun, \n",
    "            400: CRT_hidden_layer_act_fun,\n",
    "            20: CRT_hidden_layer_act_fun,\n",
    "            1: CRT_output_layer_act_fun} # size(layer) plus activation func\n",
    "\n",
    "#///////////////////////////////// для компиляции \n",
    "\n",
    "CMP_learning_rate = 0.00005 # шаг сходимости back propogation\n",
    "CMP_solver = keras.optimizers.Adam(CMP_learning_rate) # оптимизатор\n",
    "CMP_loss_func = 'mean_squared_error'# функция потерь\n",
    "\n",
    "#///////////////////////////////// для колбэков\n",
    "\n",
    "    # для Early_stopping\n",
    "ES_patience = 15 # кол-во эпох без улучшений\n",
    "ES_min_delta = 0.0001 # минимальное улучшение параметра за cur_patience\n",
    "ES_monitor_parametr =  'loss' # отслеживаемый параметр \n",
    "ES_save_best_weights = True # сохранять ли веса нейронки с лучшими результатами\n",
    "    \n",
    "    # для ReduceLROnPlateau\n",
    "RLPOP_monitor_parametr = 'val_loss'  # отслеживаемый параметр \n",
    "RLPOP_factor = 0.1 # множитель для расчета нового шага сходимости (new_learning_rate = old_learning_rate*RLPOP_factor)\n",
    "RLPOP_patience = 10 # кол-во эпох без улучшений\n",
    "RLPOP_verbose = 1 # выводить ли прогресс изменения шага сходимости в его процессее\n",
    "RLPOP_mode = 'auto' # выбирает, уменьшать шаг сходимости при росте величины или при её уменьшении\n",
    "RLPOP_min_delta = 0.0001 # порог изменения отслеживаемого значения\n",
    "RLPOP_cooldown = 0 # количество эпох до возобновления работы после изменения шага сходимости\n",
    "RLPOP_min_lr = 0 # минимальное значение шага сходимости\n",
    "\n",
    "    # для CallbackList\n",
    "CBL_add_history = True # вызывать ли колбэк History (если он не был довавлен вручную)\n",
    "CBL_add_progbar = True # вызывать ли колбэк ProgbarLogger (если он не был довавлен вручную)\n",
    "    \n",
    "#///////////////////////////////// для тренировки\n",
    "\n",
    "FIT_batch_size = 4 #13, 4 # размер bach при обучении/тестировании\n",
    "FIT_shuffle = True # перемешивать ли данные\n",
    "FIT_verbose = True # выводить ли прогресс обучения в его процессее\n",
    "FIT_epochs = 50 # количество эпох обучения\n",
    "FIT_validation_split = 0.2 # процент валидационных данных, отсекаемых из тестовой выборки"
   ]
  },
  {
   "cell_type": "code",
   "execution_count": 3,
   "id": "62055c23",
   "metadata": {},
   "outputs": [],
   "source": [
    "# извлечь датасет из файла\n",
    "def get_df(path, target_name):\n",
    "    file = pd.read_csv(path)\n",
    "    dframe = pd.DataFrame(list(reversed(file[target_name])))\n",
    "    return dframe"
   ]
  },
  {
   "cell_type": "code",
   "execution_count": 4,
   "id": "ca89a959",
   "metadata": {},
   "outputs": [],
   "source": [
    "# заполнить колонки и имена колонок для тестового датасета\n",
    "def get_cols_and_names(df):\n",
    "    input_t = 4\n",
    "    output_t = 1\n",
    "    \n",
    "    cols = list()\n",
    "    names = list()\n",
    "    \n",
    "    for i in range(input_t,0, -1):\n",
    "        cols.append(df.shift(i))\n",
    "        names.append(i)\n",
    "    for i in range(0,output_t):\n",
    "        cols.append(df.shift(-i))                    \n",
    "        names.append(i+input_t+1)\n",
    "    return cols,names"
   ]
  },
  {
   "cell_type": "code",
   "execution_count": 5,
   "id": "3d2fa36d",
   "metadata": {},
   "outputs": [],
   "source": [
    "# разбиение данных на тестовые и тренировочные\n",
    "def split(X,Y,factor):\n",
    "    X_train=X[:factor]\n",
    "    Y_train=Y[:factor]\n",
    "    X_test=X[factor:]\n",
    "    Y_test=Y[factor:]\n",
    "    return X_train,Y_train,X_test,Y_test"
   ]
  },
  {
   "cell_type": "code",
   "execution_count": 6,
   "id": "2bbd49b1",
   "metadata": {},
   "outputs": [],
   "source": [
    "# подготовить датасет из файла\n",
    "def prepare_df(cols,names):\n",
    "    n_df = pd.concat(cols, axis = 1)\n",
    "    n_df.columns = names\n",
    "    n_df.dropna(inplace = True)\n",
    "    return n_df"
   ]
  },
  {
   "cell_type": "code",
   "execution_count": 7,
   "id": "d86bb2ed",
   "metadata": {},
   "outputs": [],
   "source": [
    "#подготовить данные к разбиению на тестовые и тренировочные\n",
    "def prep_data_4_1_time(cols, names, prepared_df):\n",
    "    X = prepared_df[[4, 3, 2, 1]]\n",
    "    Y = prepared_df[5]\n",
    "    X = X / X.max()\n",
    "    Y = np.asarray(Y)\n",
    "    Y = Y / Y.max()\n",
    "    \n",
    "    factor = int(.80*X.shape[0])\n",
    "\n",
    "    return split(X ,Y , factor)"
   ]
  },
  {
   "cell_type": "code",
   "execution_count": 8,
   "id": "3537ab9e",
   "metadata": {},
   "outputs": [],
   "source": [
    "# создание архитектуры нейронки\n",
    "model = keras.Sequential()\n",
    "\n",
    "for x in CRT_dict.items():\n",
    "    model.add(Dense(x[0], activation = x[1]))\n",
    "    \n",
    "model.compile(loss = CMP_loss_func, optimizer = CMP_solver)"
   ]
  },
  {
   "cell_type": "code",
   "execution_count": 9,
   "id": "99b46025",
   "metadata": {},
   "outputs": [],
   "source": [
    "# Создание и настройка колбэков\n",
    "callback_list = [] # массив колбэков до подачи в колбек \"callbacklist\"\n",
    "\n",
    "temp = keras.callbacks.EarlyStopping(\n",
    "            monitor = ES_monitor_parametr, \n",
    "            min_delta = ES_min_delta, \n",
    "            patience = ES_patience,\n",
    "            restore_best_weights = ES_save_best_weights\n",
    "            )\n",
    "callback_list.append(temp)\n",
    "\n",
    "temp = keras.callbacks.ReduceLROnPlateau(\n",
    "            monitor = RLPOP_monitor_parametr, \n",
    "            factor = RLPOP_factor, \n",
    "            patience = RLPOP_patience, \n",
    "            verbose = RLPOP_verbose,\n",
    "            mode = RLPOP_mode, \n",
    "            min_delta = RLPOP_min_delta, \n",
    "            cooldown = RLPOP_cooldown, \n",
    "            min_lr = RLPOP_min_lr\n",
    "            )\n",
    "callback_list.append(temp)\n",
    "\n",
    "FIT_callback_list = keras.callbacks.CallbackList(\n",
    "            callbacks = callback_list, \n",
    "            add_history = CBL_add_history, \n",
    "            add_progbar = CBL_add_progbar, \n",
    "            model = model\n",
    "            )"
   ]
  },
  {
   "cell_type": "code",
   "execution_count": 10,
   "id": "12d39bfc",
   "metadata": {},
   "outputs": [],
   "source": [
    "# подготовка данных\n",
    "\n",
    "# извлечь датасет из файла\n",
    "df = get_df(path_to_data, target)\n",
    "\n",
    "# заполнить колонки и имена колонок для тестового датасета\n",
    "cols, names = get_cols_and_names(df)\n",
    "\n",
    "# создать тестовый/тренировочный датасет\n",
    "prepared_df = prepare_df(cols,names)\n",
    "\n",
    "# создать тестовые/тренировочные данные из тестового датасета\n",
    "prepared_data = prep_data_4_1_time(cols, names, prepared_df)\n",
    "\n",
    "X_train,Y_train,X_test,Y_test = prepared_data"
   ]
  },
  {
   "cell_type": "code",
   "execution_count": 11,
   "id": "26b44883",
   "metadata": {},
   "outputs": [
    {
     "name": "stdout",
     "output_type": "stream",
     "text": [
      "WARNING:tensorflow:Layer dense is casting an input tensor from dtype float64 to the layer's dtype of float32, which is new behavior in TensorFlow 2.  The layer has dtype float32 because its dtype defaults to floatx.\n",
      "\n",
      "If you intended to run this layer in float32, you can safely ignore this warning. If in doubt, this warning is likely only an issue if you are porting a TensorFlow 1.X model to TensorFlow 2.\n",
      "\n",
      "To change all layers to have dtype float64 by default, call `tf.keras.backend.set_floatx('float64')`. To change just this layer, pass dtype='float64' to the layer constructor. If you are the author of this layer, you can disable autocasting by passing autocast=False to the base Layer constructor.\n",
      "\n",
      "172/172 [==============================] - 0s 813us/step - loss: 0.0487 - val_loss: 0.0470\n",
      "172/172 [==============================] - 0s 423us/step - loss: 0.0422 - val_loss: 0.0360\n",
      "172/172 [==============================] - 0s 426us/step - loss: 0.0374 - val_loss: 0.0286\n",
      "172/172 [==============================] - 0s 414us/step - loss: 0.0333 - val_loss: 0.0241\n",
      "172/172 [==============================] - 0s 419us/step - loss: 0.0291 - val_loss: 0.0205\n",
      "172/172 [==============================] - 0s 448us/step - loss: 0.0247 - val_loss: 0.0174\n",
      "172/172 [==============================] - 0s 448us/step - loss: 0.0203 - val_loss: 0.0136\n",
      "172/172 [==============================] - 0s 348us/step - loss: 0.0161 - val_loss: 0.0103\n",
      "172/172 [==============================] - 0s 406us/step - loss: 0.0122 - val_loss: 0.0082\n",
      "172/172 [==============================] - 0s 448us/step - loss: 0.0091 - val_loss: 0.0060\n",
      "172/172 [==============================] - 0s 449us/step - loss: 0.0067 - val_loss: 0.0035\n",
      "172/172 [==============================] - 0s 413us/step - loss: 0.0050 - val_loss: 0.0026\n",
      "172/172 [==============================] - 0s 413us/step - loss: 0.0038 - val_loss: 0.0012\n",
      "172/172 [==============================] - 0s 399us/step - loss: 0.0031 - val_loss: 0.0012\n",
      "172/172 [==============================] - 0s 414us/step - loss: 0.0026 - val_loss: 6.6836e-04\n",
      "172/172 [==============================] - 0s 446us/step - loss: 0.0024 - val_loss: 4.4192e-04\n",
      "172/172 [==============================] - 0s 407us/step - loss: 0.0022 - val_loss: 3.6708e-04\n",
      "172/172 [==============================] - 0s 402us/step - loss: 0.0021 - val_loss: 3.8968e-04\n",
      "172/172 [==============================] - 0s 405us/step - loss: 0.0020 - val_loss: 3.0396e-04\n",
      "172/172 [==============================] - 0s 407us/step - loss: 0.0019 - val_loss: 3.1177e-04\n",
      "172/172 [==============================] - 0s 414us/step - loss: 0.0019 - val_loss: 2.7887e-04\n",
      "172/172 [==============================] - 0s 408us/step - loss: 0.0019 - val_loss: 2.7584e-04\n",
      "172/172 [==============================] - 0s 406us/step - loss: 0.0019 - val_loss: 2.6441e-04\n",
      "172/172 [==============================] - 0s 422us/step - loss: 0.0019 - val_loss: 2.6658e-04\n",
      "172/172 [==============================] - 0s 364us/step - loss: 0.0018 - val_loss: 2.6350e-04\n",
      "172/172 [==============================] - 0s 443us/step - loss: 0.0018 - val_loss: 2.5813e-04\n",
      "172/172 [==============================] - 0s 365us/step - loss: 0.0018 - val_loss: 3.2499e-04\n",
      "172/172 [==============================] - 0s 447us/step - loss: 0.0018 - val_loss: 2.8794e-04\n",
      "166/172 [===========================>..] - ETA: 0s - loss: 0.0018\n",
      "Epoch 00029: ReduceLROnPlateau reducing learning rate to 4.999999873689376e-06.\n",
      "172/172 [==============================] - 0s 402us/step - loss: 0.0018 - val_loss: 2.6673e-04\n",
      "172/172 [==============================] - 0s 407us/step - loss: 0.0018 - val_loss: 2.5947e-04\n",
      "172/172 [==============================] - 0s 403us/step - loss: 0.0018 - val_loss: 2.5969e-04\n",
      "172/172 [==============================] - 0s 399us/step - loss: 0.0018 - val_loss: 2.5981e-04\n",
      "172/172 [==============================] - 0s 411us/step - loss: 0.0018 - val_loss: 2.6151e-04\n",
      "172/172 [==============================] - 0s 397us/step - loss: 0.0018 - val_loss: 2.5952e-04\n",
      "172/172 [==============================] - 0s 392us/step - loss: 0.0018 - val_loss: 2.6033e-04\n",
      "172/172 [==============================] - 0s 349us/step - loss: 0.0018 - val_loss: 2.5871e-04\n",
      "172/172 [==============================] - 0s 407us/step - loss: 0.0018 - val_loss: 2.5848e-04\n",
      "172/172 [==============================] - 0s 453us/step - loss: 0.0018 - val_loss: 2.5958e-04\n",
      "159/172 [==========================>...] - ETA: 0s - loss: 0.0016\n",
      "Epoch 00039: ReduceLROnPlateau reducing learning rate to 4.999999873689376e-07.\n",
      "172/172 [==============================] - 0s 408us/step - loss: 0.0018 - val_loss: 2.5829e-04\n",
      "172/172 [==============================] - 0s 411us/step - loss: 0.0018 - val_loss: 2.5841e-04\n",
      "172/172 [==============================] - 0s 413us/step - loss: 0.0018 - val_loss: 2.5848e-04\n",
      "172/172 [==============================] - 0s 407us/step - loss: 0.0018 - val_loss: 2.5880e-04\n",
      "172/172 [==============================] - 0s 396us/step - loss: 0.0018 - val_loss: 2.5896e-04\n",
      "172/172 [==============================] - 0s 405us/step - loss: 0.0018 - val_loss: 2.5911e-04\n",
      "172/172 [==============================] - 0s 403us/step - loss: 0.0018 - val_loss: 2.5925e-04\n"
     ]
    }
   ],
   "source": [
    "# тренировка модели\n",
    "history = model.fit(X_train, \n",
    "                    Y_train, \n",
    "                    batch_size = FIT_batch_size, \n",
    "                    epochs = FIT_epochs, \n",
    "                    verbose = FIT_verbose, \n",
    "                    validation_split = FIT_validation_split, \n",
    "                    shuffle = FIT_shuffle, \n",
    "                    callbacks = FIT_callback_list)"
   ]
  },
  {
   "cell_type": "code",
   "execution_count": 12,
   "id": "9a6c1b04",
   "metadata": {},
   "outputs": [
    {
     "data": {
      "image/png": "[encoded data removed]",
      "text/plain": [
       "<Figure size 432x288 with 1 Axes>"
      ]
     },
     "metadata": {
      "needs_background": "light"
     },
     "output_type": "display_data"
    }
   ],
   "source": [
    "# Вывод графика изменения ошибки\n",
    "plt.plot(history.history['loss'])\n",
    "plt.plot(history.history['val_loss'])\n",
    "plt.title('model loss')\n",
    "plt.ylabel('loss')\n",
    "plt.xlabel('epoch')\n",
    "plt.legend(['train', 'val'], loc = 'upper left')\n",
    "plt.show()"
   ]
  },
  {
   "cell_type": "code",
   "execution_count": 13,
   "id": "f1e53de1",
   "metadata": {},
   "outputs": [
    {
     "name": "stdout",
     "output_type": "stream",
     "text": [
      "54/54 [==============================] - 0s 372us/step - loss: 4.5868e-04\n"
     ]
    },
    {
     "data": {
      "text/plain": [
       "0.00045867630979046226"
      ]
     },
     "execution_count": 13,
     "metadata": {},
     "output_type": "execute_result"
    }
   ],
   "source": [
    "# тест модели\n",
    "\n",
    "model.evaluate(X_test, Y_test, batch_size = FIT_batch_size)"
   ]
  }
 ],
 "metadata": {
  "kernelspec": {
   "display_name": "Python 3 (ipykernel)",
   "language": "python",
   "name": "python3"
  },
  "language_info": {
   "codemirror_mode": {
    "name": "ipython",
    "version": 3
   },
   "file_extension": ".py",
   "mimetype": "text/x-python",
   "name": "python",
   "nbconvert_exporter": "python",
   "pygments_lexer": "ipython3",
   "version": "3.8.12"
  }
 },
 "nbformat": 4,
 "nbformat_minor": 5
}
