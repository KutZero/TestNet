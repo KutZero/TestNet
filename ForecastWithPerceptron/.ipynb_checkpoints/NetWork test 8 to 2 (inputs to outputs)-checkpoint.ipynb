{
 "cells": [
  {
   "cell_type": "code",
   "execution_count": 1,
   "id": "023e5ace",
   "metadata": {},
   "outputs": [],
   "source": [
    "import numpy as np\n",
    "import pandas as pd\n",
    "import tensorflow as tf\n",
    "import matplotlib.pyplot as plt\n",
    "from tensorflow import keras\n",
    "from tensorflow.keras.layers import Dense"
   ]
  },
  {
   "cell_type": "code",
   "execution_count": 2,
   "id": "a290010a",
   "metadata": {},
   "outputs": [],
   "source": [
    "# детерминация случайных величин, отвечающих за выбор первоначальных весов и биасов\n",
    "tf.compat.v1.set_random_seed(290)\n",
    "tf.random.set_seed(290)"
   ]
  },
  {
   "cell_type": "code",
   "execution_count": 3,
   "id": "2239a2c0",
   "metadata": {},
   "outputs": [],
   "source": [
    "path_to_data = 'timesereis_8_2.csv' # путь к файлу, из которого берутся данные для обучения\n",
    "\n",
    "FIT_batch_size = 4 #13, 4 # размер bach при обучении/тестировании"
   ]
  },
  {
   "cell_type": "code",
   "execution_count": 4,
   "id": "3d2fa36d",
   "metadata": {},
   "outputs": [],
   "source": [
    "# разделить данные на тренировочные и тестовые\n",
    "def split(X,Y,factor):\n",
    "    X_train=X[:factor]\n",
    "    Y_train=Y[:factor]\n",
    "    X_test=X[factor:]\n",
    "    Y_test=Y[factor:]\n",
    "    return X_train,Y_train,X_test,Y_test"
   ]
  },
  {
   "cell_type": "code",
   "execution_count": 5,
   "id": "746b5cc9",
   "metadata": {},
   "outputs": [],
   "source": [
    "# взять данные из файла\n",
    "def prep_data_8_2_time(path):\n",
    "    file = pd.read_csv(path)\n",
    "    \n",
    "    X = file[['0','1','2','3','4','5','6','7']]\n",
    "    X = X / X.max()\n",
    "    Y = file[['8','9']]\n",
    "    Y = Y / Y.max()\n",
    "    Y = np.asarray(Y)\n",
    "    \n",
    "    factor=int(.80 * X.shape[0])\n",
    "    \n",
    "    return split(X, Y, factor)"
   ]
  },
  {
   "cell_type": "code",
   "execution_count": 6,
   "id": "12d39bfc",
   "metadata": {},
   "outputs": [],
   "source": [
    "# подготовка данных\n",
    "\n",
    "X_train,Y_train,X_test,Y_test = prep_data_8_2_time(path_to_data)"
   ]
  },
  {
   "cell_type": "code",
   "execution_count": 7,
   "id": "de873f1e",
   "metadata": {},
   "outputs": [],
   "source": [
    "model = keras.models.load_model('NetWork_8_to_2')"
   ]
  },
  {
   "cell_type": "code",
   "execution_count": 8,
   "id": "f1e53de1",
   "metadata": {},
   "outputs": [
    {
     "name": "stdout",
     "output_type": "stream",
     "text": [
      " 1/54 [..............................] - ETA: 0s - loss: 1.2282e-04WARNING:tensorflow:Callbacks method `on_test_batch_end` is slow compared to the batch time (batch time: 0.0000s vs `on_test_batch_end` time: 0.0010s). Check your callbacks.\n",
      "54/54 [==============================] - 0s 389us/step - loss: 6.5647e-04\n"
     ]
    },
    {
     "data": {
      "text/plain": [
       "0.0006564731593243778"
      ]
     },
     "execution_count": 8,
     "metadata": {},
     "output_type": "execute_result"
    }
   ],
   "source": [
    "# тест модели\n",
    "model.evaluate(X_test, Y_test, batch_size = FIT_batch_size)"
   ]
  },
  {
   "cell_type": "code",
   "execution_count": 11,
   "id": "bd21cdec",
   "metadata": {},
   "outputs": [
    {
     "name": "stdout",
     "output_type": "stream",
     "text": [
      "(214, 8)\n",
      "(214, 2)\n",
      "<class 'pandas.core.frame.DataFrame'>\n",
      "<class 'numpy.ndarray'>\n"
     ]
    }
   ],
   "source": [
    "print(X_test.shape)\n",
    "print(Y_test.shape)\n",
    "\n",
    "print(type(X_test))\n",
    "print(type(Y_test))"
   ]
  },
  {
   "cell_type": "code",
   "execution_count": 28,
   "id": "05578a26",
   "metadata": {},
   "outputs": [
    {
     "name": "stdout",
     "output_type": "stream",
     "text": [
      "1 Time series: 0.2450 0.2409 0.2312 0.2291 0.2381 0.2533 0.2547 0.2526 \n",
      "Network's output: 0.2336 0.2408 \n",
      "Right answer:  0.2512 0.2409 \n",
      "Difference: 0.0176 0.0084 \n",
      "------------------------------\n",
      "2 Time series: 0.2512 0.2450 0.2409 0.2312 0.2291 0.2381 0.2533 0.2547 \n",
      "Network's output: 0.2411 0.2480 \n",
      "Right answer:  0.2491 0.2409 \n",
      "Difference: 0.0081 0.0080 \n",
      "------------------------------\n",
      "3 Time series: 0.2491 0.2512 0.2450 0.2409 0.2312 0.2291 0.2381 0.2533 \n",
      "Network's output: 0.2444 0.2512 \n",
      "Right answer:  0.2560 0.2409 \n",
      "Difference: 0.0116 0.0062 \n",
      "------------------------------\n",
      "4 Time series: 0.2560 0.2491 0.2512 0.2450 0.2409 0.2312 0.2291 0.2381 \n",
      "Network's output: 0.2484 0.2550 \n",
      "Right answer:  0.2450 0.2409 \n",
      "Difference: 0.0034 0.0093 \n",
      "------------------------------\n"
     ]
    }
   ],
   "source": [
    "# вывести пару результатов работы\n",
    "x = 0\n",
    "for i, row in X_test.iterrows():\n",
    "    if x > 2:\n",
    "        a = pd.DataFrame([row])\n",
    "        res = model.predict(a)  \n",
    "        print((f\"{x-2} Time series: %.4f \" % row[7]) + (\"%.4f \" % row[6]) + (\"%.4f \" % row[5]) + (\"%.4f \" % row[4]) +\n",
    "              (\"%.4f \" % row[3]) + (\"%.4f \" % row[2]) + (\"%.4f \" % row[1]) +(\"%.4f \" % row[0]))\n",
    "        print(\"Network's output: %.4f \" %  res[0,0] + \"%.4f \" % res[0,1])\n",
    "        print(\"Right answer:  %.4f \" % Y_test[x,0] + \"%.4f \" % Y_test[0,1])\n",
    "        print(\"Difference: %.4f \" % abs(Y_test[x,0] - res[0,0]) + \"%.4f \" % abs(Y_test[x,1] - res[0,1]))\n",
    "        print(\"------------------------------\")\n",
    "    x+=1\n",
    "    if x > 6:\n",
    "        break\n"
   ]
  },
  {
   "cell_type": "code",
   "execution_count": null,
   "id": "694fe979",
   "metadata": {},
   "outputs": [],
   "source": []
  }
 ],
 "metadata": {
  "kernelspec": {
   "display_name": "Python 3 (ipykernel)",
   "language": "python",
   "name": "python3"
  },
  "language_info": {
   "codemirror_mode": {
    "name": "ipython",
    "version": 3
   },
   "file_extension": ".py",
   "mimetype": "text/x-python",
   "name": "python",
   "nbconvert_exporter": "python",
   "pygments_lexer": "ipython3",
   "version": "3.8.12"
  }
 },
 "nbformat": 4,
 "nbformat_minor": 5
}
