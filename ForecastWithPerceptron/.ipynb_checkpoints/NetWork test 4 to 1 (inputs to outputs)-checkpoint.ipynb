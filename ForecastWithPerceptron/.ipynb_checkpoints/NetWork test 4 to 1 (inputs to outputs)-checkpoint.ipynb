{
 "cells": [
  {
   "cell_type": "code",
   "execution_count": 1,
   "id": "023e5ace",
   "metadata": {},
   "outputs": [],
   "source": [
    "import numpy as np\n",
    "import pandas as pd\n",
    "import tensorflow as tf\n",
    "import matplotlib.pyplot as plt\n",
    "from tensorflow import keras\n",
    "from tensorflow.keras.layers import Dense\n"
   ]
  },
  {
   "cell_type": "code",
   "execution_count": 2,
   "id": "05e07b29",
   "metadata": {},
   "outputs": [],
   "source": [
    "# детерминация случайных величин, отвечающих за выбор первоначальных весов и биасов\n",
    "tf.compat.v1.set_random_seed(290)\n",
    "tf.random.set_seed(290)"
   ]
  },
  {
   "cell_type": "code",
   "execution_count": 3,
   "id": "e06d8f78",
   "metadata": {},
   "outputs": [],
   "source": [
    "path_to_data = 'ngp.csv' # путь к файлу, из которого берутся данные для обучения\n",
    "target = 'price' # название взятой величины из файла\n",
    "FIT_batch_size = 4 #13, 4 # размер bach при обучении/тестировании"
   ]
  },
  {
   "cell_type": "code",
   "execution_count": 4,
   "id": "62055c23",
   "metadata": {},
   "outputs": [],
   "source": [
    "# извлечь датасет из файла\n",
    "def get_df(path, target_name):\n",
    "    file = pd.read_csv(path)\n",
    "    dframe = pd.DataFrame(list(reversed(file[target_name])))\n",
    "    return dframe"
   ]
  },
  {
   "cell_type": "code",
   "execution_count": 5,
   "id": "ca89a959",
   "metadata": {},
   "outputs": [],
   "source": [
    "# заполнить колонки и имена колонок для тестового датасета\n",
    "def get_cols_and_names(df):\n",
    "    input_t = 4\n",
    "    output_t = 1\n",
    "    \n",
    "    cols = list()\n",
    "    names = list()\n",
    "    \n",
    "    for i in range(input_t,0, -1):\n",
    "        cols.append(df.shift(i))\n",
    "        names.append(i)\n",
    "    for i in range(0,output_t):\n",
    "        cols.append(df.shift(-i))                    \n",
    "        names.append(i+input_t+1)\n",
    "    return cols,names"
   ]
  },
  {
   "cell_type": "code",
   "execution_count": 6,
   "id": "3d2fa36d",
   "metadata": {},
   "outputs": [],
   "source": [
    "# разбиение данных на тестовые и тренировочные\n",
    "def split(X,Y,factor):\n",
    "    X_train=X[:factor]\n",
    "    Y_train=Y[:factor]\n",
    "    X_test=X[factor:]\n",
    "    Y_test=Y[factor:]\n",
    "    return X_train,Y_train,X_test,Y_test"
   ]
  },
  {
   "cell_type": "code",
   "execution_count": 7,
   "id": "2bbd49b1",
   "metadata": {},
   "outputs": [],
   "source": [
    "# подготовить датасет из файла\n",
    "def prepare_df(cols,names):\n",
    "    n_df = pd.concat(cols, axis = 1)\n",
    "    n_df.columns = names\n",
    "    n_df.dropna(inplace = True)\n",
    "    return n_df"
   ]
  },
  {
   "cell_type": "code",
   "execution_count": 8,
   "id": "d86bb2ed",
   "metadata": {},
   "outputs": [],
   "source": [
    "#подготовить данные к разбиению на тестовые и тренировочные\n",
    "def prep_data_4_1_time(cols, names, prepared_df):\n",
    "    X = prepared_df[[4, 3, 2, 1]]\n",
    "    Y = prepared_df[5]\n",
    "    X = X / X.max()\n",
    "    Y = np.asarray(Y)\n",
    "    Y = Y / Y.max()\n",
    "    \n",
    "    factor = int(.80*X.shape[0])\n",
    "\n",
    "    return split(X ,Y , factor)"
   ]
  },
  {
   "cell_type": "code",
   "execution_count": 9,
   "id": "12d39bfc",
   "metadata": {},
   "outputs": [],
   "source": [
    "# подготовка данных\n",
    "\n",
    "# извлечь датасет из файла\n",
    "df = get_df(path_to_data, target)\n",
    "\n",
    "# заполнить колонки и имена колонок для тестового датасета\n",
    "cols, names = get_cols_and_names(df)\n",
    "\n",
    "# создать тестовый/тренировочный датасет\n",
    "prepared_df = prepare_df(cols,names)\n",
    "\n",
    "# создать тестовые/тренировочные данные из тестового датасета\n",
    "prepared_data = prep_data_4_1_time(cols, names, prepared_df)\n",
    "\n",
    "X_train,Y_train,X_test,Y_test = prepared_data"
   ]
  },
  {
   "cell_type": "code",
   "execution_count": 10,
   "id": "cbaa42fd",
   "metadata": {},
   "outputs": [],
   "source": [
    "model = keras.models.load_model('NetWork_4_to_1')"
   ]
  },
  {
   "cell_type": "code",
   "execution_count": 21,
   "id": "dc72e41e",
   "metadata": {},
   "outputs": [
    {
     "name": "stdout",
     "output_type": "stream",
     "text": [
      "(215, 4)\n",
      "(215,)\n"
     ]
    }
   ],
   "source": [
    "#print(type(X_test))\n",
    "#for i, row in X_test.iterrows():\n",
    " #   print(f\"Index: {i}\")\n",
    "#    print(f\"{row}\\n\")\n",
    "print(X_test.shape)\n",
    "print(Y_test.shape)"
   ]
  },
  {
   "cell_type": "code",
   "execution_count": 12,
   "id": "f1e53de1",
   "metadata": {},
   "outputs": [
    {
     "name": "stdout",
     "output_type": "stream",
     "text": [
      "54/54 [==============================] - 0s 278us/step - loss: 4.5868e-04\n"
     ]
    },
    {
     "data": {
      "text/plain": [
       "0.00045867630979046226"
      ]
     },
     "execution_count": 12,
     "metadata": {},
     "output_type": "execute_result"
    }
   ],
   "source": [
    "# тест модели\n",
    "\n",
    "model.evaluate(X_test, Y_test, batch_size = FIT_batch_size)"
   ]
  },
  {
   "cell_type": "code",
   "execution_count": 35,
   "id": "ef470ddf",
   "metadata": {},
   "outputs": [
    {
     "name": "stdout",
     "output_type": "stream",
     "text": [
      "1 Time series: 0.2291 0.2312 0.2409 0.2450 \n",
      "Network's output: 0.2417\n",
      "Right answer: 0.2512\n",
      "Difference: 0.0095\n",
      "------------------------------\n",
      "2 Time series: 0.2312 0.2409 0.2450 0.2512 \n",
      "Network's output: 0.2481\n",
      "Right answer: 0.2491\n",
      "Difference: 0.0011\n",
      "------------------------------\n",
      "3 Time series: 0.2409 0.2450 0.2512 0.2491 \n",
      "Network's output: 0.2479\n",
      "Right answer: 0.2560\n",
      "Difference: 0.0082\n",
      "------------------------------\n",
      "4 Time series: 0.2450 0.2512 0.2491 0.2560 \n",
      "Network's output: 0.2507\n",
      "Right answer: 0.2450\n",
      "Difference: 0.0057\n",
      "------------------------------\n"
     ]
    }
   ],
   "source": [
    "# вывести пару результатов работы\n",
    "x = 0\n",
    "for i, row in X_test.iterrows():\n",
    "    if x > 1:\n",
    "        a = pd.DataFrame([row])\n",
    "        res = model.predict(a)  \n",
    "        print((f\"{x-1} Time series: %.4f \" % row[4]) + (\"%.4f \" % row[3]) + (\"%.4f \" % row[2]) + (\"%.4f \" % row[1]))\n",
    "        print(\"Network's output: %.4f\" % res[0,0])\n",
    "        print(\"Right answer: %.4f\" % Y_test[x])\n",
    "        print(\"Difference: %.4f\" % abs(Y_test[x] - res[0,0]))\n",
    "        print(\"------------------------------\")\n",
    "    x+=1\n",
    "    if x > 5:\n",
    "        break\n"
   ]
  },
  {
   "cell_type": "code",
   "execution_count": null,
   "id": "f154e1ce",
   "metadata": {},
   "outputs": [],
   "source": []
  }
 ],
 "metadata": {
  "kernelspec": {
   "display_name": "Python 3 (ipykernel)",
   "language": "python",
   "name": "python3"
  },
  "language_info": {
   "codemirror_mode": {
    "name": "ipython",
    "version": 3
   },
   "file_extension": ".py",
   "mimetype": "text/x-python",
   "name": "python",
   "nbconvert_exporter": "python",
   "pygments_lexer": "ipython3",
   "version": "3.8.12"
  }
 },
 "nbformat": 4,
 "nbformat_minor": 5
}
