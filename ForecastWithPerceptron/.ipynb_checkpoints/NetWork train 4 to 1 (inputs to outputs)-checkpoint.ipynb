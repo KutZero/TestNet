{
 "cells": [
  {
   "cell_type": "code",
   "execution_count": 1,
   "id": "023e5ace",
   "metadata": {},
   "outputs": [],
   "source": [
    "import numpy as np\n",
    "import pandas as pd\n",
    "import tensorflow as tf\n",
    "import matplotlib.pyplot as plt\n",
    "from tensorflow import keras\n",
    "from tensorflow.keras.layers import Dense\n"
   ]
  },
  {
   "cell_type": "code",
   "execution_count": 2,
   "id": "05e07b29",
   "metadata": {},
   "outputs": [],
   "source": [
    "# детерминация случайных величин, отвечающих за выбор первоначальных весов и биасов\n",
    "tf.compat.v1.set_random_seed(290)\n",
    "tf.random.set_seed(290)"
   ]
  },
  {
   "cell_type": "code",
   "execution_count": 3,
   "id": "9eeb34ff",
   "metadata": {},
   "outputs": [],
   "source": [
    "# всякие константы для последующей работы\n",
    "\n",
    "#///////////////////////////////// для взятия данных из файлов\n",
    "\n",
    "path_to_data = 'ngp.csv' # путь к файлу, из которого берутся данные для обучения\n",
    "target = 'price' # название взятой величины из файла\n",
    "\n",
    "#///////////////////////////////// для создания слоев\n",
    "\n",
    "CRT_hidden_layer_act_fun = 'relu'   # функция активация скрытых слоев и входного\n",
    "CRT_output_layer_act_fun = 'sigmoid' # функция активация выходного слоя\n",
    "\n",
    "CRT_dict = {4: CRT_hidden_layer_act_fun, \n",
    "            400: CRT_hidden_layer_act_fun,\n",
    "            20: CRT_hidden_layer_act_fun,\n",
    "            1: CRT_output_layer_act_fun} # size(layer) plus activation func\n",
    "\n",
    "#///////////////////////////////// для компиляции \n",
    "\n",
    "CMP_learning_rate = 0.00005 # шаг сходимости back propogation\n",
    "CMP_solver = keras.optimizers.Adam(CMP_learning_rate) # оптимизатор\n",
    "CMP_loss_func = 'mean_squared_error'# функция потерь\n",
    "\n",
    "#///////////////////////////////// для колбэков\n",
    "\n",
    "    # для Early_stopping\n",
    "ES_patience = 15 # кол-во эпох без улучшений\n",
    "ES_min_delta = 0.0001 # минимальное улучшение параметра за cur_patience\n",
    "ES_monitor_parametr =  'loss' # отслеживаемый параметр \n",
    "ES_save_best_weights = True # сохранять ли веса нейронки с лучшими результатами\n",
    "    \n",
    "    # для ReduceLROnPlateau\n",
    "RLPOP_monitor_parametr = 'val_loss'  # отслеживаемый параметр \n",
    "RLPOP_factor = 0.1 # множитель для расчета нового шага сходимости (new_learning_rate = old_learning_rate*RLPOP_factor)\n",
    "RLPOP_patience = 10 # кол-во эпох без улучшений\n",
    "RLPOP_verbose = 1 # выводить ли прогресс изменения шага сходимости в его процессее\n",
    "RLPOP_mode = 'auto' # выбирает, уменьшать шаг сходимости при росте величины или при её уменьшении\n",
    "RLPOP_min_delta = 0.0001 # порог изменения отслеживаемого значения\n",
    "RLPOP_cooldown = 0 # количество эпох до возобновления работы после изменения шага сходимости\n",
    "RLPOP_min_lr = 0 # минимальное значение шага сходимости\n",
    "\n",
    "    # для CallbackList\n",
    "CBL_add_history = True # вызывать ли колбэк History (если он не был довавлен вручную)\n",
    "CBL_add_progbar = True # вызывать ли колбэк ProgbarLogger (если он не был довавлен вручную)\n",
    "    \n",
    "#///////////////////////////////// для тренировки\n",
    "\n",
    "FIT_batch_size = 4 #13, 4 # размер bach при обучении/тестировании\n",
    "FIT_shuffle = True # перемешивать ли данные\n",
    "FIT_verbose = True # выводить ли прогресс обучения в его процессее\n",
    "FIT_epochs = 50 # количество эпох обучения\n",
    "FIT_validation_split = 0.2 # процент валидационных данных, отсекаемых из тестовой выборки"
   ]
  },
  {
   "cell_type": "code",
   "execution_count": 4,
   "id": "62055c23",
   "metadata": {},
   "outputs": [],
   "source": [
    "# извлечь датасет из файла\n",
    "def get_df(path, target_name):\n",
    "    file = pd.read_csv(path)\n",
    "    dframe = pd.DataFrame(list(reversed(file[target_name])))\n",
    "    return dframe"
   ]
  },
  {
   "cell_type": "code",
   "execution_count": 5,
   "id": "ca89a959",
   "metadata": {},
   "outputs": [],
   "source": [
    "# заполнить колонки и имена колонок для тестового датасета\n",
    "def get_cols_and_names(df):\n",
    "    input_t = 4\n",
    "    output_t = 1\n",
    "    \n",
    "    cols = list()\n",
    "    names = list()\n",
    "    \n",
    "    for i in range(input_t,0, -1):\n",
    "        cols.append(df.shift(i))\n",
    "        names.append(i)\n",
    "    for i in range(0,output_t):\n",
    "        cols.append(df.shift(-i))                    \n",
    "        names.append(i+input_t+1)\n",
    "    return cols,names"
   ]
  },
  {
   "cell_type": "code",
   "execution_count": 6,
   "id": "3d2fa36d",
   "metadata": {},
   "outputs": [],
   "source": [
    "# разбиение данных на тестовые и тренировочные\n",
    "def split(X,Y,factor):\n",
    "    X_train=X[:factor]\n",
    "    Y_train=Y[:factor]\n",
    "    X_test=X[factor:]\n",
    "    Y_test=Y[factor:]\n",
    "    return X_train,Y_train,X_test,Y_test"
   ]
  },
  {
   "cell_type": "code",
   "execution_count": 7,
   "id": "2bbd49b1",
   "metadata": {},
   "outputs": [],
   "source": [
    "# подготовить датасет из файла\n",
    "def prepare_df(cols,names):\n",
    "    n_df = pd.concat(cols, axis = 1)\n",
    "    n_df.columns = names\n",
    "    n_df.dropna(inplace = True)\n",
    "    return n_df"
   ]
  },
  {
   "cell_type": "code",
   "execution_count": 8,
   "id": "d86bb2ed",
   "metadata": {},
   "outputs": [],
   "source": [
    "#подготовить данные к разбиению на тестовые и тренировочные\n",
    "def prep_data_4_1_time(cols, names, prepared_df):\n",
    "    X = prepared_df[[4, 3, 2, 1]]\n",
    "    Y = prepared_df[5]\n",
    "    X = X / X.max()\n",
    "    Y = np.asarray(Y)\n",
    "    Y = Y / Y.max()\n",
    "    \n",
    "    factor = int(.80*X.shape[0])\n",
    "\n",
    "    return split(X ,Y , factor)"
   ]
  },
  {
   "cell_type": "code",
   "execution_count": 9,
   "id": "3537ab9e",
   "metadata": {},
   "outputs": [],
   "source": [
    "# создание архитектуры нейронки\n",
    "model = keras.Sequential()\n",
    "\n",
    "for x in CRT_dict.items():\n",
    "    model.add(Dense(x[0], activation = x[1]))\n",
    "    \n",
    "model.compile(loss = CMP_loss_func, optimizer = CMP_solver)"
   ]
  },
  {
   "cell_type": "code",
   "execution_count": 10,
   "id": "99b46025",
   "metadata": {},
   "outputs": [],
   "source": [
    "# Создание и настройка колбэков\n",
    "callback_list = [] # массив колбэков до подачи в колбек \"callbacklist\"\n",
    "\n",
    "temp = keras.callbacks.EarlyStopping(\n",
    "            monitor = ES_monitor_parametr, \n",
    "            min_delta = ES_min_delta, \n",
    "            patience = ES_patience,\n",
    "            restore_best_weights = ES_save_best_weights\n",
    "            )\n",
    "callback_list.append(temp)\n",
    "\n",
    "temp = keras.callbacks.ReduceLROnPlateau(\n",
    "            monitor = RLPOP_monitor_parametr, \n",
    "            factor = RLPOP_factor, \n",
    "            patience = RLPOP_patience, \n",
    "            verbose = RLPOP_verbose,\n",
    "            mode = RLPOP_mode, \n",
    "            min_delta = RLPOP_min_delta, \n",
    "            cooldown = RLPOP_cooldown, \n",
    "            min_lr = RLPOP_min_lr\n",
    "            )\n",
    "callback_list.append(temp)\n",
    "\n",
    "FIT_callback_list = keras.callbacks.CallbackList(\n",
    "            callbacks = callback_list, \n",
    "            add_history = CBL_add_history, \n",
    "            add_progbar = CBL_add_progbar, \n",
    "            model = model\n",
    "            )"
   ]
  },
  {
   "cell_type": "code",
   "execution_count": 11,
   "id": "12d39bfc",
   "metadata": {},
   "outputs": [],
   "source": [
    "# подготовка данных\n",
    "\n",
    "# извлечь датасет из файла\n",
    "df = get_df(path_to_data, target)\n",
    "\n",
    "# заполнить колонки и имена колонок для тестового датасета\n",
    "cols, names = get_cols_and_names(df)\n",
    "\n",
    "# создать тестовый/тренировочный датасет\n",
    "prepared_df = prepare_df(cols,names)\n",
    "\n",
    "# создать тестовые/тренировочные данные из тестового датасета\n",
    "prepared_data = prep_data_4_1_time(cols, names, prepared_df)\n",
    "\n",
    "X_train,Y_train,X_test,Y_test = prepared_data"
   ]
  },
  {
   "cell_type": "code",
   "execution_count": 12,
   "id": "26b44883",
   "metadata": {},
   "outputs": [
    {
     "name": "stdout",
     "output_type": "stream",
     "text": [
      "WARNING:tensorflow:Layer dense is casting an input tensor from dtype float64 to the layer's dtype of float32, which is new behavior in TensorFlow 2.  The layer has dtype float32 because its dtype defaults to floatx.\n",
      "\n",
      "If you intended to run this layer in float32, you can safely ignore this warning. If in doubt, this warning is likely only an issue if you are porting a TensorFlow 1.X model to TensorFlow 2.\n",
      "\n",
      "To change all layers to have dtype float64 by default, call `tf.keras.backend.set_floatx('float64')`. To change just this layer, pass dtype='float64' to the layer constructor. If you are the author of this layer, you can disable autocasting by passing autocast=False to the base Layer constructor.\n",
      "\n",
      "172/172 [==============================] - 0s 843us/step - loss: 0.0487 - val_loss: 0.0470\n",
      "172/172 [==============================] - 0s 425us/step - loss: 0.0422 - val_loss: 0.0360\n",
      "172/172 [==============================] - 0s 413us/step - loss: 0.0374 - val_loss: 0.0286\n",
      "172/172 [==============================] - 0s 413us/step - loss: 0.0333 - val_loss: 0.0241\n",
      "172/172 [==============================] - 0s 413us/step - loss: 0.0291 - val_loss: 0.0205\n",
      "172/172 [==============================] - 0s 419us/step - loss: 0.0247 - val_loss: 0.0174\n",
      "172/172 [==============================] - 0s 407us/step - loss: 0.0203 - val_loss: 0.0136\n",
      "172/172 [==============================] - 0s 419us/step - loss: 0.0161 - val_loss: 0.0103\n",
      "172/172 [==============================] - 0s 408us/step - loss: 0.0122 - val_loss: 0.0082\n",
      "172/172 [==============================] - 0s 413us/step - loss: 0.0091 - val_loss: 0.0060\n",
      "172/172 [==============================] - 0s 413us/step - loss: 0.0067 - val_loss: 0.0035\n",
      "172/172 [==============================] - 0s 413us/step - loss: 0.0050 - val_loss: 0.0026\n",
      "172/172 [==============================] - 0s 407us/step - loss: 0.0038 - val_loss: 0.0012\n",
      "172/172 [==============================] - 0s 413us/step - loss: 0.0031 - val_loss: 0.0012\n",
      "172/172 [==============================] - 0s 407us/step - loss: 0.0026 - val_loss: 6.6836e-04\n",
      "172/172 [==============================] - 0s 413us/step - loss: 0.0024 - val_loss: 4.4192e-04\n",
      "172/172 [==============================] - 0s 407us/step - loss: 0.0022 - val_loss: 3.6708e-04\n",
      "172/172 [==============================] - 0s 413us/step - loss: 0.0021 - val_loss: 3.8968e-04\n",
      "172/172 [==============================] - 0s 413us/step - loss: 0.0020 - val_loss: 3.0396e-04\n",
      "172/172 [==============================] - 0s 407us/step - loss: 0.0019 - val_loss: 3.1177e-04\n",
      "172/172 [==============================] - 0s 415us/step - loss: 0.0019 - val_loss: 2.7887e-04\n",
      "172/172 [==============================] - 0s 419us/step - loss: 0.0019 - val_loss: 2.7584e-04\n",
      "172/172 [==============================] - 0s 425us/step - loss: 0.0019 - val_loss: 2.6441e-04\n",
      "172/172 [==============================] - 0s 442us/step - loss: 0.0019 - val_loss: 2.6658e-04\n",
      "172/172 [==============================] - 0s 407us/step - loss: 0.0018 - val_loss: 2.6350e-04\n",
      "172/172 [==============================] - 0s 407us/step - loss: 0.0018 - val_loss: 2.5813e-04\n",
      "172/172 [==============================] - 0s 413us/step - loss: 0.0018 - val_loss: 3.2499e-04\n",
      "172/172 [==============================] - 0s 407us/step - loss: 0.0018 - val_loss: 2.8794e-04\n",
      "154/172 [=========================>....] - ETA: 0s - loss: 0.0019\n",
      "Epoch 00029: ReduceLROnPlateau reducing learning rate to 4.999999873689376e-06.\n",
      "172/172 [==============================] - 0s 419us/step - loss: 0.0018 - val_loss: 2.6673e-04\n",
      "172/172 [==============================] - 0s 413us/step - loss: 0.0018 - val_loss: 2.5947e-04\n",
      "172/172 [==============================] - 0s 413us/step - loss: 0.0018 - val_loss: 2.5969e-04\n",
      "172/172 [==============================] - 0s 407us/step - loss: 0.0018 - val_loss: 2.5981e-04\n",
      "172/172 [==============================] - 0s 407us/step - loss: 0.0018 - val_loss: 2.6151e-04\n",
      "172/172 [==============================] - 0s 413us/step - loss: 0.0018 - val_loss: 2.5952e-04\n",
      "172/172 [==============================] - 0s 407us/step - loss: 0.0018 - val_loss: 2.6033e-04\n",
      "172/172 [==============================] - 0s 412us/step - loss: 0.0018 - val_loss: 2.5871e-04\n",
      "172/172 [==============================] - 0s 407us/step - loss: 0.0018 - val_loss: 2.5848e-04\n",
      "172/172 [==============================] - 0s 407us/step - loss: 0.0018 - val_loss: 2.5958e-04\n",
      "157/172 [==========================>...] - ETA: 0s - loss: 0.0016\n",
      "Epoch 00039: ReduceLROnPlateau reducing learning rate to 4.999999873689376e-07.\n",
      "172/172 [==============================] - 0s 407us/step - loss: 0.0018 - val_loss: 2.5829e-04\n",
      "172/172 [==============================] - 0s 407us/step - loss: 0.0018 - val_loss: 2.5841e-04\n",
      "172/172 [==============================] - 0s 401us/step - loss: 0.0018 - val_loss: 2.5848e-04\n",
      "172/172 [==============================] - 0s 407us/step - loss: 0.0018 - val_loss: 2.5880e-04\n",
      "172/172 [==============================] - 0s 413us/step - loss: 0.0018 - val_loss: 2.5896e-04\n",
      "172/172 [==============================] - 0s 419us/step - loss: 0.0018 - val_loss: 2.5911e-04\n",
      "172/172 [==============================] - 0s 425us/step - loss: 0.0018 - val_loss: 2.5925e-04\n"
     ]
    }
   ],
   "source": [
    "# тренировка модели\n",
    "history = model.fit(X_train, \n",
    "                    Y_train, \n",
    "                    batch_size = FIT_batch_size, \n",
    "                    epochs = FIT_epochs, \n",
    "                    verbose = FIT_verbose, \n",
    "                    validation_split = FIT_validation_split, \n",
    "                    shuffle = FIT_shuffle, \n",
    "                    callbacks = FIT_callback_list)"
   ]
  },
  {
   "cell_type": "code",
   "execution_count": 13,
   "id": "9a6c1b04",
   "metadata": {},
   "outputs": [
    {
     "data": {
      "image/png": "[encoded data removed]",
      "text/plain": [
       "<Figure size 432x288 with 1 Axes>"
      ]
     },
     "metadata": {
      "needs_background": "light"
     },
     "output_type": "display_data"
    }
   ],
   "source": [
    "# Вывод графика изменения ошибки\n",
    "plt.plot(history.history['loss'])\n",
    "plt.plot(history.history['val_loss'])\n",
    "plt.title('model loss')\n",
    "plt.ylabel('loss')\n",
    "plt.xlabel('epoch')\n",
    "plt.legend(['train', 'val'], loc = 'upper left')\n",
    "plt.show()"
   ]
  },
  {
   "cell_type": "code",
   "execution_count": 14,
   "id": "f1e53de1",
   "metadata": {},
   "outputs": [
    {
     "name": "stdout",
     "output_type": "stream",
     "text": [
      "54/54 [==============================] - 0s 445us/step - loss: 4.5868e-04\n"
     ]
    },
    {
     "data": {
      "text/plain": [
       "0.00045867630979046226"
      ]
     },
     "execution_count": 14,
     "metadata": {},
     "output_type": "execute_result"
    }
   ],
   "source": [
    "# тест модели\n",
    "\n",
    "model.evaluate(X_test, Y_test, batch_size = FIT_batch_size)"
   ]
  },
  {
   "cell_type": "code",
   "execution_count": 15,
   "id": "b77977ea",
   "metadata": {},
   "outputs": [
    {
     "data": {
      "text/html": [
       "<div>\n",
       "<style scoped>\n",
       "    .dataframe tbody tr th:only-of-type {\n",
       "        vertical-align: middle;\n",
       "    }\n",
       "\n",
       "    .dataframe tbody tr th {\n",
       "        vertical-align: top;\n",
       "    }\n",
       "\n",
       "    .dataframe thead th {\n",
       "        text-align: right;\n",
       "    }\n",
       "</style>\n",
       "<table border=\"1\" class=\"dataframe\">\n",
       "  <thead>\n",
       "    <tr style=\"text-align: right;\">\n",
       "      <th></th>\n",
       "      <th>4</th>\n",
       "      <th>3</th>\n",
       "      <th>2</th>\n",
       "      <th>1</th>\n",
       "    </tr>\n",
       "  </thead>\n",
       "  <tbody>\n",
       "    <tr>\n",
       "      <th>867</th>\n",
       "      <td>0.253278</td>\n",
       "      <td>0.238095</td>\n",
       "      <td>0.229124</td>\n",
       "      <td>0.231194</td>\n",
       "    </tr>\n",
       "    <tr>\n",
       "      <th>868</th>\n",
       "      <td>0.238095</td>\n",
       "      <td>0.229124</td>\n",
       "      <td>0.231194</td>\n",
       "      <td>0.240856</td>\n",
       "    </tr>\n",
       "    <tr>\n",
       "      <th>869</th>\n",
       "      <td>0.229124</td>\n",
       "      <td>0.231194</td>\n",
       "      <td>0.240856</td>\n",
       "      <td>0.244997</td>\n",
       "    </tr>\n",
       "    <tr>\n",
       "      <th>870</th>\n",
       "      <td>0.231194</td>\n",
       "      <td>0.240856</td>\n",
       "      <td>0.244997</td>\n",
       "      <td>0.251208</td>\n",
       "    </tr>\n",
       "    <tr>\n",
       "      <th>871</th>\n",
       "      <td>0.240856</td>\n",
       "      <td>0.244997</td>\n",
       "      <td>0.251208</td>\n",
       "      <td>0.249137</td>\n",
       "    </tr>\n",
       "    <tr>\n",
       "      <th>...</th>\n",
       "      <td>...</td>\n",
       "      <td>...</td>\n",
       "      <td>...</td>\n",
       "      <td>...</td>\n",
       "    </tr>\n",
       "    <tr>\n",
       "      <th>1077</th>\n",
       "      <td>0.193237</td>\n",
       "      <td>0.196687</td>\n",
       "      <td>0.203589</td>\n",
       "      <td>0.204969</td>\n",
       "    </tr>\n",
       "    <tr>\n",
       "      <th>1078</th>\n",
       "      <td>0.196687</td>\n",
       "      <td>0.203589</td>\n",
       "      <td>0.204969</td>\n",
       "      <td>0.202208</td>\n",
       "    </tr>\n",
       "    <tr>\n",
       "      <th>1079</th>\n",
       "      <td>0.203589</td>\n",
       "      <td>0.204969</td>\n",
       "      <td>0.202208</td>\n",
       "      <td>0.200828</td>\n",
       "    </tr>\n",
       "    <tr>\n",
       "      <th>1080</th>\n",
       "      <td>0.204969</td>\n",
       "      <td>0.202208</td>\n",
       "      <td>0.200828</td>\n",
       "      <td>0.204279</td>\n",
       "    </tr>\n",
       "    <tr>\n",
       "      <th>1081</th>\n",
       "      <td>0.202208</td>\n",
       "      <td>0.200828</td>\n",
       "      <td>0.204279</td>\n",
       "      <td>0.213251</td>\n",
       "    </tr>\n",
       "  </tbody>\n",
       "</table>\n",
       "<p>215 rows × 4 columns</p>\n",
       "</div>"
      ],
      "text/plain": [
       "             4         3         2         1\n",
       "867   0.253278  0.238095  0.229124  0.231194\n",
       "868   0.238095  0.229124  0.231194  0.240856\n",
       "869   0.229124  0.231194  0.240856  0.244997\n",
       "870   0.231194  0.240856  0.244997  0.251208\n",
       "871   0.240856  0.244997  0.251208  0.249137\n",
       "...        ...       ...       ...       ...\n",
       "1077  0.193237  0.196687  0.203589  0.204969\n",
       "1078  0.196687  0.203589  0.204969  0.202208\n",
       "1079  0.203589  0.204969  0.202208  0.200828\n",
       "1080  0.204969  0.202208  0.200828  0.204279\n",
       "1081  0.202208  0.200828  0.204279  0.213251\n",
       "\n",
       "[215 rows x 4 columns]"
      ]
     },
     "execution_count": 15,
     "metadata": {},
     "output_type": "execute_result"
    }
   ],
   "source": [
    "X_test"
   ]
  },
  {
   "cell_type": "code",
   "execution_count": 16,
   "id": "d8029954",
   "metadata": {},
   "outputs": [
    {
     "name": "stdout",
     "output_type": "stream",
     "text": [
      "WARNING:tensorflow:From C:\\Users\\Narchi\\anaconda3\\envs\\netw\\lib\\site-packages\\tensorflow\\python\\training\\tracking\\tracking.py:111: Model.state_updates (from tensorflow.python.keras.engine.training) is deprecated and will be removed in a future version.\n",
      "Instructions for updating:\n",
      "This property should not be used in TensorFlow 2.0, as updates are applied automatically.\n",
      "WARNING:tensorflow:From C:\\Users\\Narchi\\anaconda3\\envs\\netw\\lib\\site-packages\\tensorflow\\python\\training\\tracking\\tracking.py:111: Layer.updates (from tensorflow.python.keras.engine.base_layer) is deprecated and will be removed in a future version.\n",
      "Instructions for updating:\n",
      "This property should not be used in TensorFlow 2.0, as updates are applied automatically.\n",
      "INFO:tensorflow:Assets written to: NetWork_4_to_1\\assets\n"
     ]
    }
   ],
   "source": [
    "model.save(\"NetWork_4_to_1\")"
   ]
  }
 ],
 "metadata": {
  "kernelspec": {
   "display_name": "Python 3 (ipykernel)",
   "language": "python",
   "name": "python3"
  },
  "language_info": {
   "codemirror_mode": {
    "name": "ipython",
    "version": 3
   },
   "file_extension": ".py",
   "mimetype": "text/x-python",
   "name": "python",
   "nbconvert_exporter": "python",
   "pygments_lexer": "ipython3",
   "version": "3.8.12"
  }
 },
 "nbformat": 4,
 "nbformat_minor": 5
}
